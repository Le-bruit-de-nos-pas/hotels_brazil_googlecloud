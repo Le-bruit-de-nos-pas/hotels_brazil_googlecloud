{
 "cells": [
  {
   "cell_type": "code",
   "execution_count": 1,
   "metadata": {},
   "outputs": [],
   "source": [
    "import pandas as pd\n",
    "import numpy as np  "
   ]
  },
  {
   "cell_type": "code",
   "execution_count": null,
   "metadata": {},
   "outputs": [],
   "source": [
    "hotel_city_chanel_combin_extract  = pd.read_csv('c:\\\\Users\\\\paulo\\\\Desktop\\\\hotels brazil\\\\data\\\\other\\\\hotel_city_chanel_combin_extract.csv')\n",
    "hotel_city_chanel_combin_extract"
   ]
  },
  {
   "cell_type": "code",
   "execution_count": 91,
   "metadata": {},
   "outputs": [],
   "source": [
    "hotel_city_chanel_combin_extract.dropna(inplace=True)"
   ]
  },
  {
   "cell_type": "code",
   "execution_count": null,
   "metadata": {},
   "outputs": [],
   "source": [
    "hotel_city_chanel_combin_extract['Hotel_ID'].nunique()"
   ]
  },
  {
   "cell_type": "code",
   "execution_count": 93,
   "metadata": {},
   "outputs": [],
   "source": [
    "def get_unseen_hotels(df, canal_id):\n",
    "    # Ensure canal_id is an integer\n",
    "    if not isinstance(canal_id, int):\n",
    "        raise ValueError(f\"Expected an integer for canal_id, but got {type(canal_id)}.\")\n",
    "\n",
    "    # Get the Cidade_IDs corresponding to the given Canal_ID\n",
    "    cidade_ids = df.loc[df['Canal_ID'] == canal_id, 'Cidade_ID'].unique()\n",
    "\n",
    "    # Get all Hotel_IDs in the corresponding Cidade_IDs\n",
    "    hotels_in_cidade = df.loc[df['Cidade_ID'].isin(cidade_ids), 'Hotel_ID'].unique()\n",
    "\n",
    "    # Get the Hotel_IDs already associated with the given Canal_ID\n",
    "    seen_hotels = df.loc[df['Canal_ID'] == canal_id, 'Hotel_ID'].unique()\n",
    "\n",
    "    # Filter out seen hotels\n",
    "    unseen_hotels = [hotel for hotel in hotels_in_cidade if hotel not in seen_hotels]\n",
    "\n",
    "    # Return unseen hotels as a DataFrame column, ensuring uniqueness\n",
    "    unseen_hotels_df = pd.DataFrame({'Unseen_Hotel_ID': unseen_hotels}).drop_duplicates()\n",
    "\n",
    "    return unseen_hotels_df\n"
   ]
  },
  {
   "cell_type": "code",
   "execution_count": null,
   "metadata": {},
   "outputs": [],
   "source": [
    "\n",
    "get_unseen_hotels(hotel_city_chanel_combin_extract, 1245)\n"
   ]
  },
  {
   "cell_type": "code",
   "execution_count": null,
   "metadata": {},
   "outputs": [],
   "source": [
    "hotel_city_chanel_combin_extract[hotel_city_chanel_combin_extract['Canal_ID']==1245].nunique()"
   ]
  },
  {
   "cell_type": "code",
   "execution_count": null,
   "metadata": {},
   "outputs": [],
   "source": [
    "hotel_city_chanel_combin_extract[hotel_city_chanel_combin_extract['Canal_ID']==1245]['Cidade_ID']"
   ]
  },
  {
   "cell_type": "code",
   "execution_count": null,
   "metadata": {},
   "outputs": [],
   "source": [
    "hotel_city_chanel_combin_extract.groupby('Canal_ID').size().reset_index(name='Counts').sort_values(by='Counts', ascending=True)"
   ]
  },
  {
   "cell_type": "code",
   "execution_count": null,
   "metadata": {},
   "outputs": [],
   "source": [
    "\n",
    "get_unseen_hotels(hotel_city_chanel_combin_extract, 1026)"
   ]
  },
  {
   "cell_type": "code",
   "execution_count": null,
   "metadata": {},
   "outputs": [],
   "source": [
    "hotel_city_chanel_combin_extract[hotel_city_chanel_combin_extract['Cidade_ID']==4464157.0]['Hotel_ID'].nunique()"
   ]
  },
  {
   "cell_type": "code",
   "execution_count": null,
   "metadata": {},
   "outputs": [],
   "source": []
  },
  {
   "cell_type": "code",
   "execution_count": null,
   "metadata": {},
   "outputs": [],
   "source": []
  },
  {
   "cell_type": "code",
   "execution_count": null,
   "metadata": {},
   "outputs": [],
   "source": [
    "hotel_city_chanel_combin_extract[hotel_city_chanel_combin_extract['Canal_ID'] == 124]['Hotel_ID'].nunique()"
   ]
  },
  {
   "cell_type": "code",
   "execution_count": null,
   "metadata": {},
   "outputs": [],
   "source": [
    "hotel_city_chanel_combin_extract[(hotel_city_chanel_combin_extract['Canal_ID'] == 124) & (hotel_city_chanel_combin_extract['Cidade_ID'] == 1571478)]"
   ]
  },
  {
   "cell_type": "code",
   "execution_count": null,
   "metadata": {},
   "outputs": [],
   "source": [
    "data_lake_prd_314410_cz_hoteis_canais_combinations  = pd.read_csv('c:\\\\Users\\\\paulo\\\\Desktop\\\\hotels brazil\\\\data\\\\lookups\\\\data-lake-prd-314410.cz.hoteis_canais_combinations.csv')\n",
    "data_lake_prd_314410_cz_hoteis_canais_combinations"
   ]
  },
  {
   "cell_type": "code",
   "execution_count": null,
   "metadata": {},
   "outputs": [],
   "source": [
    "# Split the 'distinct_combinations' column into two separate columns\n",
    "data_lake_prd_314410_cz_hoteis_canais_combinations[['Hotel_ID', 'Canal_ID']] = data_lake_prd_314410_cz_hoteis_canais_combinations['distinct_combinations'].str.split('-', expand=True)\n",
    "\n",
    "# Convert the new columns to integers\n",
    "data_lake_prd_314410_cz_hoteis_canais_combinations['Hotel_ID'] = data_lake_prd_314410_cz_hoteis_canais_combinations['Hotel_ID'].astype(int)\n",
    "data_lake_prd_314410_cz_hoteis_canais_combinations['Canal_ID'] = data_lake_prd_314410_cz_hoteis_canais_combinations['Canal_ID'].astype(int)\n",
    "\n",
    "# Drop the original 'distinct_combinations' column\n",
    "data_lake_prd_314410_cz_hoteis_canais_combinations.drop(columns=['distinct_combinations'], inplace=True)\n",
    "data_lake_prd_314410_cz_hoteis_canais_combinations"
   ]
  },
  {
   "cell_type": "code",
   "execution_count": 2,
   "metadata": {},
   "outputs": [
    {
     "data": {
      "text/html": [
       "<div>\n",
       "<style scoped>\n",
       "    .dataframe tbody tr th:only-of-type {\n",
       "        vertical-align: middle;\n",
       "    }\n",
       "\n",
       "    .dataframe tbody tr th {\n",
       "        vertical-align: top;\n",
       "    }\n",
       "\n",
       "    .dataframe thead th {\n",
       "        text-align: right;\n",
       "    }\n",
       "</style>\n",
       "<table border=\"1\" class=\"dataframe\">\n",
       "  <thead>\n",
       "    <tr style=\"text-align: right;\">\n",
       "      <th></th>\n",
       "      <th>Hotel_ID</th>\n",
       "      <th>Rede_ID</th>\n",
       "      <th>Hotel</th>\n",
       "      <th>Estrelas</th>\n",
       "      <th>Endereco</th>\n",
       "      <th>Bairro</th>\n",
       "      <th>CEP</th>\n",
       "      <th>Quartos</th>\n",
       "      <th>CategoriaHotel</th>\n",
       "      <th>Moeda</th>\n",
       "      <th>StatusHotel</th>\n",
       "      <th>Cidade_ID</th>\n",
       "    </tr>\n",
       "  </thead>\n",
       "  <tbody>\n",
       "    <tr>\n",
       "      <th>0</th>\n",
       "      <td>3728</td>\n",
       "      <td>7</td>\n",
       "      <td>Gran Bourbon Hotel  Asunción</td>\n",
       "      <td>5.0</td>\n",
       "      <td>Avda Sudamericana 3104 esq. Atilano Caceres</td>\n",
       "      <td>NaN</td>\n",
       "      <td>NaN</td>\n",
       "      <td>168.0</td>\n",
       "      <td>Hotel</td>\n",
       "      <td>USD</td>\n",
       "      <td>3. Ativo</td>\n",
       "      <td>8009868.0</td>\n",
       "    </tr>\n",
       "    <tr>\n",
       "      <th>1</th>\n",
       "      <td>3765</td>\n",
       "      <td>217</td>\n",
       "      <td>Tamarijn Aruba All Inclusive Resort</td>\n",
       "      <td>3.0</td>\n",
       "      <td>J.E. Irausquin Blvd. 41 – Oranjestad,</td>\n",
       "      <td>NaN</td>\n",
       "      <td>NaN</td>\n",
       "      <td>236.0</td>\n",
       "      <td>Resort</td>\n",
       "      <td>USD</td>\n",
       "      <td>3. Ativo</td>\n",
       "      <td>8010716.0</td>\n",
       "    </tr>\n",
       "    <tr>\n",
       "      <th>2</th>\n",
       "      <td>4876</td>\n",
       "      <td>186</td>\n",
       "      <td>Dreams Las Mareas Costa Rica</td>\n",
       "      <td>5.0</td>\n",
       "      <td>Playa El Jobo, La Cruz</td>\n",
       "      <td>NaN</td>\n",
       "      <td>NaN</td>\n",
       "      <td>447.0</td>\n",
       "      <td>Resort</td>\n",
       "      <td>USD</td>\n",
       "      <td>3. Ativo</td>\n",
       "      <td>251869.0</td>\n",
       "    </tr>\n",
       "    <tr>\n",
       "      <th>3</th>\n",
       "      <td>5113</td>\n",
       "      <td>217</td>\n",
       "      <td>Divi Aruba Beach Resort All Inclusive</td>\n",
       "      <td>4.0</td>\n",
       "      <td>GWQQ+7P Oranjestad, Aruba</td>\n",
       "      <td>NaN</td>\n",
       "      <td>NaN</td>\n",
       "      <td>265.0</td>\n",
       "      <td>Resort</td>\n",
       "      <td>USD</td>\n",
       "      <td>3. Ativo</td>\n",
       "      <td>8010716.0</td>\n",
       "    </tr>\n",
       "    <tr>\n",
       "      <th>4</th>\n",
       "      <td>5114</td>\n",
       "      <td>217</td>\n",
       "      <td>Divi Dutch Village Beach Resort</td>\n",
       "      <td>4.0</td>\n",
       "      <td>J.E. Irausquin Blvd 47, Oranjestad,</td>\n",
       "      <td>NaN</td>\n",
       "      <td>NaN</td>\n",
       "      <td>123.0</td>\n",
       "      <td>Resort</td>\n",
       "      <td>USD</td>\n",
       "      <td>3. Ativo</td>\n",
       "      <td>8010716.0</td>\n",
       "    </tr>\n",
       "    <tr>\n",
       "      <th>...</th>\n",
       "      <td>...</td>\n",
       "      <td>...</td>\n",
       "      <td>...</td>\n",
       "      <td>...</td>\n",
       "      <td>...</td>\n",
       "      <td>...</td>\n",
       "      <td>...</td>\n",
       "      <td>...</td>\n",
       "      <td>...</td>\n",
       "      <td>...</td>\n",
       "      <td>...</td>\n",
       "      <td>...</td>\n",
       "    </tr>\n",
       "    <tr>\n",
       "      <th>19645</th>\n",
       "      <td>20835</td>\n",
       "      <td>555</td>\n",
       "      <td>VOA Pousada Divino Oleiro</td>\n",
       "      <td>3.0</td>\n",
       "      <td>Av. Papemborg,SN</td>\n",
       "      <td>NaN</td>\n",
       "      <td>88190-000</td>\n",
       "      <td>35.0</td>\n",
       "      <td>Hotel</td>\n",
       "      <td>BRL</td>\n",
       "      <td>2. Em Implantação</td>\n",
       "      <td>6044433.0</td>\n",
       "    </tr>\n",
       "    <tr>\n",
       "      <th>19646</th>\n",
       "      <td>20606</td>\n",
       "      <td>0</td>\n",
       "      <td>Hotel Janaina</td>\n",
       "      <td>4.0</td>\n",
       "      <td>Rua Rodolfo Patrocinio Goncalves Terreo, 50 - ...</td>\n",
       "      <td>Pereque</td>\n",
       "      <td>88210-000</td>\n",
       "      <td>23.0</td>\n",
       "      <td>Hotel</td>\n",
       "      <td>BRL</td>\n",
       "      <td>2. Em Implantação</td>\n",
       "      <td>1531473.0</td>\n",
       "    </tr>\n",
       "    <tr>\n",
       "      <th>19647</th>\n",
       "      <td>20764</td>\n",
       "      <td>0</td>\n",
       "      <td>Hotel Vivenda dos Sonhos</td>\n",
       "      <td>3.0</td>\n",
       "      <td>R. Santa Maria, 40 - Carniel, Gramado - RS, 95...</td>\n",
       "      <td>Carniel</td>\n",
       "      <td>95670-792</td>\n",
       "      <td>15.0</td>\n",
       "      <td>Hotel</td>\n",
       "      <td>BRL</td>\n",
       "      <td>2. Em Implantação</td>\n",
       "      <td>4464157.0</td>\n",
       "    </tr>\n",
       "    <tr>\n",
       "      <th>19648</th>\n",
       "      <td>20366</td>\n",
       "      <td>79</td>\n",
       "      <td>Double Tree Canela</td>\n",
       "      <td>3.0</td>\n",
       "      <td>RUA JOSE PEDRO PIVA 277</td>\n",
       "      <td>NaN</td>\n",
       "      <td>95680-000</td>\n",
       "      <td>120.0</td>\n",
       "      <td>Hotel</td>\n",
       "      <td>BRL</td>\n",
       "      <td>2. Em Implantação</td>\n",
       "      <td>3146178.0</td>\n",
       "    </tr>\n",
       "    <tr>\n",
       "      <th>19649</th>\n",
       "      <td>20822</td>\n",
       "      <td>0</td>\n",
       "      <td>O Canto do Vale Trancoso</td>\n",
       "      <td>3.0</td>\n",
       "      <td>Rua do Piri, 8888 - Bairro: Trancoso</td>\n",
       "      <td>Trancoso</td>\n",
       "      <td>45818-000</td>\n",
       "      <td>5.0</td>\n",
       "      <td>Hotel</td>\n",
       "      <td>BRL</td>\n",
       "      <td>2. Em Implantação</td>\n",
       "      <td>8010651.0</td>\n",
       "    </tr>\n",
       "  </tbody>\n",
       "</table>\n",
       "<p>19650 rows × 12 columns</p>\n",
       "</div>"
      ],
      "text/plain": [
       "       Hotel_ID  Rede_ID                                  Hotel  Estrelas  \\\n",
       "0          3728        7           Gran Bourbon Hotel  Asunción       5.0   \n",
       "1          3765      217    Tamarijn Aruba All Inclusive Resort       3.0   \n",
       "2          4876      186           Dreams Las Mareas Costa Rica       5.0   \n",
       "3          5113      217  Divi Aruba Beach Resort All Inclusive       4.0   \n",
       "4          5114      217        Divi Dutch Village Beach Resort       4.0   \n",
       "...         ...      ...                                    ...       ...   \n",
       "19645     20835      555              VOA Pousada Divino Oleiro       3.0   \n",
       "19646     20606        0                          Hotel Janaina       4.0   \n",
       "19647     20764        0               Hotel Vivenda dos Sonhos       3.0   \n",
       "19648     20366       79                     Double Tree Canela       3.0   \n",
       "19649     20822        0               O Canto do Vale Trancoso       3.0   \n",
       "\n",
       "                                                Endereco    Bairro  \\\n",
       "0            Avda Sudamericana 3104 esq. Atilano Caceres       NaN   \n",
       "1                  J.E. Irausquin Blvd. 41 – Oranjestad,       NaN   \n",
       "2                                 Playa El Jobo, La Cruz       NaN   \n",
       "3                              GWQQ+7P Oranjestad, Aruba       NaN   \n",
       "4                   J.E. Irausquin Blvd 47, Oranjestad,        NaN   \n",
       "...                                                  ...       ...   \n",
       "19645                                   Av. Papemborg,SN       NaN   \n",
       "19646  Rua Rodolfo Patrocinio Goncalves Terreo, 50 - ...   Pereque   \n",
       "19647  R. Santa Maria, 40 - Carniel, Gramado - RS, 95...   Carniel   \n",
       "19648                            RUA JOSE PEDRO PIVA 277       NaN   \n",
       "19649               Rua do Piri, 8888 - Bairro: Trancoso  Trancoso   \n",
       "\n",
       "              CEP  Quartos CategoriaHotel Moeda        StatusHotel  Cidade_ID  \n",
       "0             NaN    168.0          Hotel   USD           3. Ativo  8009868.0  \n",
       "1             NaN    236.0         Resort   USD           3. Ativo  8010716.0  \n",
       "2             NaN    447.0         Resort   USD           3. Ativo   251869.0  \n",
       "3             NaN    265.0         Resort   USD           3. Ativo  8010716.0  \n",
       "4             NaN    123.0         Resort   USD           3. Ativo  8010716.0  \n",
       "...           ...      ...            ...   ...                ...        ...  \n",
       "19645   88190-000     35.0          Hotel   BRL  2. Em Implantação  6044433.0  \n",
       "19646   88210-000     23.0          Hotel   BRL  2. Em Implantação  1531473.0  \n",
       "19647   95670-792     15.0          Hotel   BRL  2. Em Implantação  4464157.0  \n",
       "19648   95680-000    120.0          Hotel   BRL  2. Em Implantação  3146178.0  \n",
       "19649   45818-000      5.0          Hotel   BRL  2. Em Implantação  8010651.0  \n",
       "\n",
       "[19650 rows x 12 columns]"
      ]
     },
     "execution_count": 2,
     "metadata": {},
     "output_type": "execute_result"
    }
   ],
   "source": [
    "data_lake_prd_314410_cz_hoteis = pd.read_csv('c:\\\\Users\\\\paulo\\\\Desktop\\\\hotels brazil\\\\data\\\\lookups\\\\data-lake-prd-314410.cz.hoteis.csv')\n",
    "data_lake_prd_314410_cz_hoteis"
   ]
  },
  {
   "cell_type": "code",
   "execution_count": 6,
   "metadata": {},
   "outputs": [],
   "source": [
    "lisbon_hotels = data_lake_prd_314410_cz_hoteis[data_lake_prd_314410_cz_hoteis['Cidade_ID']==509072]['Hotel_ID']"
   ]
  },
  {
   "cell_type": "code",
   "execution_count": 7,
   "metadata": {},
   "outputs": [
    {
     "data": {
      "text/plain": [
       "[373,\n",
       " 465,\n",
       " 17497,\n",
       " 925,\n",
       " 1630,\n",
       " 417,\n",
       " 9065,\n",
       " 335,\n",
       " 13259,\n",
       " 447,\n",
       " 415,\n",
       " 4388,\n",
       " 4379,\n",
       " 474,\n",
       " 65,\n",
       " 464,\n",
       " 5752,\n",
       " 565,\n",
       " 470,\n",
       " 370,\n",
       " 2700,\n",
       " 477,\n",
       " 17958,\n",
       " 489,\n",
       " 1316,\n",
       " 441,\n",
       " 476,\n",
       " 899,\n",
       " 1629,\n",
       " 922,\n",
       " 924,\n",
       " 903,\n",
       " 1472,\n",
       " 1473,\n",
       " 1596,\n",
       " 3838,\n",
       " 1213,\n",
       " 1667,\n",
       " 1621,\n",
       " 1286,\n",
       " 1048,\n",
       " 414,\n",
       " 368,\n",
       " 6734,\n",
       " 6736,\n",
       " 509,\n",
       " 340,\n",
       " 334,\n",
       " 848,\n",
       " 329,\n",
       " 500,\n",
       " 336,\n",
       " 1049,\n",
       " 4018,\n",
       " 4827,\n",
       " 488,\n",
       " 318,\n",
       " 9209,\n",
       " 485,\n",
       " 364,\n",
       " 413,\n",
       " 490,\n",
       " 463,\n",
       " 418,\n",
       " 1038,\n",
       " 906,\n",
       " 911,\n",
       " 4525,\n",
       " 487,\n",
       " 1666,\n",
       " 1691,\n",
       " 761,\n",
       " 3833,\n",
       " 344,\n",
       " 904,\n",
       " 481,\n",
       " 1628,\n",
       " 1036,\n",
       " 4625,\n",
       " 467,\n",
       " 929,\n",
       " 382,\n",
       " 960,\n",
       " 914,\n",
       " 1091,\n",
       " 4067,\n",
       " 1092,\n",
       " 2522,\n",
       " 1090,\n",
       " 1167,\n",
       " 2719,\n",
       " 1089,\n",
       " 1620,\n",
       " 505,\n",
       " 600,\n",
       " 3919,\n",
       " 1449,\n",
       " 1665,\n",
       " 4075,\n",
       " 513,\n",
       " 931,\n",
       " 66,\n",
       " 342,\n",
       " 423,\n",
       " 3269,\n",
       " 908,\n",
       " 486,\n",
       " 732,\n",
       " 794,\n",
       " 849,\n",
       " 3739,\n",
       " 725,\n",
       " 444,\n",
       " 902,\n",
       " 514,\n",
       " 501,\n",
       " 473,\n",
       " 426,\n",
       " 4528,\n",
       " 1664,\n",
       " 913,\n",
       " 770,\n",
       " 555,\n",
       " 333,\n",
       " 1552,\n",
       " 545,\n",
       " 4649,\n",
       " 498,\n",
       " 917,\n",
       " 6342,\n",
       " 2247,\n",
       " 4009,\n",
       " 1695,\n",
       " 847,\n",
       " 916,\n",
       " 1881,\n",
       " 2320,\n",
       " 2869,\n",
       " 3706,\n",
       " 9848,\n",
       " 2682,\n",
       " 9629,\n",
       " 921,\n",
       " 337,\n",
       " 915,\n",
       " 923,\n",
       " 1554,\n",
       " 17657,\n",
       " 3870,\n",
       " 4648,\n",
       " 4826,\n",
       " 4,\n",
       " 963,\n",
       " 1794,\n",
       " 932,\n",
       " 2567,\n",
       " 1471,\n",
       " 2383,\n",
       " 1634,\n",
       " 506,\n",
       " 1187,\n",
       " 1186,\n",
       " 934,\n",
       " 935,\n",
       " 2564,\n",
       " 927,\n",
       " 504,\n",
       " 1729,\n",
       " 2867,\n",
       " 2702,\n",
       " 955,\n",
       " 478,\n",
       " 933,\n",
       " 9315,\n",
       " 1073,\n",
       " 700,\n",
       " 928,\n",
       " 16336,\n",
       " 2697,\n",
       " 2698]"
      ]
     },
     "execution_count": 7,
     "metadata": {},
     "output_type": "execute_result"
    }
   ],
   "source": [
    "lisbon_hotels.tolist()"
   ]
  },
  {
   "cell_type": "code",
   "execution_count": 25,
   "metadata": {},
   "outputs": [],
   "source": [
    "data_lake_prd_314410_cz_hoteis = data_lake_prd_314410_cz_hoteis[['Hotel_ID', 'Estrelas', 'Quartos', 'CategoriaHotel', 'Moeda', 'Cidade_ID']]"
   ]
  },
  {
   "cell_type": "code",
   "execution_count": null,
   "metadata": {},
   "outputs": [],
   "source": [
    "data_lake_prd_314410_cz_hoteis"
   ]
  },
  {
   "cell_type": "code",
   "execution_count": null,
   "metadata": {},
   "outputs": [],
   "source": [
    "data_lake_prd_314410_cz_cidades = pd.read_csv('c:\\\\Users\\\\paulo\\\\Desktop\\\\hotels brazil\\\\data\\\\lookups\\\\data-lake-prd-314410.cz.cidades.csv')\n",
    "data_lake_prd_314410_cz_cidades"
   ]
  },
  {
   "cell_type": "code",
   "execution_count": 28,
   "metadata": {},
   "outputs": [],
   "source": [
    "data_lake_prd_314410_cz_cidades = data_lake_prd_314410_cz_cidades[['Cidade_ID', 'Pais']]"
   ]
  },
  {
   "cell_type": "code",
   "execution_count": null,
   "metadata": {},
   "outputs": [],
   "source": [
    "merged_data = pd.merge(data_lake_prd_314410_cz_hoteis, \n",
    "                       data_lake_prd_314410_cz_cidades, \n",
    "                       on='Cidade_ID', \n",
    "                       how='left')\n",
    "merged_data"
   ]
  },
  {
   "cell_type": "code",
   "execution_count": null,
   "metadata": {},
   "outputs": [],
   "source": [
    "country_counts = merged_data.groupby('Pais').size().reset_index(name='Counts').sort_values(by='Counts', ascending=False)\n",
    "print(country_counts)"
   ]
  },
  {
   "cell_type": "code",
   "execution_count": null,
   "metadata": {},
   "outputs": [],
   "source": [
    "country_counts['Counts'].sum()"
   ]
  },
  {
   "cell_type": "code",
   "execution_count": null,
   "metadata": {},
   "outputs": [],
   "source": [
    "19397/19650  # 1.3% of the hotels cannot be mapped to a country ?"
   ]
  },
  {
   "cell_type": "code",
   "execution_count": null,
   "metadata": {},
   "outputs": [],
   "source": [
    "merged_data"
   ]
  },
  {
   "cell_type": "code",
   "execution_count": null,
   "metadata": {},
   "outputs": [],
   "source": [
    "merged_data.dropna(subset=['Pais'], inplace=True)\n",
    "merged_data.shape"
   ]
  },
  {
   "cell_type": "code",
   "execution_count": null,
   "metadata": {},
   "outputs": [],
   "source": [
    "merged_data.drop(columns=['Cidade_ID'], inplace=True)\n",
    "merged_data"
   ]
  },
  {
   "cell_type": "code",
   "execution_count": null,
   "metadata": {},
   "outputs": [],
   "source": [
    "merged_data"
   ]
  },
  {
   "cell_type": "code",
   "execution_count": 37,
   "metadata": {},
   "outputs": [],
   "source": [
    "data_lake_prd_314410_cz_pull_pesquisas_average_price_hotel_currency = pd.read_csv('c:\\\\Users\\\\paulo\\\\Desktop\\\\hotels brazil\\\\data\\\\other\\\\data-lake-prd-314410.cz.pull-pesquisas_average_price_hotel_currency.csv')\n",
    "data_lake_prd_314410_cz_moedas = pd.read_csv('c:\\\\Users\\\\paulo\\\\Desktop\\\\hotels brazil\\\\data\\\\lookups\\\\data-lake-prd-314410.cz.moedas.csv')"
   ]
  },
  {
   "cell_type": "code",
   "execution_count": null,
   "metadata": {},
   "outputs": [],
   "source": [
    "# Perform left join\n",
    "data_lake_prd_314410_cz_pull_pesquisas_average_price_hotel_currency = pd.merge(data_lake_prd_314410_cz_pull_pesquisas_average_price_hotel_currency, \n",
    "                     data_lake_prd_314410_cz_moedas[['Moeda_ID', 'Cotacao_USD']], \n",
    "                     on='Moeda_ID', \n",
    "                     how='left')\n",
    "\n",
    "# Display the merged dataframe\n",
    "print(data_lake_prd_314410_cz_pull_pesquisas_average_price_hotel_currency.head())"
   ]
  },
  {
   "cell_type": "code",
   "execution_count": 39,
   "metadata": {},
   "outputs": [],
   "source": [
    "data_lake_prd_314410_cz_pull_pesquisas_average_price_hotel_currency['weighted_mean_diaria_usd'] = \\\n",
    "    data_lake_prd_314410_cz_pull_pesquisas_average_price_hotel_currency['weighted_mean_diaria'] * \\\n",
    "        data_lake_prd_314410_cz_pull_pesquisas_average_price_hotel_currency['Cotacao_USD']"
   ]
  },
  {
   "cell_type": "code",
   "execution_count": null,
   "metadata": {},
   "outputs": [],
   "source": [
    "data_lake_prd_314410_cz_pull_pesquisas_average_price_hotel_currency"
   ]
  },
  {
   "cell_type": "code",
   "execution_count": null,
   "metadata": {},
   "outputs": [],
   "source": [
    "merged_data = pd.merge(merged_data, \n",
    "                     data_lake_prd_314410_cz_pull_pesquisas_average_price_hotel_currency[['Hotel_ID', 'Cotacao_USD', 'weighted_mean_diaria_usd']], \n",
    "                     on='Hotel_ID', \n",
    "                     how='left')\n",
    "\n",
    "merged_data"
   ]
  },
  {
   "cell_type": "code",
   "execution_count": 42,
   "metadata": {},
   "outputs": [],
   "source": [
    "data_lake_prd_314410_cz_pull_pesquisas_estadia_x_reservas_volume = pd.read_csv('c:\\\\Users\\\\paulo\\\\Desktop\\\\hotels brazil\\\\data\\\\other\\\\data-lake-prd-314410.cz.pull-pesquisas_estadia_x_reservas_volume.csv')\n"
   ]
  },
  {
   "cell_type": "code",
   "execution_count": null,
   "metadata": {},
   "outputs": [],
   "source": [
    "data_lake_prd_314410_cz_pull_pesquisas_estadia_x_reservas_volume"
   ]
  },
  {
   "cell_type": "code",
   "execution_count": null,
   "metadata": {},
   "outputs": [],
   "source": [
    "merged_data = pd.merge(merged_data, \n",
    "                     data_lake_prd_314410_cz_pull_pesquisas_estadia_x_reservas_volume, \n",
    "                     on='Hotel_ID', \n",
    "                     how='left')\n",
    "\n",
    "merged_data"
   ]
  },
  {
   "cell_type": "code",
   "execution_count": null,
   "metadata": {},
   "outputs": [],
   "source": [
    "data_lake_prd_314410_cz_pull_pesquisas_estadia_x_reservas_x_price_receitas = pd.read_csv('c:\\\\Users\\\\paulo\\\\Desktop\\\\hotels brazil\\\\data\\\\other\\\\data-lake-prd-314410.cz.pull-pesquisas_estadia_x_reservas_x_price_receitas.csv')\n",
    "data_lake_prd_314410_cz_pull_pesquisas_estadia_x_reservas_x_price_receitas"
   ]
  },
  {
   "cell_type": "code",
   "execution_count": null,
   "metadata": {},
   "outputs": [],
   "source": [
    "merged_data = pd.merge(merged_data, \n",
    "                     data_lake_prd_314410_cz_pull_pesquisas_estadia_x_reservas_x_price_receitas, \n",
    "                     on='Hotel_ID', \n",
    "                     how='left')\n",
    "\n",
    "merged_data"
   ]
  },
  {
   "cell_type": "code",
   "execution_count": null,
   "metadata": {},
   "outputs": [],
   "source": [
    "merged_data['total_reservas_estadia_diaria'] = \\\n",
    "    merged_data['total_reservas_estadia_diaria'] * \\\n",
    "        merged_data['Cotacao_USD']\n",
    "\n",
    "merged_data"
   ]
  },
  {
   "cell_type": "code",
   "execution_count": null,
   "metadata": {},
   "outputs": [],
   "source": [
    "merged_data.drop(columns=['Moeda'], inplace=True)\n",
    "merged_data"
   ]
  },
  {
   "cell_type": "code",
   "execution_count": null,
   "metadata": {},
   "outputs": [],
   "source": [
    "merged_data.drop(columns=['Cotacao_USD'], inplace=True)\n",
    "merged_data"
   ]
  },
  {
   "cell_type": "code",
   "execution_count": null,
   "metadata": {},
   "outputs": [],
   "source": [
    "merged_data.dropna(inplace=True)\n",
    "merged_data"
   ]
  },
  {
   "cell_type": "code",
   "execution_count": 52,
   "metadata": {},
   "outputs": [],
   "source": [
    "import pandas as pd\n",
    "from sklearn.preprocessing import StandardScaler\n",
    "from sklearn.cluster import KMeans\n",
    "from sklearn.metrics import silhouette_score\n",
    "from sklearn.decomposition import PCA\n",
    "import matplotlib.pyplot as plt\n"
   ]
  },
  {
   "cell_type": "code",
   "execution_count": 53,
   "metadata": {},
   "outputs": [],
   "source": [
    "# Select relevant columns\n",
    "numerical_cols = ['Estrelas', 'Quartos', 'weighted_mean_diaria_usd', \n",
    "                  'total_reservas_estadia', 'total_reservas_estadia_diaria']\n",
    "categorical_cols = ['CategoriaHotel', 'Pais']\n",
    "\n",
    "# Normalize numerical variables\n",
    "scaler = StandardScaler()\n",
    "data_scaled = scaler.fit_transform(merged_data[numerical_cols])\n",
    "\n",
    "# Encode categorical variables\n",
    "data_encoded = pd.get_dummies(merged_data[categorical_cols], drop_first=True)\n",
    "\n",
    "# Combine normalized and encoded data\n",
    "data_final = pd.concat([pd.DataFrame(data_scaled, columns=numerical_cols), data_encoded.reset_index(drop=True)], axis=1)\n"
   ]
  },
  {
   "cell_type": "code",
   "execution_count": null,
   "metadata": {},
   "outputs": [],
   "source": [
    "# Determine optimal number of clusters using the elbow method\n",
    "wcss = []\n",
    "for i in range(2, 10):\n",
    "    kmeans = KMeans(n_clusters=i, random_state=42)\n",
    "    kmeans.fit(data_final)\n",
    "    wcss.append(kmeans.inertia_)\n",
    "\n",
    "plt.plot(range(2, 10), wcss, marker='o')\n",
    "plt.xlabel('Number of clusters')\n",
    "plt.ylabel('WCSS')\n",
    "plt.title('Elbow Method')\n",
    "plt.show()"
   ]
  },
  {
   "cell_type": "code",
   "execution_count": null,
   "metadata": {},
   "outputs": [],
   "source": [
    "# Choose optimal number of clusters (e.g., k=4)\n",
    "kmeans = KMeans(n_clusters=10, random_state=42)\n",
    "merged_data['Cluster'] = kmeans.fit_predict(data_final)"
   ]
  },
  {
   "cell_type": "code",
   "execution_count": null,
   "metadata": {},
   "outputs": [],
   "source": [
    "# Analyze contributions using PCA\n",
    "pca = PCA(n_components=10)\n",
    "pca_data = pca.fit_transform(data_final)\n",
    "plt.scatter(pca_data[:, 2], pca_data[:, 3], c=merged_data['Cluster'], cmap='viridis')\n",
    "plt.title('PCA of Clusters')\n",
    "plt.xlabel('PC1')\n",
    "plt.ylabel('PC2')\n",
    "plt.show()"
   ]
  },
  {
   "cell_type": "code",
   "execution_count": null,
   "metadata": {},
   "outputs": [],
   "source": [
    "# Analyze cluster centroids\n",
    "cluster_centers = pd.DataFrame(kmeans.cluster_centers_, columns=data_final.columns)\n",
    "important_vars = cluster_centers.T\n",
    "important_vars.columns = [f'Cluster_{i}' for i in range(10)]\n",
    "print(important_vars)"
   ]
  },
  {
   "cell_type": "code",
   "execution_count": 61,
   "metadata": {},
   "outputs": [],
   "source": [
    "to_export.to_csv('c:\\\\Users\\\\paulo\\\\Desktop\\\\hotels brazil\\\\data\\\\other\\\\clusters.csv')"
   ]
  },
  {
   "cell_type": "code",
   "execution_count": null,
   "metadata": {},
   "outputs": [],
   "source": [
    "import pandas as pd\n",
    "from sklearn.preprocessing import StandardScaler\n",
    "from sklearn.metrics.pairwise import cosine_similarity\n",
    "\n",
    "def preprocess_data(data):\n",
    "    \"\"\"\n",
    "    Preprocess the data to create a numerical feature matrix.\n",
    "    - Scales numerical columns\n",
    "    - One-hot encodes categorical columns\n",
    "    - Converts boolean columns to numerical\n",
    "    \"\"\"\n",
    "    # Define column groups\n",
    "    numerical_cols = ['Estrelas', 'Quartos', 'weighted_mean_diaria_usd', \n",
    "                      'total_reservas_estadia', 'total_reservas_estadia_diaria']\n",
    "    categorical_cols = ['CategoriaHotel', 'Pais']\n",
    "    boolean_cols = data.select_dtypes(include=['bool']).columns.tolist()\n",
    "    \n",
    "    # Convert boolean columns to integers\n",
    "    data[boolean_cols] = data[boolean_cols].astype(int)\n",
    "    \n",
    "    # Scale numerical columns\n",
    "    scaler = StandardScaler()\n",
    "    data_scaled = scaler.fit_transform(data[numerical_cols])\n",
    "    data_scaled_df = pd.DataFrame(data_scaled, columns=numerical_cols, index=data.index)\n",
    "    \n",
    "    # One-hot encode categorical columns\n",
    "    data_encoded = pd.get_dummies(data[categorical_cols], drop_first=True)\n",
    "    \n",
    "    # Combine scaled numerical, one-hot encoded categorical, and boolean features\n",
    "    features = pd.concat([data_scaled_df, data_encoded, data[boolean_cols]], axis=1)\n",
    "    return features"
   ]
  },
  {
   "cell_type": "code",
   "execution_count": 96,
   "metadata": {},
   "outputs": [],
   "source": [
    "from scipy.spatial.distance import cdist\n",
    "\n",
    "def rank_similar_hotels(hotel_id, data, features, metric='euclidean'):\n",
    "    \"\"\"\n",
    "    Rank hotels based on similarity to a given Hotel_ID.\n",
    "    \"\"\"\n",
    "    # Check if the Hotel_ID exists\n",
    "    if hotel_id not in data['Hotel_ID'].values:\n",
    "        raise ValueError(f\"Hotel_ID {hotel_id} not found in the dataset.\")\n",
    "    \n",
    "    # Get the index of the given Hotel_ID\n",
    "    idx = data.index[data['Hotel_ID'] == hotel_id][0]\n",
    "    \n",
    "    # Compute pairwise distances\n",
    "    distances = cdist([features.iloc[idx]], features, metric=metric)[0]\n",
    "    \n",
    "    # Add distances to the original dataset\n",
    "    data_copy = data.copy()\n",
    "    data_copy['Similarity'] = distances\n",
    "    \n",
    "    # Sort by similarity and return ranked hotels\n",
    "    ranked = data_copy.sort_values('Similarity').reset_index(drop=True)\n",
    "    return ranked[['Hotel_ID', 'Similarity']]\n"
   ]
  },
  {
   "cell_type": "code",
   "execution_count": 111,
   "metadata": {},
   "outputs": [],
   "source": [
    "def rank_similar_hotels_cosine(hotel_id, data, features):\n",
    "    \"\"\"\n",
    "    Rank hotels based on cosine similarity to a given Hotel_ID.\n",
    "    \"\"\"\n",
    "    # Ensure the Hotel_ID exists\n",
    "    if hotel_id not in data['Hotel_ID'].values:\n",
    "        raise ValueError(f\"Hotel_ID {hotel_id} not found in the dataset.\")\n",
    "    \n",
    "    # Get the index of the given Hotel_ID\n",
    "    idx = data.index[data['Hotel_ID'] == hotel_id][0]\n",
    "    \n",
    "    # Compute cosine similarity\n",
    "    similarity_scores = cosine_similarity([features.iloc[idx]], features)[0]\n",
    "    \n",
    "    # Add similarity scores to the original dataset\n",
    "    data_copy = data.copy()\n",
    "    data_copy['Similarity'] = similarity_scores\n",
    "    \n",
    "    # Sort by similarity and return ranked results\n",
    "    ranked = data_copy.sort_values('Similarity', ascending=False).reset_index(drop=True)\n",
    "    return ranked[['Hotel_ID', 'Similarity']]"
   ]
  },
  {
   "cell_type": "code",
   "execution_count": null,
   "metadata": {},
   "outputs": [],
   "source": [
    "# Sample Data\n",
    "data = merged_data\n",
    "\n",
    "# Step 1: Preprocess the data\n",
    "features = preprocess_data(data)\n",
    "\n",
    "# Step 2: Rank hotels similar to Hotel_ID 3728 using cosine similarity\n",
    "ranked_hotels = rank_similar_hotels_cosine(3728, data, features)\n",
    "\n",
    "# Step 3: Print results\n",
    "print(ranked_hotels)\n"
   ]
  },
  {
   "cell_type": "code",
   "execution_count": null,
   "metadata": {},
   "outputs": [],
   "source": [
    "merged_data[merged_data['Hotel_ID'].isin([3328, 9385, 17731])]\n"
   ]
  },
  {
   "cell_type": "code",
   "execution_count": null,
   "metadata": {},
   "outputs": [],
   "source": [
    "merged_data[merged_data['Cluster'].isin([0])]\n"
   ]
  },
  {
   "cell_type": "code",
   "execution_count": null,
   "metadata": {},
   "outputs": [],
   "source": []
  }
 ],
 "metadata": {
  "kernelspec": {
   "display_name": "Python 3",
   "language": "python",
   "name": "python3"
  },
  "language_info": {
   "codemirror_mode": {
    "name": "ipython",
    "version": 3
   },
   "file_extension": ".py",
   "mimetype": "text/x-python",
   "name": "python",
   "nbconvert_exporter": "python",
   "pygments_lexer": "ipython3",
   "version": "3.10.6"
  }
 },
 "nbformat": 4,
 "nbformat_minor": 2
}
