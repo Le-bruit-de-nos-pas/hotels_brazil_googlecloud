{
 "cells": [
  {
   "cell_type": "code",
   "execution_count": 2,
   "metadata": {},
   "outputs": [],
   "source": [
    "import pandas as pd\n",
    "import numpy as np  \n",
    "import os"
   ]
  },
  {
   "cell_type": "code",
   "execution_count": 3,
   "metadata": {},
   "outputs": [],
   "source": [
    "# Get the current directory\n",
    "current_dir = os.getcwd()\n",
    "\n",
    "# Navigate one folder up\n",
    "parent_dir = os.path.dirname(current_dir)\n",
    "\n",
    "# Where the files are located\n",
    "data = 'data\\pull-pesquisas-city-2851556'\n",
    "\n",
    "# Navigate down into the \"data\" folder\n",
    "data_dir = os.path.join(parent_dir, data)\n"
   ]
  },
  {
   "cell_type": "code",
   "execution_count": 4,
   "metadata": {},
   "outputs": [
    {
     "name": "stdout",
     "output_type": "stream",
     "text": [
      "File: data-lake-prd-314410.cz.pull-pesquisas_city_2851556_2020.csv | Dimensions: (1, 22)\n",
      "File: data-lake-prd-314410.cz.pull-pesquisas_city_2851556_2021.csv | Dimensions: (115243, 22)\n",
      "File: data-lake-prd-314410.cz.pull-pesquisas_city_2851556_2022.csv | Dimensions: (1247986, 22)\n",
      "File: data-lake-prd-314410.cz.pull-pesquisas_city_2851556_2023.csv | Dimensions: (1430037, 22)\n",
      "File: data-lake-prd-314410.cz.pull-pesquisas_city_2851556_2024.csv | Dimensions: (1579543, 22)\n",
      "Combined DataFrame Dimensions: (4372810, 22)\n",
      "Row count verification successful! Total rows match.\n",
      "                      Data   Data_ID  Canal_ID  Credencial_ID  Integrador_ID  \\\n",
      "0  2020-06-05 00:00:00 UTC  20200605       367              0             50   \n",
      "1  2021-12-24 00:00:00 UTC  20211224         1              0              0   \n",
      "2  2021-12-24 00:00:00 UTC  20211224        10              0              0   \n",
      "3  2021-12-24 00:00:00 UTC  20211224       909           8112            120   \n",
      "4  2021-12-24 00:00:00 UTC  20211224       213           3697             55   \n",
      "\n",
      "   Cidade_ID  Hotel_ID  Ocupacao_ID  CheckIn_ID  CheckOut_ID  ...  Estadia  \\\n",
      "0    2851556      5406          100    20220913     20220914  ...        1   \n",
      "1    2851556      5706          200    20211224     20211225  ...        1   \n",
      "2    2851556      5731          200    20211224     20211225  ...        1   \n",
      "3    2851556      7154          200    20211224     20211226  ...        2   \n",
      "4    2851556      8973          200    20211224     20211225  ...        1   \n",
      "\n",
      "   Moeda_ID  TipoPesquisa_ID  Requests  Requests_Com_Warning  \\\n",
      "0        16                3         0                     0   \n",
      "1        16                3         0                     0   \n",
      "2        16                3         0                     0   \n",
      "3        16                3         0                     0   \n",
      "4        16                3         0                     0   \n",
      "\n",
      "   Requests_Sem_Response  Requests_Com_Disponibilidade  DiariaMedia  \\\n",
      "0                      0                             0     1510.425   \n",
      "1                      0                             0      285.520   \n",
      "2                      0                             0      227.000   \n",
      "3                      0                             0      172.460   \n",
      "4                      0                             0      158.550   \n",
      "\n",
      "                Timestamp_process  Reservas  \n",
      "0   2022-04-01 17:45:03.86921 UTC         1  \n",
      "1  2021-12-25 00:00:03.172167 UTC         1  \n",
      "2   2021-12-24 23:15:02.52311 UTC         1  \n",
      "3   2021-12-24 23:15:02.52311 UTC         1  \n",
      "4  2021-12-24 23:45:02.719486 UTC         1  \n",
      "\n",
      "[5 rows x 22 columns]\n"
     ]
    }
   ],
   "source": [
    "# Initialize an empty list to store DataFrames\n",
    "dataframes = []\n",
    "\n",
    "# Variable to track total rows\n",
    "total_rows = 0\n",
    "\n",
    "# Loop through all files in the \"data\" folder\n",
    "try:\n",
    "    for file_name in os.listdir(data_dir):\n",
    "        \n",
    "        if file_name.endswith('.csv'):  # Check if the file is a CSV\n",
    "            \n",
    "            file_path = os.path.join(data_dir, file_name)\n",
    "            \n",
    "            # Read the CSV file into a DataFrame\n",
    "            df = pd.read_csv(file_path)\n",
    "            dataframes.append(df)  # Append the DataFrame to the list\n",
    "            \n",
    "             # Print dimensions of the current file\n",
    "            print(f\"File: {file_name} | Dimensions: {df.shape}\")\n",
    "            \n",
    "            # Add the number of rows to the total count\n",
    "            total_rows += df.shape[0]\n",
    "\n",
    "    # Concatenate all DataFrames in the list by binding rows\n",
    "    combined_df = pd.concat(dataframes, ignore_index=True)\n",
    "\n",
    "    # Print dimensions of the combined DataFrame\n",
    "    print(f\"Combined DataFrame Dimensions: {combined_df.shape}\")\n",
    "\n",
    "    # Verify the sum of rows matches\n",
    "    if total_rows == combined_df.shape[0]:\n",
    "        print(\"Row count verification successful! Total rows match.\")\n",
    "    else:\n",
    "        print(\"Row count verification failed! Mismatch in row count.\")\n",
    "\n",
    "    print(combined_df.head())  # Display the first few rows of the combined DataFrame\n",
    "\n",
    "except FileNotFoundError:\n",
    "    print(f\"Folder '{data_dir}' not found.\")\n",
    "except Exception as e:\n",
    "    print(f\"An error occurred: {e}\")"
   ]
  },
  {
   "cell_type": "code",
   "execution_count": 5,
   "metadata": {},
   "outputs": [
    {
     "name": "stdout",
     "output_type": "stream",
     "text": [
      "Min Data_ID: 20200605, Max Data_ID: 20241231\n"
     ]
    }
   ],
   "source": [
    "data_id_min = combined_df['Data_ID'].min()\n",
    "data_id_max = combined_df['Data_ID'].max()\n",
    "print(f\"Min Data_ID: {data_id_min}, Max Data_ID: {data_id_max}\")"
   ]
  },
  {
   "cell_type": "code",
   "execution_count": 6,
   "metadata": {},
   "outputs": [
    {
     "name": "stdout",
     "output_type": "stream",
     "text": [
      "Number of distinct Hotel_IDs: 414\n"
     ]
    }
   ],
   "source": [
    "distinct_hotel_ids = combined_df['Hotel_ID'].nunique()\n",
    "print(f\"Number of distinct Hotel_IDs: {distinct_hotel_ids}\")"
   ]
  },
  {
   "cell_type": "code",
   "execution_count": 7,
   "metadata": {},
   "outputs": [
    {
     "name": "stdout",
     "output_type": "stream",
     "text": [
      "Number of distinct Hotel_IDs: 414\n",
      "Number of distinct Moeda_IDs: 2\n",
      "Number of distinct Canal_IDs: 366\n",
      "Number of distinct Reservas: 56\n",
      "Number of distinct DiariaMedia: 472812\n",
      "Number of distinct Estadias: 89\n"
     ]
    }
   ],
   "source": [
    "print(f\"Number of distinct Hotel_IDs: {combined_df['Hotel_ID'].nunique()}\")\n",
    "print(f\"Number of distinct Moeda_IDs: {combined_df['Moeda_ID'].nunique()}\")\n",
    "print(f\"Number of distinct Canal_IDs: {combined_df['Canal_ID'].nunique()}\")\n",
    "print(f\"Number of distinct Reservas: {combined_df['Reservas'].nunique()}\")\n",
    "print(f\"Number of distinct DiariaMedia: {combined_df['DiariaMedia'].nunique()}\")\n",
    "print(f\"Number of distinct Estadias: {combined_df['Estadia'].nunique()}\")"
   ]
  },
  {
   "cell_type": "code",
   "execution_count": 8,
   "metadata": {},
   "outputs": [],
   "source": [
    "combined_df['DiariaMedia'] = combined_df.apply(\n",
    "    lambda row: row['DiariaMedia'] * 0.16483969339817028 if row['Moeda_ID'] == 16 else row['DiariaMedia'], \n",
    "    axis=1\n",
    ")"
   ]
  },
  {
   "cell_type": "code",
   "execution_count": 9,
   "metadata": {},
   "outputs": [],
   "source": [
    "combined_df = combined_df.loc[:, ['Data',  'Hotel_ID', 'Ocupacao_ID', 'DiariaMedia', \"Estadia\", 'Reservas']]"
   ]
  },
  {
   "cell_type": "code",
   "execution_count": 11,
   "metadata": {},
   "outputs": [],
   "source": [
    "combined_df = combined_df.loc[combined_df.index.repeat(combined_df['Reservas'])].reset_index(drop=True)\n",
    "combined_df.Reservas = 1"
   ]
  },
  {
   "cell_type": "code",
   "execution_count": 12,
   "metadata": {},
   "outputs": [
    {
     "data": {
      "text/plain": [
       "4925449"
      ]
     },
     "execution_count": 12,
     "metadata": {},
     "output_type": "execute_result"
    }
   ],
   "source": [
    "combined_df.Reservas.sum() # 4925449 OK"
   ]
  },
  {
   "cell_type": "code",
   "execution_count": 21,
   "metadata": {},
   "outputs": [],
   "source": [
    "hotels_top_5 = combined_df.groupby('Hotel_ID').size().reset_index(name='Counts').sort_values(by='Counts', ascending=False).head(1)['Hotel_ID']"
   ]
  },
  {
   "cell_type": "code",
   "execution_count": 22,
   "metadata": {},
   "outputs": [
    {
     "data": {
      "text/plain": [
       "69    2094\n",
       "Name: Hotel_ID, dtype: int64"
      ]
     },
     "execution_count": 22,
     "metadata": {},
     "output_type": "execute_result"
    }
   ],
   "source": [
    "hotels_top_5"
   ]
  },
  {
   "cell_type": "code",
   "execution_count": 23,
   "metadata": {},
   "outputs": [
    {
     "data": {
      "text/plain": [
       "(102270, 6)"
      ]
     },
     "execution_count": 23,
     "metadata": {},
     "output_type": "execute_result"
    }
   ],
   "source": [
    "data = combined_df[combined_df['Hotel_ID'].isin(hotels_top_5)]\n",
    "data.shape"
   ]
  },
  {
   "cell_type": "code",
   "execution_count": 25,
   "metadata": {},
   "outputs": [],
   "source": [
    "data = data.loc[:, ['Data',  'Hotel_ID', 'DiariaMedia']]"
   ]
  },
  {
   "cell_type": "code",
   "execution_count": 26,
   "metadata": {},
   "outputs": [
    {
     "data": {
      "text/html": [
       "<div>\n",
       "<style scoped>\n",
       "    .dataframe tbody tr th:only-of-type {\n",
       "        vertical-align: middle;\n",
       "    }\n",
       "\n",
       "    .dataframe tbody tr th {\n",
       "        vertical-align: top;\n",
       "    }\n",
       "\n",
       "    .dataframe thead th {\n",
       "        text-align: right;\n",
       "    }\n",
       "</style>\n",
       "<table border=\"1\" class=\"dataframe\">\n",
       "  <thead>\n",
       "    <tr style=\"text-align: right;\">\n",
       "      <th></th>\n",
       "      <th>Data</th>\n",
       "      <th>Hotel_ID</th>\n",
       "      <th>DiariaMedia</th>\n",
       "    </tr>\n",
       "  </thead>\n",
       "  <tbody>\n",
       "    <tr>\n",
       "      <th>29</th>\n",
       "      <td>2021-12-24 00:00:00 UTC</td>\n",
       "      <td>2094</td>\n",
       "      <td>15.332564</td>\n",
       "    </tr>\n",
       "    <tr>\n",
       "      <th>31</th>\n",
       "      <td>2021-12-24 00:00:00 UTC</td>\n",
       "      <td>2094</td>\n",
       "      <td>24.453969</td>\n",
       "    </tr>\n",
       "    <tr>\n",
       "      <th>33</th>\n",
       "      <td>2021-12-24 00:00:00 UTC</td>\n",
       "      <td>2094</td>\n",
       "      <td>25.835875</td>\n",
       "    </tr>\n",
       "    <tr>\n",
       "      <th>357</th>\n",
       "      <td>2021-12-29 00:00:00 UTC</td>\n",
       "      <td>2094</td>\n",
       "      <td>33.112998</td>\n",
       "    </tr>\n",
       "    <tr>\n",
       "      <th>362</th>\n",
       "      <td>2021-12-29 00:00:00 UTC</td>\n",
       "      <td>2094</td>\n",
       "      <td>23.792961</td>\n",
       "    </tr>\n",
       "    <tr>\n",
       "      <th>...</th>\n",
       "      <td>...</td>\n",
       "      <td>...</td>\n",
       "      <td>...</td>\n",
       "    </tr>\n",
       "    <tr>\n",
       "      <th>4925253</th>\n",
       "      <td>2024-09-23 00:00:00 UTC</td>\n",
       "      <td>2094</td>\n",
       "      <td>59.015907</td>\n",
       "    </tr>\n",
       "    <tr>\n",
       "      <th>4925265</th>\n",
       "      <td>2024-09-23 00:00:00 UTC</td>\n",
       "      <td>2094</td>\n",
       "      <td>72.859144</td>\n",
       "    </tr>\n",
       "    <tr>\n",
       "      <th>4925310</th>\n",
       "      <td>2024-01-27 00:00:00 UTC</td>\n",
       "      <td>2094</td>\n",
       "      <td>42.569268</td>\n",
       "    </tr>\n",
       "    <tr>\n",
       "      <th>4925331</th>\n",
       "      <td>2024-08-26 00:00:00 UTC</td>\n",
       "      <td>2094</td>\n",
       "      <td>27.563669</td>\n",
       "    </tr>\n",
       "    <tr>\n",
       "      <th>4925384</th>\n",
       "      <td>2024-11-26 00:00:00 UTC</td>\n",
       "      <td>2094</td>\n",
       "      <td>58.363142</td>\n",
       "    </tr>\n",
       "  </tbody>\n",
       "</table>\n",
       "<p>102270 rows × 3 columns</p>\n",
       "</div>"
      ],
      "text/plain": [
       "                            Data  Hotel_ID  DiariaMedia\n",
       "29       2021-12-24 00:00:00 UTC      2094    15.332564\n",
       "31       2021-12-24 00:00:00 UTC      2094    24.453969\n",
       "33       2021-12-24 00:00:00 UTC      2094    25.835875\n",
       "357      2021-12-29 00:00:00 UTC      2094    33.112998\n",
       "362      2021-12-29 00:00:00 UTC      2094    23.792961\n",
       "...                          ...       ...          ...\n",
       "4925253  2024-09-23 00:00:00 UTC      2094    59.015907\n",
       "4925265  2024-09-23 00:00:00 UTC      2094    72.859144\n",
       "4925310  2024-01-27 00:00:00 UTC      2094    42.569268\n",
       "4925331  2024-08-26 00:00:00 UTC      2094    27.563669\n",
       "4925384  2024-11-26 00:00:00 UTC      2094    58.363142\n",
       "\n",
       "[102270 rows x 3 columns]"
      ]
     },
     "execution_count": 26,
     "metadata": {},
     "output_type": "execute_result"
    }
   ],
   "source": [
    "data"
   ]
  },
  {
   "cell_type": "code",
   "execution_count": 28,
   "metadata": {},
   "outputs": [],
   "source": [
    "data.rename(columns={'Data': 'date', 'Hotel_ID': 'hotel_id', 'DiariaMedia': 'price'}, inplace=True)\n",
    "data = data.loc[:, ['hotel_id',  'date', 'price']]"
   ]
  },
  {
   "cell_type": "code",
   "execution_count": null,
   "metadata": {},
   "outputs": [],
   "source": []
  },
  {
   "cell_type": "code",
   "execution_count": null,
   "metadata": {},
   "outputs": [],
   "source": []
  },
  {
   "cell_type": "code",
   "execution_count": null,
   "metadata": {},
   "outputs": [],
   "source": []
  },
  {
   "cell_type": "code",
   "execution_count": 27,
   "metadata": {},
   "outputs": [],
   "source": [
    "from sklearn.preprocessing import MinMaxScaler\n",
    "from sklearn.model_selection import train_test_split"
   ]
  },
  {
   "cell_type": "code",
   "execution_count": 29,
   "metadata": {},
   "outputs": [],
   "source": [
    "# Convert to datetime and sort\n",
    "data['date'] = pd.to_datetime(data['date'])\n",
    "data = data.sort_values(by=['hotel_id', 'date'])"
   ]
  },
  {
   "cell_type": "code",
   "execution_count": 33,
   "metadata": {},
   "outputs": [
    {
     "name": "stderr",
     "output_type": "stream",
     "text": [
      "C:\\Users\\paulo\\AppData\\Local\\Temp\\ipykernel_14108\\1711399606.py:12: FutureWarning: Setting an item of incompatible dtype is deprecated and will raise an error in a future version of pandas. Value '[0.05896063 0.06249764 0.05510551 ... 0.09232923 0.05574803 0.06112441]' has dtype incompatible with int64, please explicitly cast to a compatible dtype first.\n",
      "  data.loc[group.index, 'price_normalized'] = normalized_prices\n"
     ]
    }
   ],
   "source": [
    "# Normalize prices per hotel\n",
    "scalers = {}\n",
    "data['price_normalized'] = 0\n",
    "\n",
    "for hotel_id, group in data.groupby('hotel_id'):\n",
    "    # Create a new MinMaxScaler instance for each hotel\n",
    "    scaler = MinMaxScaler()\n",
    "    normalized_prices  = scaler.fit_transform(group[['price']])\n",
    "    scalers[hotel_id] = scaler\n",
    "    \n",
    "    # Assign the normalized prices back to the corresponding rows in the dataframe\n",
    "    data.loc[group.index, 'price_normalized'] = normalized_prices"
   ]
  },
  {
   "cell_type": "code",
   "execution_count": 35,
   "metadata": {},
   "outputs": [
    {
     "data": {
      "text/html": [
       "<div>\n",
       "<style scoped>\n",
       "    .dataframe tbody tr th:only-of-type {\n",
       "        vertical-align: middle;\n",
       "    }\n",
       "\n",
       "    .dataframe tbody tr th {\n",
       "        vertical-align: top;\n",
       "    }\n",
       "\n",
       "    .dataframe thead th {\n",
       "        text-align: right;\n",
       "    }\n",
       "</style>\n",
       "<table border=\"1\" class=\"dataframe\">\n",
       "  <thead>\n",
       "    <tr style=\"text-align: right;\">\n",
       "      <th></th>\n",
       "      <th>hotel_id</th>\n",
       "      <th>date</th>\n",
       "      <th>price</th>\n",
       "      <th>price_normalized</th>\n",
       "    </tr>\n",
       "  </thead>\n",
       "  <tbody>\n",
       "    <tr>\n",
       "      <th>1096</th>\n",
       "      <td>2094</td>\n",
       "      <td>2021-11-19 00:00:00+00:00</td>\n",
       "      <td>30.857991</td>\n",
       "      <td>0.058961</td>\n",
       "    </tr>\n",
       "    <tr>\n",
       "      <th>1224</th>\n",
       "      <td>2094</td>\n",
       "      <td>2021-11-19 00:00:00+00:00</td>\n",
       "      <td>32.709140</td>\n",
       "      <td>0.062498</td>\n",
       "    </tr>\n",
       "    <tr>\n",
       "      <th>1240</th>\n",
       "      <td>2094</td>\n",
       "      <td>2021-11-19 00:00:00+00:00</td>\n",
       "      <td>28.840353</td>\n",
       "      <td>0.055106</td>\n",
       "    </tr>\n",
       "    <tr>\n",
       "      <th>1279</th>\n",
       "      <td>2094</td>\n",
       "      <td>2021-11-19 00:00:00+00:00</td>\n",
       "      <td>23.143493</td>\n",
       "      <td>0.044220</td>\n",
       "    </tr>\n",
       "    <tr>\n",
       "      <th>1303</th>\n",
       "      <td>2094</td>\n",
       "      <td>2021-11-19 00:00:00+00:00</td>\n",
       "      <td>17.802687</td>\n",
       "      <td>0.034016</td>\n",
       "    </tr>\n",
       "    <tr>\n",
       "      <th>...</th>\n",
       "      <td>...</td>\n",
       "      <td>...</td>\n",
       "      <td>...</td>\n",
       "      <td>...</td>\n",
       "    </tr>\n",
       "    <tr>\n",
       "      <th>4847854</th>\n",
       "      <td>2094</td>\n",
       "      <td>2024-12-31 00:00:00+00:00</td>\n",
       "      <td>53.190472</td>\n",
       "      <td>0.101631</td>\n",
       "    </tr>\n",
       "    <tr>\n",
       "      <th>4847858</th>\n",
       "      <td>2094</td>\n",
       "      <td>2024-12-31 00:00:00+00:00</td>\n",
       "      <td>51.017885</td>\n",
       "      <td>0.097480</td>\n",
       "    </tr>\n",
       "    <tr>\n",
       "      <th>4847859</th>\n",
       "      <td>2094</td>\n",
       "      <td>2024-12-31 00:00:00+00:00</td>\n",
       "      <td>48.321981</td>\n",
       "      <td>0.092329</td>\n",
       "    </tr>\n",
       "    <tr>\n",
       "      <th>4847860</th>\n",
       "      <td>2094</td>\n",
       "      <td>2024-12-31 00:00:00+00:00</td>\n",
       "      <td>29.176626</td>\n",
       "      <td>0.055748</td>\n",
       "    </tr>\n",
       "    <tr>\n",
       "      <th>4847863</th>\n",
       "      <td>2094</td>\n",
       "      <td>2024-12-31 00:00:00+00:00</td>\n",
       "      <td>31.990439</td>\n",
       "      <td>0.061124</td>\n",
       "    </tr>\n",
       "  </tbody>\n",
       "</table>\n",
       "<p>102270 rows × 4 columns</p>\n",
       "</div>"
      ],
      "text/plain": [
       "         hotel_id                      date      price  price_normalized\n",
       "1096         2094 2021-11-19 00:00:00+00:00  30.857991          0.058961\n",
       "1224         2094 2021-11-19 00:00:00+00:00  32.709140          0.062498\n",
       "1240         2094 2021-11-19 00:00:00+00:00  28.840353          0.055106\n",
       "1279         2094 2021-11-19 00:00:00+00:00  23.143493          0.044220\n",
       "1303         2094 2021-11-19 00:00:00+00:00  17.802687          0.034016\n",
       "...           ...                       ...        ...               ...\n",
       "4847854      2094 2024-12-31 00:00:00+00:00  53.190472          0.101631\n",
       "4847858      2094 2024-12-31 00:00:00+00:00  51.017885          0.097480\n",
       "4847859      2094 2024-12-31 00:00:00+00:00  48.321981          0.092329\n",
       "4847860      2094 2024-12-31 00:00:00+00:00  29.176626          0.055748\n",
       "4847863      2094 2024-12-31 00:00:00+00:00  31.990439          0.061124\n",
       "\n",
       "[102270 rows x 4 columns]"
      ]
     },
     "execution_count": 35,
     "metadata": {},
     "output_type": "execute_result"
    }
   ],
   "source": [
    "data"
   ]
  },
  {
   "cell_type": "code",
   "execution_count": 39,
   "metadata": {},
   "outputs": [
    {
     "name": "stdout",
     "output_type": "stream",
     "text": [
      "Shape of X_train: (81787, 30)\n",
      "Shape of y_train: (81787, 7)\n",
      "New Shape of y_train: (81787, 7)\n",
      "New Shape of y_val: (20447, 7)\n"
     ]
    }
   ],
   "source": [
    "# Create sequences for lookback\n",
    "lookback = 30  # Days used for prediction\n",
    "forecast_horizon = 7  # Each step predicts 7 days\n",
    "\n",
    "def create_sequences(data, lookback):\n",
    "    X, y = [], []\n",
    "    for i in range(len(data) - lookback - forecast_horizon + 1):\n",
    "        X.append(data[i:i + lookback])\n",
    "        y.append(data[i + lookback:i + lookback + forecast_horizon])\n",
    "    return np.array(X), np.array(y)\n",
    "\n",
    "# Create sequences per hotel\n",
    "X_all, y_all = [], []\n",
    "for hotel_id, group in data.groupby('hotel_id'):\n",
    "    prices = group['price_normalized'].values\n",
    "    X, y = create_sequences(prices, lookback)\n",
    "    X_all.append(X)\n",
    "    y_all.append(y)\n",
    "\n",
    "# Combine all sequences\n",
    "X_all = np.vstack(X_all)\n",
    "y_all = np.vstack(y_all)\n",
    "\n",
    "# Split into training and validation\n",
    "X_train, X_val, y_train, y_val = train_test_split(X_all, y_all, test_size=0.2, random_state=42)\n",
    "\n",
    "print(\"Shape of X_train:\", X_train.shape)  # (num_samples, lookback, 1)\n",
    "print(\"Shape of y_train:\", y_train.shape)  # (num_samples, forecast_horizon)\n",
    "\n",
    "# Reshape targets to remove the extra dimension\n",
    "y_train = y_train.reshape(y_train.shape[0], -1)  # Shape: (num_samples, forecast_horizon)\n",
    "y_val = y_val.reshape(y_val.shape[0], -1)        # Shape: (num_samples, forecast_horizon)\n",
    "\n",
    "print(\"New Shape of y_train:\", y_train.shape)  # Should be (num_samples, forecast_horizon)\n",
    "print(\"New Shape of y_val:\", y_val.shape)      # Should be (num_samples, forecast_horizon)\n"
   ]
  },
  {
   "cell_type": "code",
   "execution_count": 40,
   "metadata": {},
   "outputs": [
    {
     "name": "stdout",
     "output_type": "stream",
     "text": [
      "Model: \"model_3\"\n",
      "_________________________________________________________________\n",
      " Layer (type)                Output Shape              Param #   \n",
      "=================================================================\n",
      " input_3 (InputLayer)        [(None, 30, 1)]           0         \n",
      "                                                                 \n",
      " model_2 (Functional)        [(None, 30, 30),          545317    \n",
      "                              (None, 30, 7)]                     \n",
      "                                                                 \n",
      "=================================================================\n",
      "Total params: 545,317\n",
      "Trainable params: 545,317\n",
      "Non-trainable params: 0\n",
      "_________________________________________________________________\n"
     ]
    }
   ],
   "source": [
    "import tensorflow as tf\n",
    "import tensorflow_addons as tfa\n",
    "\n",
    "# N-BEATS Block\n",
    "def create_nbeats_block(input_shape, forecast_horizon):\n",
    "    input_layer = tf.keras.layers.Input(shape=input_shape)\n",
    "    \n",
    "    # Fully connected layers\n",
    "    x = tf.keras.layers.Dense(512, activation=\"relu\")(input_layer)\n",
    "    x = tf.keras.layers.Dense(512, activation=\"relu\")(x)\n",
    "    x = tf.keras.layers.Dense(512, activation=\"relu\")(x)\n",
    "    \n",
    "    # Backcast and Forecast\n",
    "    backcast = tf.keras.layers.Dense(input_shape[0])(x)\n",
    "    forecast = tf.keras.layers.Dense(forecast_horizon)(x)\n",
    "    \n",
    "    model = tf.keras.models.Model(inputs=input_layer, outputs=[backcast, forecast])\n",
    "    return model\n",
    "\n",
    "# Full N-BEATS Model\n",
    "def create_nbeats_model(input_shape, forecast_horizon):\n",
    "    input_layer = tf.keras.layers.Input(shape=input_shape)\n",
    "    backcast, forecast = create_nbeats_block(input_shape, forecast_horizon)(input_layer)\n",
    "    model = tf.keras.models.Model(inputs=input_layer, outputs=forecast)\n",
    "    return model\n",
    "\n",
    "# Define model\n",
    "input_shape = (lookback, 1)\n",
    "model = create_nbeats_model(input_shape, forecast_horizon)\n",
    "\n",
    "model.compile(\n",
    "    optimizer=tf.keras.optimizers.Adam(learning_rate=0.001),\n",
    "    loss=\"mse\",  # Mean squared error\n",
    "    metrics=[\"mae\"]  # Mean absolute error\n",
    ")\n",
    "\n",
    "model.summary()\n"
   ]
  },
  {
   "cell_type": "code",
   "execution_count": null,
   "metadata": {},
   "outputs": [],
   "source": [
    "history = model.fit(\n",
    "    X_train, y_train,\n",
    "    validation_data=(X_val, y_val),\n",
    "    epochs=50,\n",
    "    batch_size=32,\n",
    "    verbose=1\n",
    ")\n"
   ]
  }
 ],
 "metadata": {
  "kernelspec": {
   "display_name": "Python 3",
   "language": "python",
   "name": "python3"
  },
  "language_info": {
   "codemirror_mode": {
    "name": "ipython",
    "version": 3
   },
   "file_extension": ".py",
   "mimetype": "text/x-python",
   "name": "python",
   "nbconvert_exporter": "python",
   "pygments_lexer": "ipython3",
   "version": "3.10.6"
  }
 },
 "nbformat": 4,
 "nbformat_minor": 2
}
