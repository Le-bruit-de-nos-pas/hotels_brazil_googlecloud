{
 "cells": [
  {
   "cell_type": "code",
   "execution_count": 30,
   "metadata": {},
   "outputs": [],
   "source": [
    "import pandas as pd\n",
    "import numpy as np  \n",
    "import os\n",
    "import gc\n",
    "import psutil\n",
    "import seaborn as sns\n",
    "import matplotlib.pyplot as plt\n",
    "import statsmodels.api as sm"
   ]
  },
  {
   "cell_type": "code",
   "execution_count": 31,
   "metadata": {},
   "outputs": [],
   "source": [
    "# Get the current directory\n",
    "current_dir = os.getcwd()\n",
    "\n",
    "# Navigate one folder up\n",
    "parent_dir = os.path.dirname(current_dir)\n",
    "\n",
    "# Where the files are located\n",
    "data = 'data\\other'\n",
    "\n",
    "# Navigate down into the \"data\" folder\n",
    "data_dir = os.path.join(parent_dir, data)"
   ]
  },
  {
   "cell_type": "code",
   "execution_count": null,
   "metadata": {},
   "outputs": [],
   "source": [
    "os.listdir(data_dir)"
   ]
  },
  {
   "cell_type": "code",
   "execution_count": null,
   "metadata": {},
   "outputs": [],
   "source": [
    "# Filter the list of files for those containing \"lisbon_14days\"\n",
    "filtered_files = [file for file in os.listdir(data_dir) if \"lisbon_14days\" in file]\n",
    "print(filtered_files)"
   ]
  },
  {
   "cell_type": "code",
   "execution_count": null,
   "metadata": {},
   "outputs": [],
   "source": [
    "# Initialize an empty list to store DataFrames\n",
    "dataframes = []\n",
    "\n",
    "# Variable to track total rows\n",
    "total_rows = 0\n",
    "\n",
    "# Loop through all files in the \"data\" folder\n",
    "try:\n",
    "    for file_name in filtered_files:\n",
    "        \n",
    "        if file_name.endswith('.csv'):  # Check if the file is a CSV\n",
    "            \n",
    "            file_path = os.path.join(data_dir, file_name)\n",
    "            \n",
    "            # Read the CSV file into a DataFrame\n",
    "            df = pd.read_csv(file_path)\n",
    "            dataframes.append(df)  # Append the DataFrame to the list\n",
    "            \n",
    "             # Print dimensions of the current file\n",
    "            print(f\"File: {file_name} | Dimensions: {df.shape}\")\n",
    "            \n",
    "            # Add the number of rows to the total count\n",
    "            total_rows += df.shape[0]\n",
    "\n",
    "    # Concatenate all DataFrames in the list by binding rows\n",
    "    combined_df = pd.concat(dataframes, ignore_index=True)\n",
    "\n",
    "    # Print dimensions of the combined DataFrame\n",
    "    print(f\"Combined DataFrame Dimensions: {combined_df.shape}\")\n",
    "\n",
    "    # Verify the sum of rows matches\n",
    "    if total_rows == combined_df.shape[0]:\n",
    "        print(\"Row count verification successful! Total rows match.\")\n",
    "    else:\n",
    "        print(\"Row count verification failed! Mismatch in row count.\")\n",
    "\n",
    "    print(combined_df.head())  # Display the first few rows of the combined DataFrame\n",
    "\n",
    "except FileNotFoundError:\n",
    "    print(f\"Folder '{data_dir}' not found.\")\n",
    "except Exception as e:\n",
    "    print(f\"An error occurred: {e}\")"
   ]
  },
  {
   "cell_type": "code",
   "execution_count": null,
   "metadata": {},
   "outputs": [],
   "source": [
    "combined_df[combined_df['Requests_Com_Disponibilidade']==0]['Requests_Com_Disponibilidade'].describe()"
   ]
  },
  {
   "cell_type": "code",
   "execution_count": null,
   "metadata": {},
   "outputs": [],
   "source": [
    "combined_df"
   ]
  },
  {
   "cell_type": "code",
   "execution_count": null,
   "metadata": {},
   "outputs": [],
   "source": [
    "summary_statistics = combined_df.describe()\n",
    "print(summary_statistics)"
   ]
  },
  {
   "cell_type": "code",
   "execution_count": null,
   "metadata": {},
   "outputs": [],
   "source": [
    "combined_df['Ocupacao_ID'].unique()"
   ]
  },
  {
   "cell_type": "code",
   "execution_count": null,
   "metadata": {},
   "outputs": [],
   "source": [
    "combined_df['Hotel_ID'].unique()"
   ]
  },
  {
   "cell_type": "code",
   "execution_count": null,
   "metadata": {},
   "outputs": [],
   "source": [
    "# Create a box plot for the 'Antecedencia' column\n",
    "plt.figure(figsize=(10, 6))\n",
    "sns.boxplot(x=combined_df['Antecedencia'], color=\"lightblue\")\n",
    "plt.title('Box Plot for Antecedencia')\n",
    "plt.xlabel('Antecedencia')\n",
    "plt.show()"
   ]
  },
  {
   "cell_type": "code",
   "execution_count": null,
   "metadata": {},
   "outputs": [],
   "source": [
    "# Create a box plot for the 'Estadia' column\n",
    "plt.figure(figsize=(10, 6))\n",
    "sns.boxplot(x=combined_df['Estadia'], color=\"lightblue\")\n",
    "plt.title('Box Plot for Estadia')\n",
    "plt.xlabel('Estadia')\n",
    "plt.show()"
   ]
  },
  {
   "cell_type": "code",
   "execution_count": null,
   "metadata": {},
   "outputs": [],
   "source": [
    "# Create a box plot for the 'DiariaMedia' column\n",
    "plt.figure(figsize=(10, 6))\n",
    "sns.boxplot(x=combined_df['DiariaMedia'], color=\"lightblue\")\n",
    "plt.title('Box Plot for DiariaMedia')\n",
    "plt.xlabel('DiariaMedia')\n",
    "plt.show()"
   ]
  },
  {
   "cell_type": "code",
   "execution_count": null,
   "metadata": {},
   "outputs": [],
   "source": [
    "print(combined_df['Requests'].sum())\n",
    "print(combined_df['Requests_Com_Disponibilidade'].sum())"
   ]
  },
  {
   "cell_type": "code",
   "execution_count": null,
   "metadata": {
    "vscode": {
     "languageId": "ruby"
    }
   },
   "outputs": [],
   "source": [
    "# Group by 'Antecedencia' and calculate the sum of 'Requests' and 'Requests_Com_Disponibilidade'\n",
    "grouped_df = combined_df.groupby('Antecedencia').sum()\n",
    "\n",
    "# Calculate the request hit rate\n",
    "grouped_df['Request_Hit_Rate'] = grouped_df['Requests_Com_Disponibilidade'] / grouped_df['Requests']\n",
    "\n",
    "# Display the result\n",
    "print(grouped_df[['Request_Hit_Rate']])"
   ]
  },
  {
   "cell_type": "code",
   "execution_count": null,
   "metadata": {},
   "outputs": [],
   "source": [
    "# Plot the Request Hit Rate\n",
    "plt.figure(figsize=(9, 9))\n",
    "plt.bar(grouped_df.index, grouped_df['Request_Hit_Rate'], label='Request Convertion/Acceptance Rate', color=\"lightblue\")\n",
    "\n",
    "# Add LOWESS smoothed line\n",
    "lowess = sm.nonparametric.lowess\n",
    "smoothed = lowess(grouped_df['Request_Hit_Rate'], grouped_df.index, frac=0.4)\n",
    "plt.plot(smoothed[:, 0], smoothed[:, 1], color='firebrick', label='LOWESS Smoothed Fit Line', linewidth=3)\n",
    "\n",
    "plt.title('Request Hit Rate by Antecedencia')\n",
    "plt.xlabel('\\n Time in Advance (days)')\n",
    "plt.ylabel('Request Convertion/Acceptance Rate \\n')\n",
    "plt.legend()\n",
    "plt.show()"
   ]
  },
  {
   "cell_type": "code",
   "execution_count": null,
   "metadata": {},
   "outputs": [],
   "source": [
    "data_lake_prd_314410_rz_pull_02_pesquisas_28_Jan_2025_Hotel1746 = pd.read_csv('c:\\\\Users\\\\paulo\\\\Desktop\\\\hotels brazil\\\\data\\\\other\\\\data-lake-prd-314410.rz.pull-02-pesquisas_28_Jan_2025_Hotel1746.csv')\n",
    "data_lake_prd_314410_rz_pull_02_pesquisas_28_Jan_2025_Hotel1746"
   ]
  },
  {
   "cell_type": "code",
   "execution_count": null,
   "metadata": {},
   "outputs": [],
   "source": [
    "data_lake_prd_314410_rz_pull_02_pesquisas_28_Jan_2025_Hotel1746['Request_ID'].nunique()"
   ]
  },
  {
   "cell_type": "code",
   "execution_count": null,
   "metadata": {},
   "outputs": [],
   "source": [
    "print(data_lake_prd_314410_rz_pull_02_pesquisas_28_Jan_2025_Hotel1746['Estadia'].mean())\n",
    "print(data_lake_prd_314410_rz_pull_02_pesquisas_28_Jan_2025_Hotel1746['Antecedencia'].mean())\n",
    "print(data_lake_prd_314410_rz_pull_02_pesquisas_28_Jan_2025_Hotel1746['ValorTotal'].mean())"
   ]
  },
  {
   "cell_type": "code",
   "execution_count": null,
   "metadata": {},
   "outputs": [],
   "source": [
    "\n",
    "fig, axes = plt.subplots(1, 3, figsize=(18, 6))\n",
    "\n",
    "# Plot for 'Estadia'\n",
    "mean_estadia = data_lake_prd_314410_rz_pull_02_pesquisas_28_Jan_2025_Hotel1746['Estadia'].mean()\n",
    "axes[0].axvline(mean_estadia, color='skyblue', linestyle='--')\n",
    "axes[0].set_title('Mean of Estadia')\n",
    "axes[0].set_xlabel('Estadia')\n",
    "axes[0].set_ylabel('Frequency')\n",
    "\n",
    "# Plot for 'Antecedencia'\n",
    "mean_antecedencia = data_lake_prd_314410_rz_pull_02_pesquisas_28_Jan_2025_Hotel1746['Antecedencia'].mean()\n",
    "axes[1].axvline(mean_antecedencia, color='lightgreen', linestyle='--')\n",
    "axes[1].set_title('Mean of Antecedencia')\n",
    "axes[1].set_xlabel('Antecedencia')\n",
    "axes[1].set_ylabel('Frequency')\n",
    "\n",
    "# Plot for 'ValorTotal'\n",
    "mean_valortotal = data_lake_prd_314410_rz_pull_02_pesquisas_28_Jan_2025_Hotel1746['ValorTotal'].mean()\n",
    "axes[2].axvline(mean_valortotal, color='salmon', linestyle='--')\n",
    "axes[2].set_title('Mean of ValorTotal')\n",
    "axes[2].set_xlabel('ValorTotal')\n",
    "axes[2].set_ylabel('Frequency')\n",
    "\n",
    "plt.tight_layout()\n",
    "plt.show()"
   ]
  },
  {
   "cell_type": "code",
   "execution_count": null,
   "metadata": {},
   "outputs": [],
   "source": [
    "# Group by 'Ocupacao_ID' and count the number of rows for each group, then sort by the size\n",
    "data_lake_prd_314410_rz_pull_02_pesquisas_28_Jan_2025_Hotel1746.groupby('Ocupacao_ID').size().sort_values(ascending=False)\n"
   ]
  },
  {
   "cell_type": "code",
   "execution_count": null,
   "metadata": {},
   "outputs": [],
   "source": [
    "6510391/9136497 "
   ]
  },
  {
   "cell_type": "code",
   "execution_count": null,
   "metadata": {},
   "outputs": [],
   "source": [
    "# Group by 'Ocupacao_ID' and count the number of rows for each group, then sort by the size\n",
    "ocupacao_counts = data_lake_prd_314410_rz_pull_02_pesquisas_28_Jan_2025_Hotel1746.groupby('Ocupacao_ID').size().sort_values(ascending=False)\n",
    "\n",
    "# Create a bar plot\n",
    "plt.figure(figsize=(12, 8))\n",
    "ocupacao_counts.plot(kind='bar', color='lightblue')\n",
    "plt.title('Number of Requests by Ocupacao_ID for \\n Hotel 1746 (Grand Mercure Rio De Janeiro Copacabana)')\n",
    "plt.xlabel('Ocupacao_ID')\n",
    "plt.ylabel('Number of Requests')\n",
    "plt.show()"
   ]
  },
  {
   "cell_type": "code",
   "execution_count": null,
   "metadata": {},
   "outputs": [],
   "source": [
    "data_lake_prd_314410_rz_pull_01_response_28_Jan_2025_Hotel1746 = pd.read_csv('c:\\\\Users\\\\paulo\\\\Desktop\\\\hotels brazil\\\\data\\\\other\\\\data-lake-prd-314410.rz.pull-01-response_28_Jan_2025_Hotel1746.csv')\n",
    "data_lake_prd_314410_rz_pull_01_response_28_Jan_2025_Hotel1746"
   ]
  },
  {
   "cell_type": "code",
   "execution_count": null,
   "metadata": {},
   "outputs": [],
   "source": [
    "data_lake_prd_314410_rz_pull_01_response_28_Jan_2025_Hotel1746['RequestID'].nunique()"
   ]
  },
  {
   "cell_type": "code",
   "execution_count": null,
   "metadata": {},
   "outputs": [],
   "source": [
    "data_lake_prd_314410_rz_pull_01_response_28_Jan_2025_Hotel1746[data_lake_prd_314410_rz_pull_01_response_28_Jan_2025_Hotel1746['Disponivel']==1]['RequestID'].nunique()"
   ]
  },
  {
   "cell_type": "code",
   "execution_count": null,
   "metadata": {},
   "outputs": [],
   "source": [
    "76/113"
   ]
  },
  {
   "cell_type": "code",
   "execution_count": null,
   "metadata": {},
   "outputs": [],
   "source": [
    "data_lake_prd_314410_rz_pull_01_response_28_Jan_2025_Hotel1746['TarifaID'].nunique()"
   ]
  },
  {
   "cell_type": "code",
   "execution_count": null,
   "metadata": {},
   "outputs": [],
   "source": [
    "# Group by 'Tarifa_ID' and count the number of rows for each group\n",
    "tarifa_id_counts = data_lake_prd_314410_rz_pull_01_response_28_Jan_2025_Hotel1746.groupby('TarifaID').size()\n",
    "\n",
    "# Display the result\n",
    "print(tarifa_id_counts)"
   ]
  },
  {
   "cell_type": "code",
   "execution_count": null,
   "metadata": {},
   "outputs": [],
   "source": [
    "# Group by 'Tarifa_ID' and calculate the mean of 'Disponivel'\n",
    "mean_disponivel_by_tarifa = data_lake_prd_314410_rz_pull_01_response_28_Jan_2025_Hotel1746.groupby('TarifaID')['Disponivel'].mean()\n",
    "\n",
    "# Display the result\n",
    "print(mean_disponivel_by_tarifa)"
   ]
  },
  {
   "cell_type": "code",
   "execution_count": null,
   "metadata": {},
   "outputs": [],
   "source": [
    "mean_disponivel_by_tarifa = mean_disponivel_by_tarifa.reset_index()\n",
    "\n",
    "# Perform a left join\n",
    "merged_df = pd.merge(mean_disponivel_by_tarifa, data_lake_prd_314410_cz_hoteis_tarifas, how='left', left_on='TarifaID', right_on='Tarifa_ID')\n",
    "\n",
    "# Display the result\n",
    "print(merged_df[['TarifaID', 'Tarifa']])"
   ]
  },
  {
   "cell_type": "code",
   "execution_count": null,
   "metadata": {},
   "outputs": [],
   "source": [
    "# Group by 'Antecedencia' and calculate the mean of 'Disponivel'\n",
    "mean_disponivel_by_tarifa = data_lake_prd_314410_rz_pull_01_response_28_Jan_2025_Hotel1746.groupby('TarifaID')['Disponivel'].mean()\n",
    "\n",
    "# Display the result\n",
    "print(mean_disponivel_by_tarifa)"
   ]
  },
  {
   "cell_type": "code",
   "execution_count": null,
   "metadata": {},
   "outputs": [],
   "source": []
  },
  {
   "cell_type": "code",
   "execution_count": null,
   "metadata": {},
   "outputs": [],
   "source": [
    "data_lake_prd_314410_rz_pull_02_pesquisas_28_Jan_2025_Hotel5998 = pd.read_csv('c:\\\\Users\\\\paulo\\\\Desktop\\\\hotels brazil\\\\data\\\\other\\\\data-lake-prd-314410.rz.pull-02-pesquisas_28_Jan_2025_Hotel5998.csv')\n",
    "data_lake_prd_314410_rz_pull_02_pesquisas_28_Jan_2025_Hotel5998"
   ]
  },
  {
   "cell_type": "code",
   "execution_count": null,
   "metadata": {},
   "outputs": [],
   "source": [
    "print(data_lake_prd_314410_rz_pull_02_pesquisas_28_Jan_2025_Hotel5998['Estadia'].mean())\n",
    "print(data_lake_prd_314410_rz_pull_02_pesquisas_28_Jan_2025_Hotel5998['Antecedencia'].mean())\n",
    "print(data_lake_prd_314410_rz_pull_02_pesquisas_28_Jan_2025_Hotel5998['ValorTotal'].mean())"
   ]
  },
  {
   "cell_type": "code",
   "execution_count": null,
   "metadata": {},
   "outputs": [],
   "source": [
    "# Group by 'Ocupacao_ID' and count the number of rows for each group, then sort by the size\n",
    "data_lake_prd_314410_rz_pull_02_pesquisas_28_Jan_2025_Hotel5998.groupby('Ocupacao_ID').size().sort_values(ascending=False)\n"
   ]
  },
  {
   "cell_type": "code",
   "execution_count": null,
   "metadata": {},
   "outputs": [],
   "source": [
    "1895102/2444544 "
   ]
  },
  {
   "cell_type": "code",
   "execution_count": null,
   "metadata": {},
   "outputs": [],
   "source": [
    "# Group by 'Ocupacao_ID' and count the number of rows for each group, then sort by the size\n",
    "ocupacao_counts = data_lake_prd_314410_rz_pull_02_pesquisas_28_Jan_2025_Hotel5998.groupby('Ocupacao_ID').size().sort_values(ascending=False)\n",
    "\n",
    "# Create a bar plot\n",
    "plt.figure(figsize=(12, 8))\n",
    "ocupacao_counts.plot(kind='bar', color='lightblue')\n",
    "plt.title('Number of Requests by Ocupacao_ID for \\n Hotel 5998 (B&B Hotels Rio de Janeiro Copacabana)')\n",
    "plt.xlabel('Ocupacao_ID')\n",
    "plt.ylabel('Number of Requests')\n",
    "plt.show()"
   ]
  },
  {
   "cell_type": "code",
   "execution_count": null,
   "metadata": {},
   "outputs": [],
   "source": [
    "data_lake_prd_314410_rz_pull_01_response_28_Jan_2025_Hotel5998 = pd.read_csv('c:\\\\Users\\\\paulo\\\\Desktop\\\\hotels brazil\\\\data\\\\other\\\\data-lake-prd-314410.rz.pull-01-response_28_Jan_2025_Hotel5998.csv')\n",
    "data_lake_prd_314410_rz_pull_01_response_28_Jan_2025_Hotel5998"
   ]
  },
  {
   "cell_type": "code",
   "execution_count": null,
   "metadata": {},
   "outputs": [],
   "source": [
    "data_lake_prd_314410_cz_hoteis_tarifas = pd.read_csv('c:\\\\Users\\\\paulo\\\\Desktop\\\\hotels brazil\\\\data\\\\lookups\\\\data-lake-prd-314410.cz.hoteis-tarifas.csv')\n",
    "data_lake_prd_314410_cz_hoteis_tarifas"
   ]
  },
  {
   "cell_type": "code",
   "execution_count": null,
   "metadata": {},
   "outputs": [],
   "source": [
    "# Group by 'Tarifa_ID' and count the number of rows for each group\n",
    "tarifa_id_counts = data_lake_prd_314410_rz_pull_01_response_28_Jan_2025_Hotel5998.groupby('TarifaID').size()\n",
    "\n",
    "# Display the result\n",
    "print(tarifa_id_counts)"
   ]
  },
  {
   "cell_type": "code",
   "execution_count": null,
   "metadata": {},
   "outputs": [],
   "source": [
    "# Group by 'Tarifa_ID' and calculate the mean of 'Disponivel'\n",
    "mean_disponivel_by_tarifa = data_lake_prd_314410_rz_pull_01_response_28_Jan_2025_Hotel5998.groupby('TarifaID')['Disponivel'].mean()\n",
    "\n",
    "# Display the result\n",
    "print(mean_disponivel_by_tarifa)"
   ]
  },
  {
   "cell_type": "code",
   "execution_count": null,
   "metadata": {},
   "outputs": [],
   "source": [
    "mean_disponivel_by_tarifa = mean_disponivel_by_tarifa.reset_index()\n",
    "\n",
    "# Perform a left join\n",
    "merged_df = pd.merge(mean_disponivel_by_tarifa, data_lake_prd_314410_cz_hoteis_tarifas, how='left', left_on='TarifaID', right_on='Tarifa_ID')\n",
    "\n",
    "# Display the result\n",
    "print(merged_df[['TarifaID', 'Tarifa']])"
   ]
  },
  {
   "cell_type": "code",
   "execution_count": null,
   "metadata": {},
   "outputs": [],
   "source": [
    "print(data_lake_prd_314410_rz_pull_01_response_28_Jan_2025_Hotel1746['RequestID'].nunique())\n",
    "print(data_lake_prd_314410_rz_pull_01_response_28_Jan_2025_Hotel5998['RequestID'].nunique())"
   ]
  },
  {
   "cell_type": "code",
   "execution_count": null,
   "metadata": {},
   "outputs": [],
   "source": [
    "# Perform an inner join on the 'Request_ID' column\n",
    "merged_df = pd.merge(data_lake_prd_314410_rz_pull_01_response_28_Jan_2025_Hotel1746['RequestID'], \n",
    "                     data_lake_prd_314410_rz_pull_01_response_28_Jan_2025_Hotel5998['RequestID'], \n",
    "                     on='RequestID')\n"
   ]
  },
  {
   "cell_type": "code",
   "execution_count": null,
   "metadata": {},
   "outputs": [],
   "source": [
    "merged_df['RequestID'].nunique()"
   ]
  },
  {
   "cell_type": "code",
   "execution_count": null,
   "metadata": {},
   "outputs": [],
   "source": [
    "data_lake_prd_314410_cz_pull_pesquisas_28_01_2025_Hotel1746 = pd.read_csv('c:\\\\Users\\\\paulo\\\\Desktop\\\\hotels brazil\\\\data\\\\other\\\\data-lake-prd-314410.cz.pull-pesquisas_28_01_2025_Hotel1746.csv')\n",
    "data_lake_prd_314410_cz_pull_pesquisas_28_01_2025_Hotel1746.head()"
   ]
  },
  {
   "cell_type": "code",
   "execution_count": null,
   "metadata": {},
   "outputs": [],
   "source": [
    "print(data_lake_prd_314410_cz_pull_pesquisas_28_01_2025_Hotel1746['Reservas'].sum())\n",
    "print(data_lake_prd_314410_cz_pull_pesquisas_28_01_2025_Hotel1746['Requests'].sum())\n",
    "print(data_lake_prd_314410_cz_pull_pesquisas_28_01_2025_Hotel1746['Requests_Sem_Response'].sum())\n",
    "print(data_lake_prd_314410_cz_pull_pesquisas_28_01_2025_Hotel1746['Requests_Com_Disponibilidade'].sum())"
   ]
  },
  {
   "cell_type": "code",
   "execution_count": null,
   "metadata": {},
   "outputs": [],
   "source": [
    "# Filter the dataframe where \"Reservas\" is not NaN\n",
    "filtered_df = data_lake_prd_314410_cz_pull_pesquisas_28_01_2025_Hotel1746.dropna(subset=['Reservas'])\n",
    "\n",
    "# Calculate the weighted mean using \"Reservas\" as the weight\n",
    "weighted_mean_estadia = np.average(filtered_df['Estadia'], weights=filtered_df['Reservas'])\n",
    "weighted_mean_diariamedia = np.average(filtered_df['DiariaMedia'], weights=filtered_df['Reservas'])\n",
    "\n",
    "print(weighted_mean_estadia)\n",
    "print(weighted_mean_diariamedia)"
   ]
  },
  {
   "cell_type": "code",
   "execution_count": null,
   "metadata": {},
   "outputs": [],
   "source": []
  },
  {
   "cell_type": "code",
   "execution_count": null,
   "metadata": {},
   "outputs": [],
   "source": [
    "data_lake_prd_314410_cz_pull_pesquisas_28_01_2025_Hotel5998 = pd.read_csv('c:\\\\Users\\\\paulo\\\\Desktop\\\\hotels brazil\\\\data\\\\other\\\\data-lake-prd-314410.cz.pull-pesquisas_28_01_2025_Hotel5998.csv')\n",
    "data_lake_prd_314410_cz_pull_pesquisas_28_01_2025_Hotel5998.head()"
   ]
  },
  {
   "cell_type": "code",
   "execution_count": null,
   "metadata": {},
   "outputs": [],
   "source": [
    "print(data_lake_prd_314410_cz_pull_pesquisas_28_01_2025_Hotel5998['Reservas'].sum())\n",
    "print(data_lake_prd_314410_cz_pull_pesquisas_28_01_2025_Hotel5998['Requests'].sum())\n",
    "print(data_lake_prd_314410_cz_pull_pesquisas_28_01_2025_Hotel5998['Requests_Sem_Response'].sum())\n",
    "print(data_lake_prd_314410_cz_pull_pesquisas_28_01_2025_Hotel5998['Requests_Com_Disponibilidade'].sum())"
   ]
  },
  {
   "cell_type": "code",
   "execution_count": null,
   "metadata": {},
   "outputs": [],
   "source": [
    "# Filter the dataframe where \"Reservas\" is not NaN\n",
    "filtered_df = data_lake_prd_314410_cz_pull_pesquisas_28_01_2025_Hotel5998.dropna(subset=['Reservas'])\n",
    "\n",
    "# Calculate the weighted mean using \"Reservas\" as the weight\n",
    "# Calculate the weighted mean using \"Reservas\" as the weight\n",
    "weighted_mean_estadia = np.average(filtered_df['Estadia'], weights=filtered_df['Reservas'])\n",
    "weighted_mean_diariamedia = np.average(filtered_df['DiariaMedia'], weights=filtered_df['Reservas'])\n",
    "\n",
    "print(weighted_mean_estadia)\n",
    "print(weighted_mean_diariamedia)"
   ]
  }
 ],
 "metadata": {
  "kernelspec": {
   "display_name": "Python 3",
   "language": "python",
   "name": "python3"
  },
  "language_info": {
   "codemirror_mode": {
    "name": "ipython",
    "version": 3
   },
   "file_extension": ".py",
   "mimetype": "text/x-python",
   "name": "python",
   "nbconvert_exporter": "python",
   "pygments_lexer": "ipython3",
   "version": "3.10.6"
  }
 },
 "nbformat": 4,
 "nbformat_minor": 2
}
