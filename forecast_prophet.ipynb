{
 "cells": [
  {
   "cell_type": "code",
   "execution_count": null,
   "metadata": {
    "vscode": {
     "languageId": "plaintext"
    }
   },
   "outputs": [],
   "source": []
  },
  {
   "cell_type": "code",
   "execution_count": null,
   "metadata": {
    "vscode": {
     "languageId": "plaintext"
    }
   },
   "outputs": [],
   "source": []
  },
  {
   "cell_type": "code",
   "execution_count": null,
   "metadata": {
    "vscode": {
     "languageId": "plaintext"
    }
   },
   "outputs": [],
   "source": []
  },
  {
   "cell_type": "code",
   "execution_count": null,
   "metadata": {
    "vscode": {
     "languageId": "plaintext"
    }
   },
   "outputs": [],
   "source": [
    "from fbprophet import Prophet\n",
    "import pandas as pd\n",
    "\n",
    "# Prepare data: Ensure your data has a 'date' column and 'price' column\n",
    "data = pd.DataFrame({\n",
    "    'date': pd.date_range('2020-01-01', '2020-12-31', freq='D'),\n",
    "    'price': [100 + (x % 30) for x in range(365)]  # Just an example, use your data\n",
    "})\n",
    "\n",
    "# Rename columns for Prophet\n",
    "data.rename(columns={'date': 'ds', 'price': 'y'}, inplace=True)\n",
    "\n",
    "# Initialize the Prophet model\n",
    "model = Prophet(daily_seasonality=True)\n",
    "\n",
    "# Fit the model\n",
    "model.fit(data)\n",
    "\n",
    "# Create a future dataframe to forecast\n",
    "future = model.make_future_dataframe(data, periods=30)  # Forecast the next 30 days\n",
    "\n",
    "# Make predictions\n",
    "forecast = model.predict(future)\n",
    "\n",
    "# Plot the forecast\n",
    "model.plot(forecast)\n",
    "\n",
    "# Show the forecasted values\n",
    "forecast[['ds', 'yhat', 'yhat_lower', 'yhat_upper']].tail()\n"
   ]
  }
 ],
 "metadata": {
  "language_info": {
   "name": "python"
  }
 },
 "nbformat": 4,
 "nbformat_minor": 2
}
