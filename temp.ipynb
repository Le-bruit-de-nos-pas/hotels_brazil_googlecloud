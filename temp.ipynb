{
 "cells": [
  {
   "cell_type": "code",
   "execution_count": 18,
   "metadata": {},
   "outputs": [],
   "source": [
    "import pandas as pd\n",
    "import numpy as np  \n",
    "from sklearn.preprocessing import StandardScaler\n",
    "from sklearn.metrics.pairwise import cosine_similarity\n"
   ]
  },
  {
   "cell_type": "code",
   "execution_count": null,
   "metadata": {},
   "outputs": [],
   "source": [
    "hotel_city_chanel_combin_extract  = pd.read_csv('c:\\\\Users\\\\paulo\\\\Desktop\\\\hotels brazil\\\\data\\\\other\\\\hotel_city_chanel_combin_extract.csv')\n",
    "hotel_city_chanel_combin_extract.dropna(inplace=True)\n",
    "hotel_city_chanel_combin_extract"
   ]
  },
  {
   "cell_type": "code",
   "execution_count": null,
   "metadata": {},
   "outputs": [],
   "source": [
    "print(hotel_city_chanel_combin_extract['Canal_ID'].nunique(), \n",
    "        hotel_city_chanel_combin_extract['Cidade_ID'].nunique() ,\n",
    "            hotel_city_chanel_combin_extract['Hotel_ID'].nunique() )"
   ]
  },
  {
   "cell_type": "code",
   "execution_count": 5,
   "metadata": {},
   "outputs": [],
   "source": [
    "def get_unseen_hotels(df, canal_id):\n",
    "    # Ensure canal_id is an integer\n",
    "    if not isinstance(canal_id, int):\n",
    "        raise ValueError(f\"Expected an integer for canal_id, but got {type(canal_id)}.\")\n",
    "\n",
    "    # Get the Cidade_IDs corresponding to the given Canal_ID\n",
    "    cidade_ids = df.loc[df['Canal_ID'] == canal_id, 'Cidade_ID'].unique()\n",
    "\n",
    "    # Get all Hotel_IDs in the corresponding Cidade_IDs\n",
    "    hotels_in_cidade = df.loc[df['Cidade_ID'].isin(cidade_ids), 'Hotel_ID'].unique()\n",
    "\n",
    "    # Get the Hotel_IDs already associated with the given Canal_ID\n",
    "    seen_hotels = df.loc[df['Canal_ID'] == canal_id, 'Hotel_ID'].unique()\n",
    "\n",
    "    # Filter out seen hotels\n",
    "    unseen_hotels = [hotel for hotel in hotels_in_cidade if hotel not in seen_hotels]\n",
    "\n",
    "    # Return unseen hotels as a DataFrame column, ensuring uniqueness\n",
    "    unseen_hotels_df = pd.DataFrame({'Unseen_Hotel_ID': unseen_hotels}).drop_duplicates()\n",
    "\n",
    "    return unseen_hotels_df"
   ]
  },
  {
   "cell_type": "code",
   "execution_count": null,
   "metadata": {},
   "outputs": [],
   "source": [
    "get_unseen_hotels(hotel_city_chanel_combin_extract, 1245)"
   ]
  },
  {
   "cell_type": "code",
   "execution_count": null,
   "metadata": {},
   "outputs": [],
   "source": []
  },
  {
   "cell_type": "code",
   "execution_count": null,
   "metadata": {},
   "outputs": [],
   "source": []
  },
  {
   "cell_type": "code",
   "execution_count": null,
   "metadata": {},
   "outputs": [],
   "source": []
  },
  {
   "cell_type": "code",
   "execution_count": 8,
   "metadata": {},
   "outputs": [],
   "source": [
    "data_lake_prd_314410_cz_hoteis = pd.read_csv('c:\\\\Users\\\\paulo\\\\Desktop\\\\hotels brazil\\\\data\\\\lookups\\\\data-lake-prd-314410.cz.hoteis.csv')\n",
    "\n",
    "data_lake_prd_314410_cz_hoteis = data_lake_prd_314410_cz_hoteis[['Hotel_ID', 'Estrelas', 'Quartos', 'CategoriaHotel', 'Moeda', 'Cidade_ID']]\n",
    "\n",
    "data_lake_prd_314410_cz_cidades = pd.read_csv('c:\\\\Users\\\\paulo\\\\Desktop\\\\hotels brazil\\\\data\\\\lookups\\\\data-lake-prd-314410.cz.cidades.csv')\n",
    "\n",
    "data_lake_prd_314410_cz_cidades = data_lake_prd_314410_cz_cidades[['Cidade_ID', 'Pais']]\n",
    "\n",
    "merged_data = pd.merge(data_lake_prd_314410_cz_hoteis, \n",
    "                       data_lake_prd_314410_cz_cidades, \n",
    "                       on='Cidade_ID', \n",
    "                       how='left')\n",
    "\n",
    "merged_data.dropna(subset=['Pais'], inplace=True)\n",
    "\n",
    "merged_data.drop(columns=['Cidade_ID'], inplace=True)\n"
   ]
  },
  {
   "cell_type": "code",
   "execution_count": null,
   "metadata": {},
   "outputs": [],
   "source": [
    "data_lake_prd_314410_cz_pull_pesquisas_average_price_hotel_currency = pd.read_csv('c:\\\\Users\\\\paulo\\\\Desktop\\\\hotels brazil\\\\data\\\\other\\\\data-lake-prd-314410.cz.pull-pesquisas_average_price_hotel_currency.csv')\n",
    "data_lake_prd_314410_cz_moedas = pd.read_csv('c:\\\\Users\\\\paulo\\\\Desktop\\\\hotels brazil\\\\data\\\\lookups\\\\data-lake-prd-314410.cz.moedas.csv')\n",
    "\n",
    "data_lake_prd_314410_cz_pull_pesquisas_average_price_hotel_currency = pd.merge(data_lake_prd_314410_cz_pull_pesquisas_average_price_hotel_currency, \n",
    "                     data_lake_prd_314410_cz_moedas[['Moeda_ID', 'Cotacao_USD']], \n",
    "                     on='Moeda_ID', \n",
    "                     how='left')\n",
    "\n",
    "\n",
    "data_lake_prd_314410_cz_pull_pesquisas_average_price_hotel_currency['weighted_mean_diaria_usd'] = \\\n",
    "    data_lake_prd_314410_cz_pull_pesquisas_average_price_hotel_currency['weighted_mean_diaria'] * \\\n",
    "        data_lake_prd_314410_cz_pull_pesquisas_average_price_hotel_currency['Cotacao_USD']\n",
    "\n",
    "merged_data = pd.merge(merged_data, \n",
    "                     data_lake_prd_314410_cz_pull_pesquisas_average_price_hotel_currency[['Hotel_ID', 'Cotacao_USD', 'weighted_mean_diaria_usd']], \n",
    "                     on='Hotel_ID', \n",
    "                     how='left')\n",
    "\n",
    "data_lake_prd_314410_cz_pull_pesquisas_estadia_x_reservas_volume = pd.read_csv('c:\\\\Users\\\\paulo\\\\Desktop\\\\hotels brazil\\\\data\\\\other\\\\data-lake-prd-314410.cz.pull-pesquisas_estadia_x_reservas_volume.csv')\n",
    "\n",
    "merged_data = pd.merge(merged_data, \n",
    "                     data_lake_prd_314410_cz_pull_pesquisas_estadia_x_reservas_volume, \n",
    "                     on='Hotel_ID', \n",
    "                     how='left')\n",
    "\n",
    "data_lake_prd_314410_cz_pull_pesquisas_estadia_x_reservas_x_price_receitas = pd.read_csv('c:\\\\Users\\\\paulo\\\\Desktop\\\\hotels brazil\\\\data\\\\other\\\\data-lake-prd-314410.cz.pull-pesquisas_estadia_x_reservas_x_price_receitas.csv')\n",
    "data_lake_prd_314410_cz_pull_pesquisas_estadia_x_reservas_x_price_receitas\n",
    "\n",
    "merged_data = pd.merge(merged_data, \n",
    "                     data_lake_prd_314410_cz_pull_pesquisas_estadia_x_reservas_x_price_receitas, \n",
    "                     on='Hotel_ID', \n",
    "                     how='left')\n",
    "\n",
    "merged_data['total_reservas_estadia_diaria'] = \\\n",
    "    merged_data['total_reservas_estadia_diaria'] * \\\n",
    "        merged_data['Cotacao_USD']\n",
    "\n",
    "merged_data.drop(columns=['Moeda'], inplace=True)\n",
    "\n",
    "merged_data.drop(columns=['Cotacao_USD'], inplace=True)\n",
    "\n",
    "merged_data.dropna(inplace=True)\n",
    "\n",
    "merged_data"
   ]
  },
  {
   "cell_type": "code",
   "execution_count": null,
   "metadata": {},
   "outputs": [],
   "source": [
    "merged_data.drop(columns=['Pais', 'CategoriaHotel'], inplace=True)"
   ]
  },
  {
   "cell_type": "code",
   "execution_count": null,
   "metadata": {},
   "outputs": [],
   "source": [
    "merged_data"
   ]
  },
  {
   "cell_type": "code",
   "execution_count": null,
   "metadata": {},
   "outputs": [],
   "source": [
    "merged_data"
   ]
  },
  {
   "cell_type": "code",
   "execution_count": 50,
   "metadata": {},
   "outputs": [],
   "source": [
    "from sklearn.preprocessing import StandardScaler\n",
    "from sklearn.metrics.pairwise import cosine_similarity\n",
    "\n",
    "def rank_suggested_hotels(df_hotels, df_characteristics, canal_id, suggested_hotels_df):\n",
    "    # Scale features\n",
    "    scaler = StandardScaler()\n",
    "    features_to_scale = ['Estrelas', 'Quartos', 'weighted_mean_diaria_usd', \n",
    "                         'total_reservas_estadia', 'total_reservas_estadia_diaria']\n",
    "    characteristics_scaled = df_characteristics.copy()\n",
    "    characteristics_scaled[features_to_scale] = scaler.fit_transform(\n",
    "        characteristics_scaled[features_to_scale]\n",
    "    )\n",
    "    \n",
    "    # Get the original hotels for the given Canal_ID\n",
    "    original_hotels = df_hotels[df_hotels['Canal_ID'] == canal_id]\n",
    "    original_characteristics = characteristics_scaled[\n",
    "        characteristics_scaled['Hotel_ID'].isin(original_hotels['Hotel_ID'])\n",
    "    ]\n",
    "    \n",
    "    # Join suggested hotels with their characteristics\n",
    "    suggested_hotels = pd.merge(\n",
    "        suggested_hotels_df,\n",
    "        characteristics_scaled,\n",
    "        left_on='Unseen_Hotel_ID',\n",
    "        right_on='Hotel_ID',\n",
    "        how='left'\n",
    "    )\n",
    "    \n",
    "    # Add city information to suggested hotels\n",
    "    suggested_hotels = pd.merge(\n",
    "        suggested_hotels,\n",
    "        df_hotels[['Hotel_ID', 'Cidade_ID']].drop_duplicates(),\n",
    "        left_on='Unseen_Hotel_ID',\n",
    "        right_on='Hotel_ID',\n",
    "        suffixes=('', '_city'),\n",
    "        how='left'\n",
    "    )\n",
    "    \n",
    "    ranked_results = []\n",
    "    \n",
    "    for city_id in suggested_hotels['Cidade_ID'].unique():\n",
    "        # Filter for hotels in this city\n",
    "        city_suggested_hotels = suggested_hotels[suggested_hotels['Cidade_ID'] == city_id]\n",
    "        city_original_hotels = original_characteristics[\n",
    "            original_characteristics['Hotel_ID'].isin(\n",
    "                original_hotels[original_hotels['Cidade_ID'] == city_id]['Hotel_ID']\n",
    "            )\n",
    "        ]\n",
    "        \n",
    "        if city_original_hotels.empty or city_suggested_hotels.empty:\n",
    "            continue\n",
    "        \n",
    "        # Handle missing values\n",
    "        city_suggested_hotels[features_to_scale] = city_suggested_hotels[features_to_scale].fillna(0)\n",
    "        city_original_hotels[features_to_scale] = city_original_hotels[features_to_scale].fillna(0)\n",
    "        \n",
    "        # Extract feature matrices\n",
    "        suggested_features = city_suggested_hotels[features_to_scale].values\n",
    "        original_features = city_original_hotels[features_to_scale].values\n",
    "        \n",
    "        # Calculate cosine similarity\n",
    "        similarity_matrix = cosine_similarity(suggested_features, original_features)\n",
    "        \n",
    "        # Rank suggested hotels by their maximum similarity to original hotels\n",
    "        city_suggested_hotels['Max_Similarity'] = similarity_matrix.max(axis=1)\n",
    "        city_ranked = city_suggested_hotels.sort_values(\n",
    "            by='Max_Similarity', ascending=False\n",
    "        ).reset_index(drop=True)\n",
    "        \n",
    "        # Exclude original hotels from the ranking (sanity check)\n",
    "        city_ranked = city_ranked[~city_ranked['Unseen_Hotel_ID'].isin(original_hotels['Hotel_ID'])]\n",
    "        \n",
    "        ranked_results.append(city_ranked)\n",
    "    \n",
    "    # Combine ranked results for all cities\n",
    "    final_ranked = pd.concat(ranked_results, ignore_index=True) if ranked_results else pd.DataFrame()\n",
    "    return final_ranked\n"
   ]
  },
  {
   "cell_type": "code",
   "execution_count": null,
   "metadata": {},
   "outputs": [],
   "source": [
    "counts = hotel_city_chanel_combin_extract.groupby('Canal_ID').size().reset_index(name='Counts').sort_values(by='Counts', ascending=True)\n",
    "counts[counts['Counts'] >100]"
   ]
  },
  {
   "cell_type": "code",
   "execution_count": 41,
   "metadata": {},
   "outputs": [],
   "source": [
    "suggested_hotels = get_unseen_hotels(hotel_city_chanel_combin_extract, 1124)"
   ]
  },
  {
   "cell_type": "code",
   "execution_count": null,
   "metadata": {},
   "outputs": [],
   "source": [
    "suggested_hotels"
   ]
  },
  {
   "cell_type": "code",
   "execution_count": null,
   "metadata": {},
   "outputs": [],
   "source": [
    "# Example usage\n",
    "ranked_hotels = rank_suggested_hotels(\n",
    "    hotel_city_chanel_combin_extract,\n",
    "    merged_data,\n",
    "    1124,\n",
    "    suggested_hotels\n",
    ")\n",
    "print(ranked_hotels.head())\n"
   ]
  },
  {
   "cell_type": "code",
   "execution_count": null,
   "metadata": {},
   "outputs": [],
   "source": [
    "ranked_hotels.groupby('Unseen_Hotel_ID').size().reset_index(name='Counts').sort_values(by='Counts', ascending=False)"
   ]
  },
  {
   "cell_type": "code",
   "execution_count": null,
   "metadata": {},
   "outputs": [],
   "source": [
    "ranked_hotels"
   ]
  },
  {
   "cell_type": "code",
   "execution_count": null,
   "metadata": {},
   "outputs": [],
   "source": [
    "ranked_hotels[ranked_hotels['Unseen_Hotel_ID'] == 13992.0]"
   ]
  },
  {
   "cell_type": "code",
   "execution_count": null,
   "metadata": {},
   "outputs": [],
   "source": [
    "suggested_hotels[suggested_hotels['Unseen_Hotel_ID'] == 19974.0]"
   ]
  },
  {
   "cell_type": "code",
   "execution_count": null,
   "metadata": {},
   "outputs": [],
   "source": [
    "hotel_city_chanel_combin_extract[hotel_city_chanel_combin_extract['Hotel_ID'] == 19974.0]"
   ]
  },
  {
   "cell_type": "code",
   "execution_count": null,
   "metadata": {},
   "outputs": [],
   "source": []
  }
 ],
 "metadata": {
  "kernelspec": {
   "display_name": "Python 3",
   "language": "python",
   "name": "python3"
  },
  "language_info": {
   "codemirror_mode": {
    "name": "ipython",
    "version": 3
   },
   "file_extension": ".py",
   "mimetype": "text/x-python",
   "name": "python",
   "nbconvert_exporter": "python",
   "pygments_lexer": "ipython3",
   "version": "3.10.6"
  }
 },
 "nbformat": 4,
 "nbformat_minor": 2
}
