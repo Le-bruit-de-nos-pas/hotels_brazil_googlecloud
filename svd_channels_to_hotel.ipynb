{
 "cells": [
  {
   "cell_type": "code",
   "execution_count": null,
   "metadata": {},
   "outputs": [],
   "source": [
    "import pandas as pd\n",
    "import numpy as np  \n",
    "\n",
    "from sklearn.preprocessing import StandardScaler\n",
    "from sklearn.metrics.pairwise import cosine_similarity\n",
    "\n",
    "from surprise import SVD, Dataset, Reader\n",
    "from surprise.model_selection import train_test_split\n",
    "\n",
    "from collections import defaultdict\n",
    "import os\n",
    "pd.set_option('display.float_format', lambda x: '%.0f' % x)"
   ]
  },
  {
   "cell_type": "code",
   "execution_count": null,
   "metadata": {},
   "outputs": [],
   "source": [
    "# Information about individual channels\n",
    "data_lake_prd_314410_cz_canais = pd.read_csv('../data/lookups/data-lake-prd-314410.cz.canais.csv')"
   ]
  },
  {
   "cell_type": "code",
   "execution_count": null,
   "metadata": {},
   "outputs": [],
   "source": [
    "# List of hotel-channel combinations as of January 2025\n",
    "hotel_city_chanel_combin_extract  = pd.read_csv('../data/other/hotel_city_chanel_combin_extract.csv')\n",
    "hotel_city_chanel_combin_extract.dropna(inplace=True)\n",
    "hotel_city_chanel_combin_extract.drop(columns=['Cidade_ID'], inplace=True)\n",
    "hotel_city_chanel_combin_extract.drop_duplicates(inplace=True)"
   ]
  },
  {
   "cell_type": "code",
   "execution_count": null,
   "metadata": {},
   "outputs": [],
   "source": [
    "hotel_city_chanel_combin_extract['Hotel_ID'].max()"
   ]
  },
  {
   "cell_type": "markdown",
   "metadata": {},
   "source": [
    "# Singular Value Decomposition (SVD) "
   ]
  },
  {
   "cell_type": "code",
   "execution_count": null,
   "metadata": {},
   "outputs": [],
   "source": [
    "# Pivot the table\n",
    "pivot_table = hotel_city_chanel_combin_extract.pivot_table(index='Hotel_ID', columns='Canal_ID', aggfunc='size', fill_value=0)\n",
    "# Convert the table to binary (1 where the combination existed, 0 otherwise)\n",
    "pivot_table = pivot_table.map(lambda x: 1 if x > 0 else 0)\n"
   ]
  },
  {
   "cell_type": "code",
   "execution_count": null,
   "metadata": {},
   "outputs": [],
   "source": [
    "pivot_table"
   ]
  },
  {
   "cell_type": "code",
   "execution_count": null,
   "metadata": {},
   "outputs": [],
   "source": [
    "# Count the number of 1s for each column\n",
    "counts_per_channel = pivot_table.sum().sort_values(ascending=False)"
   ]
  },
  {
   "cell_type": "markdown",
   "metadata": {},
   "source": [
    "### Singular Value Decomposition (SVD) \n",
    "\n",
    "In collaborative filtering and recommendation systems, one of the most widely used techniques for matrix factorization is **Singular Value Decomposition (SVD)**. \n",
    "The purpose of using SVD is to decompose a large, sparse matrix (such as a user-item or hotel-channel matrix) into smaller, dense matrices that represent the latent factors underlying the data.\n",
    "\n",
    "For example, in a hotel-channel recommendation system:\n",
    "- The rows represent hotels (users).\n",
    "- The columns represent channels (items).\n",
    "- The entries represent whether a hotel uses a particular channel or not (binary, 0 or 1), or how much they use the channel (ratings).\n",
    "\n",
    "SVD allows us to reduce the dimensionality of this matrix, uncover hidden relationships (latent factors) between hotels and channels, and predict missing values (channels a hotel might be interested in). By doing so, SVD helps generate accurate recommendations based on user (hotel) preferences and item (channel) characteristics, even for unknown combinations.\n",
    "\n",
    "### Conceptual Explanation\n",
    "\n",
    "SVD works by decomposing the original matrix `R` (of shape `m x n` where `m` is the number of users (hotels) and `n` is the number of items (channels)) into three smaller matrices:\n",
    "\n",
    "$$\n",
    "R = U \\Sigma V^T\n",
    "$$\n",
    "\n",
    "Where:\n",
    "- $R$ is the original matrix of size $m \\times n $.\n",
    "- $ U $ is an $ m \\times k $ matrix (left singular vectors or user factors).\n",
    "- $ \\Sigma $ is a $ k \\times k $ diagonal matrix (singular values, capturing the strength of the latent factors).\n",
    "- $ V^T $ is an $ k \\times n $ matrix (right singular vectors or item factors).\n",
    "- $ k $ is the number of latent factors (typically much smaller than `m` and `n`, we are using 100 latent factors).\n",
    "\n",
    "### What does this decomposition represent?\n",
    "\n",
    "1. **U (User Features Matrix)**: Each row of matrix $ U $ represents a hotel (user) in the latent factor space, capturing the latent characteristics that describe each hotel’s preferences or behaviors.\n",
    "\n",
    "2. **Σ (Singular Values)**: These values capture the importance of each latent factor in the decomposition. They are sorted in descending order, and larger values indicate that the corresponding latent factors are more significant.\n",
    "\n",
    "3. **V^T (Item Features Matrix)**: Each column of matrix $ V^T $ represents a channel (item) in the latent factor space, capturing the latent characteristics that describe each channel’s attributes or features.\n",
    "\n",
    "### How Does SVD Help in Recommendations?\n",
    "\n",
    "SVD allows us to make predictions for missing values in the matrix (e.g., predicting how much a hotel would be expected to be paired with a certain channel that they have never used before). Once the decomposition is done, the predicted rating for a hotel-channel combination can be calculated as:\n",
    "\n",
    "$$\n",
    "\\hat{R}_{ij} = U_i \\Sigma V_j^T\n",
    "$$\n",
    "\n",
    "Where:\n",
    "- $ \\hat{R}_{ij} $ is the predicted value for the hotel $ i $ and the channel $ j $.\n",
    "- $ U_i $ is the row vector corresponding to hotel $ i $ in $ U $ (user factors).\n",
    "- $ \\Sigma $ is the diagonal matrix of singular values.\n",
    "- $ V_j^T $ is the column vector corresponding to channel $ j $ in $ V^T $ (item factors).\n",
    "\n",
    "By multiplying these components together, we obtain an estimate of the rating (or preference) that a hotel would give to a channel.\n",
    "\n",
    "### Mathematical Explanation\n",
    "\n",
    "### SVD in Matrix Form\n",
    "\n",
    "Given a matrix $ R $ (of size $ m \\times n $):\n",
    "\n",
    "$$\n",
    "R = \\begin{pmatrix} \n",
    "r_{11} & r_{12} & \\dots & r_{1n} \\\\\n",
    "r_{21} & r_{22} & \\dots & r_{2n} \\\\\n",
    "\\vdots & \\vdots & \\ddots & \\vdots \\\\\n",
    "r_{m1} & r_{m2} & \\dots & r_{mn} \\\\\n",
    "\\end{pmatrix}\n",
    "$$\n",
    "\n",
    "The goal is to decompose $ R $ into three matrices $ U $, $ \\Sigma $, and $ V^T $ such that:\n",
    "\n",
    "$$\n",
    "R = U \\Sigma V^T\n",
    "$$\n",
    "\n",
    "- **$ U $**: Matrix of size $ m \\times k $ containing the left singular vectors (user factors).\n",
    "- **$ \\Sigma $**: Diagonal matrix of size $ k \\times k $ containing the singular values (strength of latent factors).\n",
    "- **$ V^T $**: Matrix of size $ k \\times n $ containing the right singular vectors (item factors).\n",
    "\n",
    "#### The decomposition aims to approximate the original matrix $ R $ by the product of $ U $, $ \\Sigma $, and $ V^T $. The latent factors in $ U $ and $ V $ capture the underlying structure and relationships between users and items (or hotels and channels), even if the original data matrix is sparse.\n",
    "\n",
    "### Practical Aspects of SVD\n",
    "\n",
    "1. **Dimensionality Reduction**: The number of latent factors $ k $ is typically much smaller than the number of rows and columns in the original matrix. This reduction in dimensions helps in making the computations more efficient and reveals patterns in the data that might otherwise be difficult to detect.\n",
    "\n",
    "2. **Regularization**: In practice, regularization is often applied to prevent overfitting, particularly when dealing with sparse matrices. Regularization terms are added to the loss function to penalize large values in the latent factors.\n",
    "\n",
    "3. **Alternating Least Squares (ALS)**: SVD is typically computed using iterative methods like **Alternating Least Squares (ALS)**, where the latent factors are updated alternately for users and items to minimize the reconstruction error of the original matrix.\n",
    "\n",
    "### Steps in Training an SVD Model\n",
    "\n",
    "1. **Matrix Decomposition**: The matrix $ R $ is decomposed into $ U $, $ \\Sigma $, and $ V^T $.\n",
    "2. **Model Fitting**: The SVD model learns the latent factors that best represent the preferences or interactions between users and items.\n",
    "3. **Prediction**: For each hotel (user) and channel (item), the model predicts the rating (or preference) using the learned latent factors."
   ]
  },
  {
   "cell_type": "code",
   "execution_count": null,
   "metadata": {},
   "outputs": [],
   "source": [
    "# Step 1: Prepare the data matrix\n",
    "\n",
    "# Loops through the rows (hotels) and columns (channels) of the wide matrix above\n",
    "# Extracts ratings from the DataFrame and stores them as (hotel, channel, rating) tuples\n",
    "# Creates a new Pandas DataFrame (ratings_df) with three columns:\n",
    "# -hotel: The identifier of the hotel.\n",
    "# -channel: The distribution channel (e.g., Expedia, Booking.com, etc.).\n",
    "# -rating: The rating or score between 0 and 1.\n",
    "# Prepares the data for the Surprise library. Reader(rating_scale=(0, 1)) tells Surprise that ratings range from 0 to 1.\n",
    "# Dataset.load_from_df(ratings_df, reader) converts the DataFrame into a Surprise Dataset.\n",
    "\n",
    "\n",
    "def prepare_data(df):\n",
    "    ratings = []\n",
    "    for hotel in df.index:\n",
    "        for channel in df.columns:\n",
    "            ratings.append((hotel, channel, df.loc[hotel, channel]))\n",
    "\n",
    "    ratings_df = pd.DataFrame(ratings, columns=['hotel', 'channel', 'rating'])\n",
    "    reader = Reader(rating_scale=(0, 1))\n",
    "    return Dataset.load_from_df(ratings_df, reader)\n"
   ]
  },
  {
   "cell_type": "code",
   "execution_count": null,
   "metadata": {},
   "outputs": [],
   "source": [
    "# Step 2: Train the model\n",
    "\n",
    "# Splits the Data into Training & Test Sets\n",
    "# model = SVD(n_factors=100, n_epochs=20, lr_all=0.005, reg_all=0.02)\n",
    "# SVD is a matrix factorization model used in collaborative filtering.\n",
    "#Parameters:\n",
    "# n_factors=100 → Number of latent factors (hidden features) in the model.\n",
    "# n_epochs=20 → Number of training iterations.\n",
    "# lr_all=0.005 → Learning rate for gradient descent.\n",
    "# reg_all=0.02 → Regularization term to prevent overfitting.\n",
    "\n",
    "\n",
    "def train_model(data):\n",
    "    trainset, testset = train_test_split(data, test_size=0.25, random_state=42)\n",
    "    model = SVD(n_factors=100, n_epochs=20, lr_all=0.005, reg_all=0.02)\n",
    "    model.fit(trainset)\n",
    "    return model"
   ]
  },
  {
   "cell_type": "code",
   "execution_count": null,
   "metadata": {},
   "outputs": [],
   "source": [
    "# Step 3: Generate recommendations\n",
    "\n",
    "# Processes the prediction results from the SVD model and extracts the top N recommendations for each hotel.\n",
    "# Creates a Dictionary to Store Recommendations\n",
    "# top_n is a dictionary where:\n",
    "# -Keys = uid (hotel ID).\n",
    "# -Values = A list of tuples (iid, est), where:\n",
    "# -iid = channel ID.\n",
    "# -est = predicted rating.\n",
    "# Processes Predictions and Stores Estimated Ratings\n",
    "# for uid, iid, true_r, est, _ in predictions:\n",
    "#    top_n[uid].append((iid, est))\n",
    "# The predictions list contains tuples with:\n",
    "# -uid: Hotel ID\n",
    "# -iid: Channel ID\n",
    "# -true_r: Actual rating (ignored in this function)\n",
    "# -est: Predicted rating (used for ranking)\n",
    "# Stores (iid, est) in top_n[uid] for each hotel.\n",
    "# Sorts Channels by Predicted Rating in Descending Order\n",
    "#  for uid, user_ratings in top_n.items():\n",
    "#     user_ratings.sort(key=lambda x: x[1], reverse=True)\n",
    "#      top_n[uid] = user_ratings[:n]\n",
    "# Sorts the channels for each hotel based on estimated rating (est).\n",
    "# Keeps only the top N channels with the highest predicted ratings.\n",
    "# Returns the Dictionary with Top N Recommendations\n",
    "\n",
    "def get_top_n_recommendations(predictions, n=5):\n",
    "    top_n = defaultdict(list)\n",
    "    for uid, iid, true_r, est, _ in predictions:\n",
    "        top_n[uid].append((iid, est))\n",
    "    \n",
    "    for uid, user_ratings in top_n.items():\n",
    "        user_ratings.sort(key=lambda x: x[1], reverse=True)\n",
    "        top_n[uid] = user_ratings[:n]\n",
    "    \n",
    "    return top_n"
   ]
  },
  {
   "cell_type": "code",
   "execution_count": null,
   "metadata": {},
   "outputs": [],
   "source": [
    "# Step 4: Recommend channels\n",
    "\n",
    "# Generates top N recommended channels for a given hotel using a trained SVD model.\n",
    "# Extracts All Available Channels from the Dataset\n",
    "# Creates a Test Set for the Given Hotel\n",
    "# Generates a list of test samples where:\n",
    "# -hotel_id: The hotel we want recommendations for.\n",
    "# -iid: Each possible channel.\n",
    "# -0: A placeholder rating (it will be predicted).\n",
    "# Uses the SVD model to predict ratings for all channels.\n",
    "# Returns the Top N Channels for the Hotel\n",
    "\n",
    "def recommend_channels(hotel_id, model, data, n=5):\n",
    "    iids = data.df['channel'].unique()\n",
    "    testset = [(hotel_id, iid, 0) for iid in iids]\n",
    "    predictions = model.test(testset)\n",
    "    top_n = get_top_n_recommendations(predictions, n)\n",
    "    return top_n[hotel_id]"
   ]
  },
  {
   "cell_type": "code",
   "execution_count": null,
   "metadata": {},
   "outputs": [],
   "source": [
    "# Main execution\n",
    "\n",
    "df = pivot_table\n",
    "data = prepare_data(df)\n",
    "model = train_model(data)\n"
   ]
  },
  {
   "cell_type": "code",
   "execution_count": null,
   "metadata": {},
   "outputs": [],
   "source": [
    "# Example usage for 1 hotel\n",
    "hotel_id = df.index[0]  # Choose a hotel\n",
    "\n",
    "recommendations = recommend_channels(hotel_id, model, data, n=50)\n",
    "\n",
    "print(f\"Recommended channels for hotel {hotel_id:.0f}:\")\n",
    "\n",
    "for channel, score in recommendations:\n",
    "    print(f\"{channel}: {score:.4f}\")"
   ]
  },
  {
   "cell_type": "code",
   "execution_count": null,
   "metadata": {},
   "outputs": [],
   "source": [
    "\n",
    "def recommend_channels_exclude_existing(hotel_id, model, data, existing_channels, n=50):\n",
    "    # Get unique channel IDs from the data\n",
    "    iids = data.df['channel'].unique()\n",
    "    \n",
    "    # Generate test set for the given hotel\n",
    "    testset = [(hotel_id, iid, 0) for iid in iids]\n",
    "    \n",
    "    # Get predictions for the test set\n",
    "    predictions = model.test(testset)\n",
    "    \n",
    "    # Get top N recommendations\n",
    "    top_n = get_top_n_recommendations(predictions, n)\n",
    "    \n",
    "    # Get the list of channels that the hotel already has\n",
    "    existing_hotel_channels = existing_channels[existing_channels['Hotel_ID'] == hotel_id]['Canal_ID'].values\n",
    "    \n",
    "    # Exclude the channels that are already associated with the hotel\n",
    "    filtered_recommendations = [rec for rec in top_n[hotel_id] if rec[0] not in existing_hotel_channels]\n",
    "    \n",
    "    return filtered_recommendations"
   ]
  },
  {
   "cell_type": "code",
   "execution_count": null,
   "metadata": {},
   "outputs": [],
   "source": [
    "# Create a dictionary to store the recommendations for each hotel\n",
    "recommendations_dict = {}\n",
    "\n",
    "# Loop through each hotel in df and get the top 50 recommended channels\n",
    "for hotel_id in df.index:\n",
    "    recommendations = recommend_channels_exclude_existing(hotel_id, model, data, hotel_city_chanel_combin_extract, n=50)\n",
    "    \n",
    "    # Store the recommendations in the dictionary\n",
    "    recommendations_dict[hotel_id] = recommendations"
   ]
  },
  {
   "cell_type": "code",
   "execution_count": null,
   "metadata": {},
   "outputs": [],
   "source": [
    "import pickle\n",
    "\n",
    "# Save the recommendations_dict using pickle\n",
    "# Pickle serializes (converts) Python objects into a binary format for storage or transfer \n",
    "# Then deserializes (restores) them back to their original form when needed. \n",
    "# Serialization (Pickling): The process of converting a Python object into a byte stream (binary data) that can be saved to a file or sent over a network.\n",
    "# Deserialization (Unpickling): The process of reading a byte stream (binary data) and converting it back into a Python object.\n",
    "# Pickle uses a binary format to represent Python objects (not human-readable).\n",
    "\n",
    "with open('../out/recommendations_dict.pkl', 'wb') as f:\n",
    "    pickle.dump(recommendations_dict, f)"
   ]
  },
  {
   "cell_type": "code",
   "execution_count": null,
   "metadata": {},
   "outputs": [],
   "source": [
    "# Load the recommendations_dict using pickle\n",
    "with open('../out/svd_recommendations_dict.pkl', 'rb') as f:\n",
    "    loaded_recommendations_dict = pickle.load(f)"
   ]
  },
  {
   "cell_type": "code",
   "execution_count": null,
   "metadata": {},
   "outputs": [],
   "source": [
    "flattened_data = []\n",
    "\n",
    "for hotel_id, recommendations in recommendations_dict.items():\n",
    "    for channel_ID, score in recommendations:\n",
    "        flattened_data.append({\n",
    "            'Hotel_ID': hotel_id,\n",
    "            'Channel_ID': channel_ID,\n",
    "            'Score': score  \n",
    "        })\n",
    "\n",
    "\n",
    "flattened_data = pd.DataFrame(flattened_data)"
   ]
  },
  {
   "cell_type": "code",
   "execution_count": null,
   "metadata": {},
   "outputs": [],
   "source": [
    "pd.set_option('display.float_format', lambda x: '%.4f' % x)\n",
    "\n",
    "flattened_data"
   ]
  },
  {
   "cell_type": "code",
   "execution_count": null,
   "metadata": {},
   "outputs": [],
   "source": [
    "flattened_data['Hotel_ID'] = flattened_data['Hotel_ID'].astype(int)"
   ]
  },
  {
   "cell_type": "code",
   "execution_count": null,
   "metadata": {},
   "outputs": [],
   "source": [
    "flattened_data.to_csv('../out/svd_hotel_channel_recommendations_df_top50.csv', index=False)"
   ]
  },
  {
   "cell_type": "markdown",
   "metadata": {},
   "source": [
    "## Check Recommendations based on hotel similarity"
   ]
  },
  {
   "cell_type": "code",
   "execution_count": null,
   "metadata": {},
   "outputs": [],
   "source": [
    "import pandas as pd \n",
    "\n",
    "# List of hotel-channel combinations as of January 2025\n",
    "hotel_city_chanel_combin_extract  = pd.read_csv('../data/other/hotel_city_chanel_combin_extract.csv')\n",
    "hotel_city_chanel_combin_extract.dropna(inplace=True)\n",
    "hotel_city_chanel_combin_extract.drop(columns=['Cidade_ID'], inplace=True)\n",
    "hotel_city_chanel_combin_extract.drop_duplicates(inplace=True)\n",
    "\n",
    "# Pivot the table\n",
    "pivot_table = hotel_city_chanel_combin_extract.pivot_table(index='Hotel_ID', columns='Canal_ID', aggfunc='size', fill_value=0)\n",
    "# Convert the table to binary (1 where the combination existed, 0 otherwise)\n",
    "pivot_table = pivot_table.map(lambda x: 1 if x > 0 else 0)\n"
   ]
  },
  {
   "cell_type": "code",
   "execution_count": null,
   "metadata": {},
   "outputs": [],
   "source": [
    "pivot_table"
   ]
  },
  {
   "cell_type": "code",
   "execution_count": null,
   "metadata": {},
   "outputs": [],
   "source": [
    "flattened_data = pd.read_csv('../out/svd_hotel_channel_recommendations_df_top50.csv')"
   ]
  },
  {
   "cell_type": "code",
   "execution_count": null,
   "metadata": {},
   "outputs": [],
   "source": [
    "flattened_data"
   ]
  },
  {
   "cell_type": "code",
   "execution_count": null,
   "metadata": {},
   "outputs": [],
   "source": [
    "from sklearn.metrics.pairwise import cosine_similarity\n",
    "import pandas as pd\n",
    "\n",
    "def compute_hotel_similarity(pivot_table):\n",
    "    \"\"\"\n",
    "    Computes cosine similarity between all hotels in the pivot table.\n",
    "    \n",
    "    Parameters:\n",
    "    - pivot_table: DataFrame with Hotel_ID as index, Canal_IDs as binary columns\n",
    "    \n",
    "    Returns:\n",
    "    - similarity_df: DataFrame with cosine similarity values between hotels\n",
    "    \"\"\"\n",
    "\n",
    "    similarity_matrix = cosine_similarity(pivot_table)\n",
    "    similarity_df = pd.DataFrame(similarity_matrix, \n",
    "                                 index=pivot_table.index, \n",
    "                                 columns=pivot_table.index)\n",
    "    return similarity_df"
   ]
  },
  {
   "cell_type": "code",
   "execution_count": null,
   "metadata": {},
   "outputs": [],
   "source": [
    "def get_closest_hotels(hotel_id, similarity_df, top_n=5, direction=\"top\"):\n",
    "    \"\"\"\n",
    "    Returns the top_n most similar or least similar hotels to the given hotel_id.\n",
    "    \n",
    "    Parameters:\n",
    "    - hotel_id: The ID of the hotel for which we want recommendations\n",
    "    - similarity_df: DataFrame with cosine similarity values between hotels\n",
    "    - top_n: Number of similar hotels to return (top or bottom)\n",
    "    - direction: \"top\" for most similar, \"bottom\" for least similar\n",
    "    \n",
    "    Returns:\n",
    "    - closest_hotels: List of hotel IDs of the most or least similar hotels\n",
    "    \"\"\"\n",
    "    # Get the similarity scores for the given hotel_id\n",
    "    similarity_scores = similarity_df[hotel_id].sort_values(ascending=False)\n",
    "    \n",
    "    # Exclude the hotel itself (first entry)\n",
    "    similarity_scores = similarity_scores.iloc[1:]\n",
    "    \n",
    "    if direction == \"top\":\n",
    "        # Get the top N most similar hotels (highest similarity)\n",
    "        closest_hotels = similarity_scores.head(top_n)\n",
    "    elif direction == \"bottom\":\n",
    "        # Get the bottom N least similar hotels (lowest similarity)\n",
    "        closest_hotels = similarity_scores.tail(top_n)\n",
    "    else:\n",
    "        raise ValueError(\"Direction must be 'top' or 'bottom'\")\n",
    "    \n",
    "    return closest_hotels.index.tolist(), closest_hotels.values.tolist()\n"
   ]
  },
  {
   "cell_type": "code",
   "execution_count": null,
   "metadata": {},
   "outputs": [],
   "source": [
    "similarity_df = compute_hotel_similarity(pivot_table)\n",
    "\n",
    "# Example: Get the top 5 closest hotels for hotel with ID '2'\n",
    "hotel_id = 7941  # Example hotel ID\n",
    "top_n = 5\n",
    "similar_hotels, similarity_values = get_closest_hotels(hotel_id, similarity_df, top_n, 'top')\n",
    "print(\"Most similar hotels to hotel\", hotel_id, \":\", similar_hotels)\n"
   ]
  },
  {
   "cell_type": "code",
   "execution_count": null,
   "metadata": {},
   "outputs": [],
   "source": [
    "def get_channel_recommendations(hotel_id, flattened_data):\n",
    "    \"\"\"\n",
    "    Returns the set of recommended channels for a given hotel.\n",
    "    \n",
    "    Parameters:\n",
    "    - hotel_id: The ID of the hotel\n",
    "    - flattened_data: DataFrame with Hotel_ID, Channel_ID, and Score columns\n",
    "    \n",
    "    Returns:\n",
    "    - recommended_channels: Set of Channel_IDs recommended for the hotel\n",
    "    \"\"\"\n",
    "    # Filter recommendations for the given hotel\n",
    "    hotel_data = flattened_data[flattened_data['Hotel_ID'] == hotel_id]\n",
    "    recommended_channels = set(hotel_data['Channel_ID'])\n",
    "    return recommended_channels"
   ]
  },
  {
   "cell_type": "code",
   "execution_count": null,
   "metadata": {},
   "outputs": [],
   "source": [
    "# Example: Get channel recommendations for the input hotel and closest hotels\n",
    "input_hotel = hotel_id  # Example hotel ID\n",
    "closest_hotels = similar_hotels  # Example closest hotels\n",
    "\n",
    "input_hotel_channels = get_channel_recommendations(input_hotel, flattened_data)\n",
    "\n",
    "closest_hotels_channels = {\n",
    "    hotel: get_channel_recommendations(hotel, flattened_data) for hotel in closest_hotels\n",
    "}\n",
    "\n",
    "# Print the channel recommendations for the input hotel and its closest hotels\n",
    "print(\"Input Hotel Channels:\", input_hotel_channels)\n",
    "for hotel, channels in closest_hotels_channels.items():\n",
    "    print(f\"Channels for Hotel {hotel}: {channels}\")"
   ]
  },
  {
   "cell_type": "code",
   "execution_count": null,
   "metadata": {},
   "outputs": [],
   "source": [
    "def find_channel_intersection(input_hotel_channels, closest_hotels_channels):\n",
    "    \"\"\"\n",
    "    Finds the intersection of recommended channels between the input hotel and each of its closest hotels.\n",
    "    \n",
    "    Parameters:\n",
    "    - input_hotel_channels: Set of recommended channels for the input hotel\n",
    "    - closest_hotels_channels: Dictionary with hotel IDs as keys and sets of recommended channels as values\n",
    "    \n",
    "    Returns:\n",
    "    - intersections: Dictionary with hotel IDs as keys and the intersection of recommended channels as values\n",
    "    \"\"\"\n",
    "    intersections = {}\n",
    "    \n",
    "    for hotel_id, channels in closest_hotels_channels.items():\n",
    "        intersection = input_hotel_channels.intersection(channels)\n",
    "        intersections[hotel_id] = intersection\n",
    "    \n",
    "    return intersections\n",
    "\n",
    "# Get intersections of channel recommendations\n",
    "channel_intersections = find_channel_intersection(input_hotel_channels, closest_hotels_channels)\n",
    "\n",
    "# Print the intersections\n",
    "print(\"\\nChannel Recommendations Intersections:\")\n",
    "for hotel, intersection in channel_intersections.items():\n",
    "    print(f\"Intersection with Hotel {hotel}: {intersection}\")\n"
   ]
  },
  {
   "cell_type": "code",
   "execution_count": null,
   "metadata": {},
   "outputs": [],
   "source": [
    "input_hotel_channels"
   ]
  },
  {
   "cell_type": "code",
   "execution_count": null,
   "metadata": {},
   "outputs": [],
   "source": [
    "# Print the length of the intersection for each hotel in the dictionary\n",
    "print(\"Number of common channel recommendations:\")\n",
    "\n",
    "for hotel_id, intersection in channel_intersections.items():\n",
    "    print(f\"Hotel {hotel_id}: {len(intersection)} common channels\")"
   ]
  },
  {
   "cell_type": "code",
   "execution_count": null,
   "metadata": {},
   "outputs": [],
   "source": []
  }
 ],
 "metadata": {
  "kernelspec": {
   "display_name": "myenv",
   "language": "python",
   "name": "python3"
  },
  "language_info": {
   "codemirror_mode": {
    "name": "ipython",
    "version": 3
   },
   "file_extension": ".py",
   "mimetype": "text/x-python",
   "name": "python",
   "nbconvert_exporter": "python",
   "pygments_lexer": "ipython3",
   "version": "3.10.6"
  }
 },
 "nbformat": 4,
 "nbformat_minor": 2
}
