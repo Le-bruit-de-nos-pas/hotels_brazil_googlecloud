{
 "cells": [
  {
   "cell_type": "code",
   "execution_count": null,
   "metadata": {},
   "outputs": [],
   "source": [
    "import pandas as pd\n",
    "import numpy as np  \n",
    "import os\n",
    "from prophet import Prophet\n",
    "import matplotlib.pyplot as plt"
   ]
  },
  {
   "cell_type": "code",
   "execution_count": null,
   "metadata": {},
   "outputs": [],
   "source": [
    "# Get the current directory\n",
    "current_dir = os.getcwd()\n",
    "\n",
    "# Navigate one folder up\n",
    "parent_dir = os.path.dirname(current_dir)\n",
    "\n",
    "# Where the files are located\n",
    "data = \"data/other/2021_Jan2025_PricesHotelsDates\"\n",
    "\n",
    "# Navigate down into the \"data\" folder\n",
    "data_dir = os.path.join(parent_dir, data)\n",
    "\n",
    "# Initialize an empty list to store DataFrames\n",
    "dataframes = []\n",
    "\n",
    "# Variable to track total rows\n",
    "total_rows = 0\n",
    "\n",
    "# Loop through all files in the \"data\" folder\n",
    "try:\n",
    "    for file_name in os.listdir(data_dir):\n",
    "        \n",
    "        if file_name.endswith('.csv'):  # Check if the file is a CSV\n",
    "            \n",
    "            file_path = os.path.join(data_dir, file_name)\n",
    "            \n",
    "            # Read the CSV file into a DataFrame\n",
    "            df = pd.read_csv(file_path)\n",
    "            dataframes.append(df)  # Append the DataFrame to the list\n",
    "            \n",
    "             # Print dimensions of the current file\n",
    "            print(f\"File: {file_name} | Dimensions: {df.shape}\")\n",
    "            \n",
    "            # Add the number of rows to the total count\n",
    "            total_rows += df.shape[0]\n",
    "\n",
    "    # Concatenate all DataFrames in the list by binding rows\n",
    "    combined_df = pd.concat(dataframes, ignore_index=True)\n",
    "\n",
    "    # Print dimensions of the combined DataFrame\n",
    "    print(f\"Combined DataFrame Dimensions: {combined_df.shape}\")\n",
    "\n",
    "    # Verify the sum of rows matches\n",
    "    if total_rows == combined_df.shape[0]:\n",
    "        print(\"Row count verification successful! Total rows match.\")\n",
    "    else:\n",
    "        print(\"Row count verification failed! Mismatch in row count.\")\n",
    "\n",
    "    print(combined_df.head())  # Display the first few rows of the combined DataFrame\n",
    "\n",
    "except FileNotFoundError:\n",
    "    print(f\"Folder '{data_dir}' not found.\")\n",
    "except Exception as e:\n",
    "    print(f\"An error occurred: {e}\")"
   ]
  },
  {
   "cell_type": "code",
   "execution_count": null,
   "metadata": {},
   "outputs": [],
   "source": [
    "combined_df.shape"
   ]
  },
  {
   "cell_type": "code",
   "execution_count": 6,
   "metadata": {},
   "outputs": [],
   "source": [
    "del current_dir, data, data_dir, dataframes, df, file_name, file_path, parent_dir, total_rows"
   ]
  },
  {
   "cell_type": "code",
   "execution_count": null,
   "metadata": {},
   "outputs": [],
   "source": [
    "data_lake_prd_314410_cz_moedas = pd.read_csv('..\\\\data\\\\lookups\\\\data-lake-prd-314410.cz.moedas.csv')\n",
    "data_lake_prd_314410_cz_moedas.head"
   ]
  },
  {
   "cell_type": "code",
   "execution_count": null,
   "metadata": {},
   "outputs": [],
   "source": [
    "data_lake_prd_314410_cz_hoteis = pd.read_csv('..\\\\data\\\\lookups\\\\data-lake-prd-314410.cz.hoteis.csv')\n",
    "data_lake_prd_314410_cz_hoteis.head"
   ]
  },
  {
   "cell_type": "code",
   "execution_count": null,
   "metadata": {},
   "outputs": [],
   "source": [
    "data_lake_prd_314410_cz_hoteis = data_lake_prd_314410_cz_hoteis[['Hotel_ID', 'Moeda']]"
   ]
  },
  {
   "cell_type": "code",
   "execution_count": 16,
   "metadata": {},
   "outputs": [],
   "source": [
    "data_lake_prd_314410_cz_hoteis = pd.merge(data_lake_prd_314410_cz_hoteis, \n",
    "                     data_lake_prd_314410_cz_moedas[['Moeda', 'Cotacao_USD']], \n",
    "                     on='Moeda', \n",
    "                     how='left')\n"
   ]
  },
  {
   "cell_type": "code",
   "execution_count": 18,
   "metadata": {},
   "outputs": [],
   "source": [
    "data_lake_prd_314410_cz_hoteis = data_lake_prd_314410_cz_hoteis.dropna()"
   ]
  },
  {
   "cell_type": "code",
   "execution_count": null,
   "metadata": {},
   "outputs": [],
   "source": [
    "data_lake_prd_314410_cz_hoteis # if wanting to convert it all to dollars"
   ]
  },
  {
   "cell_type": "code",
   "execution_count": null,
   "metadata": {},
   "outputs": [],
   "source": [
    "combined_df"
   ]
  },
  {
   "cell_type": "code",
   "execution_count": null,
   "metadata": {},
   "outputs": [],
   "source": [
    "combined_df['Data'] = pd.to_datetime(combined_df['Data']).dt.tz_localize(None)\n",
    "combined_df.head"
   ]
  },
  {
   "cell_type": "code",
   "execution_count": null,
   "metadata": {},
   "outputs": [],
   "source": [
    "\n",
    "# Filter for data in 2024\n",
    "hotels_2024 = combined_df[combined_df['Data'].dt.year == 2024]['Hotel_ID'].unique()\n",
    "\n",
    "# Filter the original combined_df to keep only hotels that appeared in 2024\n",
    "combined_df = combined_df[combined_df['Hotel_ID'].isin(hotels_2024)]\n",
    "\n",
    "# Display the filtered DataFrame\n",
    "combined_df"
   ]
  },
  {
   "cell_type": "code",
   "execution_count": null,
   "metadata": {},
   "outputs": [],
   "source": [
    "hotels_2024.shape"
   ]
  },
  {
   "cell_type": "code",
   "execution_count": 26,
   "metadata": {},
   "outputs": [],
   "source": [
    "combined_df = combined_df.loc[:, ['Data',  'Hotel_ID', 'DiariaMedia']]\n",
    "\n",
    "combined_df.rename(columns={'Data': 'ds', 'Hotel_ID': 'hotel_id', 'DiariaMedia': 'y'}, inplace=True)\n",
    "\n",
    "combined_df = combined_df.loc[:, ['hotel_id',  'ds', 'y']]"
   ]
  },
  {
   "cell_type": "code",
   "execution_count": null,
   "metadata": {},
   "outputs": [],
   "source": [
    "combined_df = combined_df.groupby(['hotel_id', 'ds']).agg({'y': 'mean'}).reset_index()\n",
    "combined_df.shape"
   ]
  },
  {
   "cell_type": "code",
   "execution_count": null,
   "metadata": {},
   "outputs": [],
   "source": [
    "print(combined_df['ds'].min())\n",
    "print(combined_df['ds'].max())"
   ]
  },
  {
   "cell_type": "code",
   "execution_count": null,
   "metadata": {},
   "outputs": [],
   "source": [
    "combined_df"
   ]
  },
  {
   "cell_type": "code",
   "execution_count": null,
   "metadata": {},
   "outputs": [],
   "source": [
    "\n",
    "\n",
    "hotel_data = combined_df[combined_df['hotel_id'].isin([8274, 15392])]\n"
   ]
  },
  {
   "cell_type": "code",
   "execution_count": null,
   "metadata": {},
   "outputs": [],
   "source": [
    "hotel_list = combined_df['hotel_id'].drop_duplicates().sample(10, random_state=42).tolist()\n",
    "print(hotel_list)"
   ]
  },
  {
   "cell_type": "code",
   "execution_count": null,
   "metadata": {},
   "outputs": [],
   "source": [
    "# Group by 'hotel_id' and count the number of rows for each hotel\n",
    "hotel_list = combined_df.groupby('hotel_id').size().sort_values(ascending=False).head(10).index.tolist()\n",
    "\n",
    "print(hotel_list)"
   ]
  },
  {
   "cell_type": "code",
   "execution_count": null,
   "metadata": {},
   "outputs": [],
   "source": [
    "hotel_list = combined_df['hotel_id'].drop_duplicates()\n",
    "print(hotel_list)"
   ]
  },
  {
   "cell_type": "code",
   "execution_count": null,
   "metadata": {},
   "outputs": [],
   "source": [
    "\n",
    "# Example list of hotel names (assumes you have corresponding data for each)\n",
    "hotel_list = hotel_list\n",
    "\n",
    "# Initialize an empty DataFrame to store all results\n",
    "all_forecasts = pd.DataFrame()\n",
    "\n",
    "# Loop through each hotel\n",
    "for hotel in hotel_list:\n",
    "    print(f\"Processing forecast for {hotel}...\")\n",
    "\n",
    "    # Load data for the specific hotel (replace this with actual data loading)\n",
    "    hotel_data = combined_df[combined_df['hotel_id'].isin([hotel])]  # Define your function to get hotel data\n",
    "    \n",
    "    # Fit the model\n",
    "    model = Prophet()\n",
    "    model.fit(hotel_data)\n",
    "\n",
    "    # Create future dataframe for predictions\n",
    "    future = model.make_future_dataframe(periods=365)  # Forecast 1 year ahead\n",
    "\n",
    "    # Make predictions\n",
    "    forecast = model.predict(future)\n",
    "\n",
    "    # Add hotel name for identification\n",
    "    forecast[\"hotel\"] = hotel\n",
    "    \n",
    "    # Mark historical vs. forecasted data\n",
    "    forecast[\"data_type\"] = [\"historical\" if date <= hotel_data[\"ds\"].max() else \"forecast\" for date in forecast[\"ds\"]]\n",
    "\n",
    "    # Append to the main DataFrame\n",
    "    all_forecasts = pd.concat([all_forecasts, forecast], ignore_index=True)\n",
    "\n",
    "# Save to CSV or use for further analysis\n",
    "all_forecasts.to_csv(\"..\\out\\hotel_forecasts.csv\", index=False)\n",
    "\n",
    "print(\"Forecasting complete. Results saved in 'hotel_forecasts.csv'.\")\n"
   ]
  },
  {
   "cell_type": "code",
   "execution_count": null,
   "metadata": {},
   "outputs": [],
   "source": [
    "# Group by 'hotel_id' and count the number of rows for each hotel\n",
    "hotel_counts = combined_df.groupby('hotel_id').size()\n",
    "\n",
    "# Filter for hotels that have more than 92 rows\n",
    "hotels_with_more_than_30_rows = hotel_counts[hotel_counts > 30].index\n",
    "\n",
    "# Filter the original table for these hotels\n",
    "filtered_combined_df = combined_df[combined_df['hotel_id'].isin(hotels_with_more_than_30_rows)]\n",
    "\n",
    "# Display the filtered DataFrame\n",
    "filtered_combined_df"
   ]
  },
  {
   "cell_type": "code",
   "execution_count": null,
   "metadata": {},
   "outputs": [],
   "source": [
    "print(combined_df.shape)\n",
    "print(filtered_combined_df.shape)"
   ]
  },
  {
   "cell_type": "code",
   "execution_count": null,
   "metadata": {},
   "outputs": [],
   "source": [
    "hotel_list = filtered_combined_df['hotel_id'].drop_duplicates()\n",
    "print(hotel_list.shape)"
   ]
  },
  {
   "cell_type": "code",
   "execution_count": null,
   "metadata": {},
   "outputs": [],
   "source": [
    "# Split the hotel list into 5 chunks based on the conditions you provided\n",
    "chunk_1 = hotel_list[hotel_list < 5000]\n",
    "chunk_2 = hotel_list[(hotel_list >= 5000) & (hotel_list < 10000)]\n",
    "chunk_3 = hotel_list[(hotel_list >= 10000) & (hotel_list < 12500)]\n",
    "chunk_4 = hotel_list[(hotel_list >= 12500) & (hotel_list < 13000)]\n",
    "chunk_5 = hotel_list[(hotel_list >= 13000) & (hotel_list < 13500)]\n",
    "chunk_6 = hotel_list[(hotel_list >= 13500) & (hotel_list < 14000)]\n",
    "chunk_7 = hotel_list[(hotel_list >= 14000) & (hotel_list < 14500)]\n",
    "chunk_8 = hotel_list[(hotel_list >= 14500) & (hotel_list < 14750)]\n",
    "chunk_9 = hotel_list[(hotel_list >= 14750) & (hotel_list < 15000)]\n",
    "chunk_10 = hotel_list[(hotel_list >= 15000) & (hotel_list < 17500)]\n",
    "chunk_11 = hotel_list[(hotel_list >= 17500) & (hotel_list < 20000)]\n",
    "chunk_12 = hotel_list[(hotel_list >= 20000) & (hotel_list < 25000)]\n",
    "\n",
    "\n",
    "# List of chunks to process\n",
    "chunks = [ chunk_1, chunk_2, chunk_3, chunk_4, chunk_5, chunk_6, chunk_7, chunk_8, chunk_9, chunk_10, chunk_11, chunk_12]\n",
    "\n",
    "# Loop through each chunk\n",
    "for idx, chunk in enumerate(chunks):\n",
    "    print(f\"Processing chunk {idx + 1} with {len(chunk)} hotels...\")\n",
    "\n",
    "    # Initialize an empty DataFrame to store all results for this chunk\n",
    "    all_forecasts_chunk = pd.DataFrame()\n",
    "\n",
    "    # Loop through each hotel in the current chunk\n",
    "    for hotel in chunk:\n",
    "        print(f\"Processing forecast for Hotel {hotel}...\")\n",
    "\n",
    "        # Load data for the specific hotel\n",
    "        hotel_data = combined_df[combined_df['hotel_id'].isin([hotel])]  # Define your function to get hotel data\n",
    "        \n",
    "        # Fit the model\n",
    "        model = Prophet()\n",
    "        model.fit(hotel_data)\n",
    "\n",
    "        # Create future dataframe for predictions\n",
    "        future = model.make_future_dataframe(periods=365)  # Forecast 1 year ahead\n",
    "\n",
    "        # Make predictions\n",
    "        forecast = model.predict(future)\n",
    "\n",
    "        # Add hotel name for identification\n",
    "        forecast[\"hotel\"] = hotel\n",
    "        \n",
    "        # Mark historical vs. forecasted data\n",
    "        forecast[\"data_type\"] = [\"historical\" if date <= hotel_data[\"ds\"].max() else \"forecast\" for date in forecast[\"ds\"]]\n",
    "\n",
    "        # Append to the main DataFrame for this chunk\n",
    "        all_forecasts_chunk = pd.concat([all_forecasts_chunk, forecast], ignore_index=True)\n",
    "\n",
    "    # Save the results for this chunk to a CSV file\n",
    "    all_forecasts_chunk.to_csv(f\"../out/hotel_forecasts_chunk_{idx + 1}.csv\", index=False)\n",
    "    print(f\"Chunk {idx + 1} forecasting complete. Results saved as 'hotel_forecasts_chunk_{idx + 1}.csv'.\")\n",
    "\n",
    "print(\"All chunks processed successfully.\")"
   ]
  },
  {
   "cell_type": "code",
   "execution_count": null,
   "metadata": {},
   "outputs": [],
   "source": [
    "combined_df[combined_df['hotel_id']==14358]"
   ]
  },
  {
   "cell_type": "code",
   "execution_count": null,
   "metadata": {},
   "outputs": [],
   "source": [
    "import matplotlib.pyplot as plt\n",
    "import seaborn as sns\n",
    "\n",
    "# Set the seaborn theme\n",
    "sns.set_theme()\n",
    "\n",
    "# Define figure size based on the number of hotels\n",
    "fig, axes = plt.subplots(len(hotel_list), 1, figsize=(12, 6 * len(hotel_list)), sharex=True)\n",
    "\n",
    "# If there's only one hotel, `axes` won't be an iterable, so wrap it in a list\n",
    "if len(hotel_list) == 1:\n",
    "    axes = [axes]\n",
    "\n",
    "# Define colors for historical and forecasted data\n",
    "colors = {\"historical\": \"navy\", \"forecast\": \"firebrick\"}\n",
    "\n",
    "# Loop through each hotel and create a separate plot\n",
    "for i, hotel in enumerate(hotel_list):\n",
    "    # Filter data for this hotel\n",
    "    hotel_forecast = all_forecasts[all_forecasts[\"hotel\"] == hotel]\n",
    "\n",
    "    # Plot historical data\n",
    "    sns.lineplot(ax=axes[i], \n",
    "                 data=hotel_forecast[hotel_forecast[\"data_type\"] == \"historical\"], \n",
    "                 x=\"ds\", y=\"yhat\", label=\"Historical\", color=colors[\"historical\"])\n",
    "\n",
    "    # Plot forecasted data\n",
    "    sns.lineplot(ax=axes[i], \n",
    "                 data=hotel_forecast[hotel_forecast[\"data_type\"] == \"forecast\"], \n",
    "                 x=\"ds\", y=\"yhat\", label=\"Forecast\", color=colors[\"forecast\"], linestyle=\"dashed\")\n",
    "\n",
    "    # Formatting for each subplot\n",
    "    axes[i].set_title(f\"Hotel {hotel} Forecast\")\n",
    "    axes[i].set_xlabel(\"Date\")\n",
    "    axes[i].set_ylabel(\"Prices [Local Currency]\")\n",
    "    axes[i].legend()\n",
    "    axes[i].grid(True)\n",
    "\n",
    "# Adjust layout to prevent overlap\n",
    "plt.tight_layout()\n",
    "\n",
    "# Show plots\n",
    "plt.show()\n",
    "\n"
   ]
  },
  {
   "cell_type": "code",
   "execution_count": null,
   "metadata": {},
   "outputs": [],
   "source": [
    "from sklearn.metrics import mean_absolute_error, mean_squared_error\n",
    "import numpy as np\n",
    "import pandas as pd\n",
    "\n",
    "# Initialize a list to store results\n",
    "error_metrics = []\n",
    "\n",
    "# Loop through each hotel\n",
    "for hotel_id in hotel_list:\n",
    "    # Get actual and predicted values for the historical period\n",
    "    hotel_forecast = all_forecasts[all_forecasts[\"hotel\"] == hotel_id]\n",
    "    historical_data = combined_df[combined_df[\"hotel_id\"] == hotel_id]\n",
    "\n",
    "    # Merge on the date column to align actual and predicted values\n",
    "    comparison = historical_data.merge(hotel_forecast, on=\"ds\", how=\"inner\")\n",
    "\n",
    "    # Compute error metrics\n",
    "    mae = mean_absolute_error(comparison[\"y\"], comparison[\"yhat\"])\n",
    "    rmse = np.sqrt(mean_squared_error(comparison[\"y\"], comparison[\"yhat\"]))\n",
    "    mape = np.mean(np.abs((comparison[\"y\"] - comparison[\"yhat\"]) / comparison[\"y\"])) * 100\n",
    "\n",
    "    # Append results to the list\n",
    "    error_metrics.append({\"hotel_id\": hotel_id, \"MAE\": mae, \"RMSE\": rmse, \"MAPE\": mape})\n",
    "\n",
    "# Convert results to a DataFrame\n",
    "error_df = pd.DataFrame(error_metrics)\n",
    "\n",
    "# Display the error metrics table\n",
    "print(error_df)\n",
    "\n",
    "# Save to CSV for further analysis\n",
    "# error_df.to_csv(\"hotel_error_metrics.csv\", index=False)\n",
    "\n",
    "print(\"Error metrics saved to 'hotel_error_metrics.csv'.\")\n"
   ]
  },
  {
   "cell_type": "code",
   "execution_count": null,
   "metadata": {},
   "outputs": [],
   "source": [
    "import matplotlib.pyplot as plt\n",
    "import seaborn as sns\n",
    "\n",
    "# Set the seaborn theme\n",
    "sns.set_theme()\n",
    "\n",
    "# Define figure size dynamically based on the number of hotels\n",
    "fig, axes = plt.subplots(len(hotel_list), 1, figsize=(12, 6 * len(hotel_list)), sharex=True)\n",
    "\n",
    "# Ensure axes is iterable (if there's only one hotel)\n",
    "if len(hotel_list) == 1:\n",
    "    axes = [axes]\n",
    "\n",
    "# Loop through each hotel and create a separate plot\n",
    "for i, hotel_id in enumerate(hotel_list):\n",
    "    # Get actual and predicted values for the historical period\n",
    "    hotel_forecast = all_forecasts[all_forecasts[\"hotel\"] == hotel_id]\n",
    "    historical_data = combined_df[combined_df[\"hotel_id\"] == hotel_id]\n",
    "\n",
    "    # Merge on the date column to align actual and predicted values\n",
    "    comparison = historical_data.merge(hotel_forecast, on=\"ds\", how=\"inner\")\n",
    "\n",
    "    # Plot actual values\n",
    "    sns.lineplot(ax=axes[i], data=comparison, x=\"ds\", y=\"y\", label=\"Actual\", color=\"navy\")\n",
    "\n",
    "    # Plot predicted values\n",
    "    sns.lineplot(ax=axes[i], data=comparison, x=\"ds\", y=\"yhat\", label=\"Predicted\", color=\"firebrick\", linestyle=\"dashed\")\n",
    "\n",
    "    # Formatting for each subplot\n",
    "    axes[i].set_title(f\"Actual vs Predicted for Hotel {hotel_id}\")\n",
    "    axes[i].set_xlabel(\"Date\")\n",
    "    axes[i].set_ylabel(\"Value\")\n",
    "    axes[i].legend()\n",
    "    axes[i].grid(True)\n",
    "\n",
    "# Adjust layout to prevent overlap\n",
    "plt.tight_layout()\n",
    "\n",
    "# Show plots\n",
    "plt.show()\n"
   ]
  },
  {
   "cell_type": "code",
   "execution_count": null,
   "metadata": {},
   "outputs": [],
   "source": [
    "import matplotlib.pyplot as plt\n",
    "import seaborn as sns\n",
    "\n",
    "# Set the seaborn theme\n",
    "sns.set_theme()\n",
    "\n",
    "# Define figure size dynamically based on the number of hotels\n",
    "fig, axes = plt.subplots(len(hotel_list), 1, figsize=(8, 8 * len(hotel_list)), sharex=False, sharey=False)\n",
    "\n",
    "# Ensure axes is iterable (if there's only one hotel)\n",
    "if len(hotel_list) == 1:\n",
    "    axes = [axes]\n",
    "\n",
    "# Loop through each hotel and create a separate scatter plot\n",
    "for i, hotel_id in enumerate(hotel_list):\n",
    "    # Get actual and predicted values for the historical period\n",
    "    hotel_forecast = all_forecasts[all_forecasts[\"hotel\"] == hotel_id]\n",
    "    historical_data = combined_df[combined_df[\"hotel_id\"] == hotel_id]\n",
    "\n",
    "    # Merge on the date column to align actual and predicted values\n",
    "    comparison = historical_data.merge(hotel_forecast, on=\"ds\", how=\"inner\")\n",
    "\n",
    "    # Scatter plot of actual vs. predicted values\n",
    "    sns.scatterplot(ax=axes[i], x=comparison[\"y\"], y=comparison[\"yhat\"], alpha=0.4)\n",
    "\n",
    "    # Add a reference line (perfect predictions)\n",
    "    min_val = min(comparison[\"y\"].min(), comparison[\"yhat\"].min())\n",
    "    max_val = max(comparison[\"y\"].max(), comparison[\"yhat\"].max())\n",
    "    axes[i].plot([min_val, max_val], [min_val, max_val], linestyle=\"dashed\", color=\"red\", label=\"Perfect Fit\")\n",
    "\n",
    "    # Formatting for each subplot\n",
    "    axes[i].set_title(f\"Observed vs. Predicted for Hotel {hotel_id}\")\n",
    "    axes[i].set_xlabel(\"Observed (Actual) Values\")\n",
    "    axes[i].set_ylabel(\"Predicted Values\")\n",
    "    axes[i].legend()\n",
    "    axes[i].grid(True)\n",
    "\n",
    "# Adjust layout to prevent overlap\n",
    "plt.tight_layout()\n",
    "\n",
    "# Show plots\n",
    "plt.show()\n"
   ]
  },
  {
   "cell_type": "code",
   "execution_count": null,
   "metadata": {},
   "outputs": [],
   "source": [
    "TODO\n",
    "-Run for all the hotels\n",
    "-Calculate error for all the hotels can create new summary error table\n",
    "-Plot some over time and some actual vs predicted\n",
    "-Store everything\n",
    "\n",
    "-REDO all using lag version"
   ]
  }
 ],
 "metadata": {
  "kernelspec": {
   "display_name": "Python 3",
   "language": "python",
   "name": "python3"
  },
  "language_info": {
   "codemirror_mode": {
    "name": "ipython",
    "version": 3
   },
   "file_extension": ".py",
   "mimetype": "text/x-python",
   "name": "python",
   "nbconvert_exporter": "python",
   "pygments_lexer": "ipython3",
   "version": "3.10.6"
  }
 },
 "nbformat": 4,
 "nbformat_minor": 2
}
