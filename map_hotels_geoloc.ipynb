{
 "cells": [
  {
   "cell_type": "code",
   "execution_count": 1,
   "metadata": {},
   "outputs": [],
   "source": [
    "import pandas as pd\n",
    "import numpy as np  \n",
    "import os"
   ]
  },
  {
   "cell_type": "code",
   "execution_count": 2,
   "metadata": {},
   "outputs": [],
   "source": [
    "# Get the current directory\n",
    "current_dir = os.getcwd()\n",
    "\n",
    "# Navigate one folder up\n",
    "parent_dir = os.path.dirname(current_dir)\n",
    "\n",
    "# Where the files are located\n",
    "data = 'data\\lookups'\n",
    "\n",
    "# Navigate down into the \"data\" folder\n",
    "data_dir = os.path.join(parent_dir, data)"
   ]
  },
  {
   "cell_type": "code",
   "execution_count": null,
   "metadata": {},
   "outputs": [],
   "source": [
    "# Dictionary to store DataFrames with the file name as key\n",
    "dataframes = {}\n",
    "\n",
    "# Loop through all files in the folder\n",
    "for file_name in os.listdir(data_dir):\n",
    "    if file_name.endswith('.csv'):  # Check if the file is a CSV\n",
    "        file_path = os.path.join(data_dir, file_name)\n",
    "        \n",
    "        # Read the CSV file into a DataFrame\n",
    "        df = pd.read_csv(file_path)\n",
    "        \n",
    "        # Store the DataFrame in the dictionary using the file name (without .csv)\n",
    "        df_name = file_name.replace('.csv', '')  # Remove the .csv extension\n",
    "        dataframes[df_name] = df\n",
    "        \n",
    "        # Print the dimensions (rows, columns) of the DataFrame\n",
    "        print(f\"File: {file_name} | Dimensions: {df.shape}\")"
   ]
  },
  {
   "cell_type": "code",
   "execution_count": null,
   "metadata": {},
   "outputs": [],
   "source": [
    "dataframes.keys()"
   ]
  },
  {
   "cell_type": "code",
   "execution_count": 5,
   "metadata": {},
   "outputs": [],
   "source": [
    "data_lake_prd_314410_cz_canais = dataframes['data-lake-prd-314410.cz.canais']\n",
    "data_lake_prd_314410_cz_cidades = dataframes['data-lake-prd-314410.cz.cidades']\n",
    "data_lake_prd_314410_cz_hoteis_competidores = dataframes['data-lake-prd-314410.cz.hoteis-competidores']\n",
    "data_lake_prd_314410_cz_hoteis_quartos = dataframes['data-lake-prd-314410.cz.hoteis-quartos']\n",
    "data_lake_prd_314410_cz_hoteis_tarifas = dataframes['data-lake-prd-314410.cz.hoteis-tarifas']\n",
    "data_lake_prd_314410_cz_hoteis = dataframes['data-lake-prd-314410.cz.hoteis']\n",
    "data_lake_prd_314410_cz_moedas = dataframes['data-lake-prd-314410.cz.moedas']\n",
    "data_lake_prd_314410_cz_ocupacao_tipo = dataframes['data-lake-prd-314410.cz.ocupacao-tipo']"
   ]
  },
  {
   "cell_type": "code",
   "execution_count": 7,
   "metadata": {},
   "outputs": [],
   "source": [
    "data_lake_prd_314410_cz_hoteis_canais_combinations = pd.read_csv('c:\\\\Users\\\\paulo\\\\Desktop\\\\hotels brazil\\\\data\\\\lookups\\\\data-lake-prd-314410.cz.hoteis_canais_combinations.csv')"
   ]
  },
  {
   "cell_type": "code",
   "execution_count": null,
   "metadata": {},
   "outputs": [],
   "source": [
    "# Split the 'distinct_combinations' column into two separate columns\n",
    "data_lake_prd_314410_cz_hoteis_canais_combinations[['Hotel_ID', 'Canal_ID']] = data_lake_prd_314410_cz_hoteis_canais_combinations['distinct_combinations'].str.split('-', expand=True)\n",
    "\n",
    "# Convert the new columns to integers\n",
    "data_lake_prd_314410_cz_hoteis_canais_combinations['Hotel_ID'] = data_lake_prd_314410_cz_hoteis_canais_combinations['Hotel_ID'].astype(int)\n",
    "data_lake_prd_314410_cz_hoteis_canais_combinations['Canal_ID'] = data_lake_prd_314410_cz_hoteis_canais_combinations['Canal_ID'].astype(int)\n",
    "\n",
    "# Drop the original 'distinct_combinations' column\n",
    "data_lake_prd_314410_cz_hoteis_canais_combinations.drop(columns=['distinct_combinations'], inplace=True)"
   ]
  },
  {
   "cell_type": "code",
   "execution_count": null,
   "metadata": {},
   "outputs": [],
   "source": [
    "data_lake_prd_314410_cz_hoteis_canais_combinations"
   ]
  },
  {
   "cell_type": "code",
   "execution_count": 17,
   "metadata": {},
   "outputs": [],
   "source": [
    "data_lake_prd_314410_cz_hoteis = pd.read_csv('c:\\\\Users\\\\paulo\\\\Desktop\\\\hotels brazil\\\\data\\\\lookups\\\\data-lake-prd-314410.cz.hoteis.csv')"
   ]
  },
  {
   "cell_type": "code",
   "execution_count": 19,
   "metadata": {},
   "outputs": [],
   "source": [
    "data_lake_prd_314410_cz_hoteis = data_lake_prd_314410_cz_hoteis.loc[:, ['Hotel_ID',  'Cidade_ID']]"
   ]
  },
  {
   "cell_type": "code",
   "execution_count": null,
   "metadata": {},
   "outputs": [],
   "source": [
    "data_lake_prd_314410_cz_hoteis "
   ]
  },
  {
   "cell_type": "code",
   "execution_count": 21,
   "metadata": {},
   "outputs": [],
   "source": [
    "data_lake_prd_314410_cz_cidades = pd.read_csv('c:\\\\Users\\\\paulo\\\\Desktop\\\\hotels brazil\\\\data\\\\lookups\\\\data-lake-prd-314410.cz.cidades.csv')"
   ]
  },
  {
   "cell_type": "code",
   "execution_count": null,
   "metadata": {},
   "outputs": [],
   "source": [
    "# Group by \"Pais\" and sum the \"Hoteis\" column\n",
    "grouped_cidades = data_lake_prd_314410_cz_cidades.groupby('Pais')['Hoteis'].sum().reset_index()\n",
    "\n",
    "# Display the result\n",
    "print(grouped_cidades)\n",
    "\n",
    "grouped_cidades = grouped_cidades[grouped_cidades.Hoteis>0]"
   ]
  },
  {
   "cell_type": "code",
   "execution_count": null,
   "metadata": {},
   "outputs": [],
   "source": [
    "grouped_cidades.sort_values(by='Hoteis', ascending=False, inplace=True)"
   ]
  },
  {
   "cell_type": "code",
   "execution_count": null,
   "metadata": {},
   "outputs": [],
   "source": [
    "grouped_cidades"
   ]
  },
  {
   "cell_type": "code",
   "execution_count": null,
   "metadata": {},
   "outputs": [],
   "source": [
    "Country Curacao not found in the data.\n",
    "Country Maldives not found in the data.\n",
    "Country Saint Martin not found in the data.\n",
    "Country Saint Lucia not found in the data.\n",
    "Country Barbados not found in the data.\n",
    "Country Bonaire not found in the data."
   ]
  },
  {
   "cell_type": "code",
   "execution_count": null,
   "metadata": {},
   "outputs": [],
   "source": [
    "\n",
    "import pandas as pd\n",
    "import geopandas as gpd\n",
    "import matplotlib.pyplot as plt\n",
    "from pypalettes import load_cmap\n",
    "from matplotlib.font_manager import FontProperties\n",
    "from drawarrow import fig_arrow\n",
    "from pyfonts import load_font\n",
    "\n",
    "from highlight_text import fig_text, ax_text"
   ]
  },
  {
   "cell_type": "code",
   "execution_count": null,
   "metadata": {},
   "outputs": [],
   "source": [
    "\n",
    "url = \"https://raw.githubusercontent.com/holtzy/the-python-graph-gallery/master/static/data/all_world.geojson\"\n",
    "\n",
    "world = gpd.read_file(url)\n",
    "world.head()"
   ]
  },
  {
   "cell_type": "code",
   "execution_count": null,
   "metadata": {},
   "outputs": [],
   "source": [
    "world['name'].unique()"
   ]
  },
  {
   "cell_type": "code",
   "execution_count": null,
   "metadata": {},
   "outputs": [],
   "source": [
    "# Define the mapping for country names based on your specific array\n",
    "country_mapping = {\n",
    "    \"Brasil\": \"Brazil\",\n",
    "    \"Mexico\": \"Mexico\",\n",
    "    \"Portugal\": \"Portugal\",\n",
    "    \"Colombia\": \"Colombia\",\n",
    "    \"Argentina\": \"Argentina\",\n",
    "    \"Dominican Republic\": \"Dominican Rep.\",\n",
    "    \"Chile\": \"Chile\",\n",
    "    \"Peru\": \"Peru\",\n",
    "    \"Curaçao\": \"Curacao\",\n",
    "    \"Spain\": \"Spain\",\n",
    "    \"Cuba\": \"Cuba\",\n",
    "    \"Uruguay\": \"Uruguay\",\n",
    "    \"Bolivia\": \"Bolivia\",\n",
    "    \"Jamaica\": \"Jamaica\",\n",
    "    \"United States\": \"United States of America\",\n",
    "    \"Panama\": \"Panama\",\n",
    "    \"Italy\": \"Italy\",\n",
    "    \"United Arab Emirates\": \"United Arab Emirates\",\n",
    "    \"Maldives\": \"Maldives\",\n",
    "    \"Paraguay\": \"Paraguay\",\n",
    "    \"Greece\": \"Greece\",\n",
    "    \"France\": \"France\",\n",
    "    \"Ecuador\": \"Ecuador\",\n",
    "    \"Egypt\": \"Egypt\",\n",
    "    \"Saint Martin Island\": \"Saint Martin\",\n",
    "    \"Japan\": \"Japan\",\n",
    "    \"Costa Rica\": \"Costa Rica\",\n",
    "    \"Thailand\": \"Thailand\",\n",
    "    \"Israel\": \"Israel\",\n",
    "    \"Guatemala\": \"Guatemala\",\n",
    "    \"United Kingdom\": \"United Kingdom\",\n",
    "    \"El Salvador\": \"El Salvador\",\n",
    "    \"St Lucia\": \"Saint Lucia\",\n",
    "    \"Barbados\": \"Barbados\",\n",
    "    \"Bahamas\": \"Bahamas\",\n",
    "    \"Germany\": \"Germany\",\n",
    "    \"Bonaire Island\": \"Bonaire\",\n",
    "    \"Puerto Rico\": \"Puerto Rico\",\n",
    "    \"Tunisia\": \"Tunisia\",\n",
    "    \"Netherlands\": \"Netherlands\",\n",
    "    \"Mozambique\": \"Mozambique\",\n",
    "    \"Austria\": \"Austria\",\n",
    "    \"Honduras\": \"Honduras\",\n",
    "    \"Venezuela\": \"Venezuela\"\n",
    "}\n",
    "\n",
    "# Apply the mapping to your table\n",
    "original_countries = [\n",
    "    \"Brasil\", \"Mexico\", \"Portugal\", \"Colombia\", \"Argentina\", \"Dominican Republic\", \"Chile\",\n",
    "    \"Peru\", \"Curaçao\", \"Spain\", \"Cuba\", \"Uruguay\", \"Bolivia\", \"Jamaica\", \"United States\",\n",
    "    \"Panama\", \"Italy\", \"United Arab Emirates\", \"Maldives\", \"Paraguay\", \"Greece\", \"France\",\n",
    "    \"Ecuador\", \"Egypt\", \"Saint Martin Island\", \"Japan\", \"Costa Rica\", \"Thailand\", \"Israel\",\n",
    "    \"Guatemala\", \"United Kingdom\", \"El Salvador\", \"St Lucia\", \"Barbados\", \"Bahamas\", \"Germany\",\n",
    "    \"Bonaire Island\", \"Puerto Rico\", \"Tunisia\", \"Netherlands\", \"Mozambique\", \"Austria\", \"Honduras\", \"Venezuela\"\n",
    "]\n"
   ]
  },
  {
   "cell_type": "code",
   "execution_count": 40,
   "metadata": {},
   "outputs": [],
   "source": [
    "# Convert to the specific format\n",
    "grouped_cidades['Pais'] = [country_mapping[country] for country in original_countries]\n"
   ]
  },
  {
   "cell_type": "code",
   "execution_count": null,
   "metadata": {},
   "outputs": [],
   "source": [
    "grouped_cidades.tail()"
   ]
  },
  {
   "cell_type": "code",
   "execution_count": 42,
   "metadata": {},
   "outputs": [],
   "source": [
    "\n",
    "data = world.merge(grouped_cidades, how='left', left_on='name', right_on='Pais')"
   ]
  },
  {
   "cell_type": "code",
   "execution_count": null,
   "metadata": {},
   "outputs": [],
   "source": [
    "data"
   ]
  },
  {
   "cell_type": "code",
   "execution_count": null,
   "metadata": {},
   "outputs": [],
   "source": [
    "data = data.dropna()\n",
    "data.shape"
   ]
  },
  {
   "cell_type": "code",
   "execution_count": null,
   "metadata": {},
   "outputs": [],
   "source": [
    "data.head()"
   ]
  },
  {
   "cell_type": "code",
   "execution_count": null,
   "metadata": {},
   "outputs": [],
   "source": [
    "import matplotlib.pyplot as plt\n",
    "from geopandas import GeoDataFrame\n",
    "from matplotlib.colors import Normalize\n",
    "from mpl_toolkits.axes_grid1 import make_axes_locatable\n",
    "\n",
    "\n",
    "cmap = load_cmap('BrwnYl', cmap_type='continuous')\n",
    "background_color = 'white'\n",
    "text_color = 'black'\n",
    "\n",
    "\n",
    "font = load_font(\n",
    "   'https://github.com/dharmatype/Bebas-Neue/blob/master/fonts/BebasNeue(2018)ByDhamraType/ttf/BebasNeue-Regular.ttf?raw=true'\n",
    ")\n",
    "other_font = load_font(\n",
    "   'https://github.com/bBoxType/FiraSans/blob/master/Fira_Sans_4_3/Fonts/Fira_Sans_TTF_4301/Normal/Roman/FiraSans-Light.ttf?raw=true'\n",
    ")\n",
    "other_bold_font = load_font(\n",
    "   'https://github.com/bBoxType/FiraSans/blob/master/Fira_Sans_4_3/Fonts/Fira_Sans_TTF_4301/Normal/Roman/FiraSans-Medium.ttf?raw=true'\n",
    ")\n",
    "\n",
    "\n",
    "# Prepare the plot\n",
    "fig, ax = plt.subplots(figsize=(20, 10), dpi=300)  # Adjusted for global scale\n",
    "fig.set_facecolor(background_color)\n",
    "ax.set_facecolor(background_color)\n",
    "\n",
    "data.plot(ax=ax, column='Hoteis', cmap=cmap, edgecolor='black', linewidth=0.5)\n",
    "\n",
    "# Set global map extents\n",
    "ax.set_xlim(-180, 180)\n",
    "ax.set_ylim(-90, 90)\n",
    "ax.set_axis_off()\n",
    "\n",
    "\n",
    "# Project and calculate centroids\n",
    "data_projected = data.to_crs(epsg=3857)  # Web Mercator for global visualization\n",
    "data_projected['centroid'] = data_projected.geometry.centroid\n",
    "data['centroid'] = data_projected['centroid'].to_crs(data.crs)\n",
    "\n",
    "\n",
    "\n",
    "# Define countries to annotate (your global dataset)\n",
    "countries_to_annotate = [\n",
    "    'Brazil', 'Mexico', 'Portugal', 'Colombia', 'Argentina', 'Dominican Rep.', 'Chile', 'Peru',\n",
    "    'Curacao', 'Spain', 'Cuba', 'Uruguay', 'Bolivia', 'Jamaica', 'United States of America',\n",
    "    'Panama', 'Italy', 'United Arab Emirates', 'Maldives', 'Paraguay', 'Greece', 'France',\n",
    "    'Ecuador', 'Egypt', 'Saint Martin', 'Japan', 'Costa Rica', 'Thailand', 'Israel', 'Guatemala',\n",
    "    'United Kingdom', 'El Salvador', 'Saint Lucia', 'Barbados', 'Bahamas', 'Germany', 'Bonaire',\n",
    "    'Puerto Rico', 'Tunisia', 'Netherlands', 'Mozambique', 'Austria', 'Honduras', 'Venezuela'\n",
    "]\n",
    "\n",
    "# Annotate each country\n",
    "for country in countries_to_annotate:\n",
    "    try:\n",
    "        centroid = data.loc[data['name'] == country, 'centroid'].values[0]\n",
    "        x, y = centroid.coords[0]\n",
    "        rate = data.loc[data['name'] == country, 'Hoteis'].values[0]\n",
    "\n",
    "        # Adjust text position if needed\n",
    "       #if country in adjustments:\n",
    "        #    x += adjustments[country][0]\n",
    "         #   y += adjustments[country][1]\n",
    "\n",
    "        # Set text color based on rate\n",
    "        color_text = 'white' if rate > 70000 else text_color\n",
    "\n",
    "        # Handle country name exceptions\n",
    "        display_name = 'UK' if country == 'United Kingdom' else country\n",
    "\n",
    "        ax_text(\n",
    "            x=x, y=y, s=f\"<{display_name.upper()}>: {rate:.0f}\", fontsize=6, font=other_bold_font, \n",
    "            color=color_text, ha='center', va='center', ax=ax,\n",
    "            highlight_textprops=[{'font': other_bold_font}]\n",
    "        )\n",
    "    except IndexError:\n",
    "        # Skip countries not in the dataset\n",
    "        print(f\"Country {country} not found in the data.\")\n",
    "\n",
    "# Show the plot\n",
    "plt.show()"
   ]
  },
  {
   "cell_type": "code",
   "execution_count": null,
   "metadata": {},
   "outputs": [],
   "source": [
    "data_lake_prd_314410_cz_hoteis = pd.read_csv('c:\\\\Users\\\\paulo\\\\Desktop\\\\hotels brazil\\\\data\\\\lookups\\\\data-lake-prd-314410.cz.hoteis.csv')\n",
    "data_lake_prd_314410_cz_hoteis[data_lake_prd_314410_cz_hoteis['Cidade_ID'] == 1]"
   ]
  },
  {
   "cell_type": "code",
   "execution_count": null,
   "metadata": {},
   "outputs": [],
   "source": [
    "filtered_cidades = data_lake_prd_314410_cz_cidades[(data_lake_prd_314410_cz_cidades['Pais'] == 'Brazil') | (data_lake_prd_314410_cz_cidades['Pais'] == 'Brasil')]\n",
    "filtered_cidades"
   ]
  },
  {
   "cell_type": "code",
   "execution_count": null,
   "metadata": {},
   "outputs": [],
   "source": [
    "data_lake_prd_314410_cz_hoteis = pd.read_csv('c:\\\\Users\\\\paulo\\\\Desktop\\\\hotels brazil\\\\data\\\\lookups\\\\data-lake-prd-314410.cz.hoteis.csv')\n",
    "data_lake_prd_314410_cz_hoteis"
   ]
  },
  {
   "cell_type": "code",
   "execution_count": null,
   "metadata": {},
   "outputs": [],
   "source": [
    "data_lake_prd_314410_cz_cidades"
   ]
  },
  {
   "cell_type": "code",
   "execution_count": null,
   "metadata": {},
   "outputs": [],
   "source": [
    "\n",
    "\n",
    "data_lake_prd_314410_cz_cidades[['Cidade_ID',  'Cidade', 'Pais']]\n",
    "data_lake_prd_314410_cz_hoteis[['Cidade_ID',  'Hotel_ID']] "
   ]
  },
  {
   "cell_type": "code",
   "execution_count": null,
   "metadata": {},
   "outputs": [],
   "source": [
    "data_lake_prd_314410_cz_hoteis"
   ]
  },
  {
   "cell_type": "code",
   "execution_count": null,
   "metadata": {},
   "outputs": [],
   "source": [
    "merged_data = pd.merge(data_lake_prd_314410_cz_hoteis[['Cidade_ID', 'Hotel_ID']], \n",
    "                       data_lake_prd_314410_cz_cidades[['Cidade_ID', 'Cidade', 'Pais']], \n",
    "                       on='Cidade_ID', \n",
    "                       how='left')\n",
    "merged_data"
   ]
  },
  {
   "cell_type": "code",
   "execution_count": null,
   "metadata": {},
   "outputs": [],
   "source": [
    "merged_data['Hotel_ID'].nunique()"
   ]
  },
  {
   "cell_type": "code",
   "execution_count": 80,
   "metadata": {},
   "outputs": [],
   "source": [
    "grouped_cidades_v2 = merged_data.groupby('Pais').size().reset_index(name='Counts').sort_values(by='Counts', ascending=False)"
   ]
  },
  {
   "cell_type": "code",
   "execution_count": null,
   "metadata": {},
   "outputs": [],
   "source": [
    "grouped_cidades_v2['Pais'].unique()"
   ]
  },
  {
   "cell_type": "code",
   "execution_count": null,
   "metadata": {},
   "outputs": [],
   "source": [
    "grouped_cidades_v2\n"
   ]
  },
  {
   "cell_type": "code",
   "execution_count": null,
   "metadata": {},
   "outputs": [],
   "source": [
    "# Define the mapping for country names based on your updated array\n",
    "country_mapping = {\n",
    "    \"Brasil\": \"Brazil\",\n",
    "    \"Portugal\": \"Portugal\",\n",
    "    \"Mexico\": \"Mexico\",\n",
    "    \"Colombia\": \"Colombia\",\n",
    "    \"Argentina\": \"Argentina\",\n",
    "    \"Spain\": \"Spain\",\n",
    "    \"Cuba\": \"Cuba\",\n",
    "    \"Dominican Republic\": \"Dominican Rep.\",\n",
    "    \"Chile\": \"Chile\",\n",
    "    \"Uruguay\": \"Uruguay\",\n",
    "    \"United States\": \"United States of America\",\n",
    "    \"Ecuador\": \"Ecuador\",\n",
    "    \"Peru\": \"Peru\",\n",
    "    \"Greece\": \"Greece\",\n",
    "    \"Curaçao\": \"Curacao\",\n",
    "    \"Bolivia\": \"Bolivia\",\n",
    "    \"Germany\": \"Germany\",\n",
    "    \"Italy\": \"Italy\",\n",
    "    \"Panama\": \"Panama\",\n",
    "    \"Jamaica\": \"Jamaica\",\n",
    "    \"France\": \"France\",\n",
    "    \"United Arab Emirates\": \"United Arab Emirates\",\n",
    "    \"Costa Rica\": \"Costa Rica\",\n",
    "    \"Paraguay\": \"Paraguay\",\n",
    "    \"Indonesia\": \"Indonesia\",\n",
    "    \"Maldives\": \"Maldives\",\n",
    "    \"Bulgaria\": \"Bulgaria\",\n",
    "    \"Cape Verde\": \"Cape Verde\",\n",
    "    \"Morocco\": \"Morocco\",\n",
    "    \"Egypt\": \"Egypt\",\n",
    "    \"Saint Martin Island\": \"Saint Martin\",\n",
    "    \"Japan\": \"Japan\",\n",
    "    \"Thailand\": \"Thailand\",\n",
    "    \"China\": \"China\",\n",
    "    \"Mozambique\": \"Mozambique\",\n",
    "    \"Andorra\": \"Andorra\",\n",
    "    \"New Zealand\": \"New Zealand\",\n",
    "    \"Vietnam\": \"Vietnam\",\n",
    "    \"Israel\": \"Israel\",\n",
    "    \"Guatemala\": \"Guatemala\",\n",
    "    \"Venezuela\": \"Venezuela\",\n",
    "    \"Serbia\": \"Serbia\",\n",
    "    \"Tanzania\": \"Tanzania\",\n",
    "    \"Sao Tome & Principe\": \"Sao Tome & Principe\",\n",
    "    \"El Salvador\": \"El Salvador\",\n",
    "    \"Barbados\": \"Barbados\",\n",
    "    \"Bahamas\": \"Bahamas\",\n",
    "    \"Austria\": \"Austria\",\n",
    "    \"St Lucia\": \"Saint Lucia\",\n",
    "    \"Puerto Rico\": \"Puerto Rico\",\n",
    "    \"Albania\": \"Albania\",\n",
    "    \"Aruba\": \"Aruba\",\n",
    "    \"Netherlands\": \"Netherlands\",\n",
    "    \"Australia\": \"Australia\",\n",
    "    \"Monaco\": \"Monaco\",\n",
    "    \"Poland\": \"Poland\",\n",
    "    \"Honduras\": \"Honduras\",\n",
    "    \"Uzbekistan\": \"Uzbekistan\",\n",
    "    \"Belize\": \"Belize\",\n",
    "    \"Bonaire Island\": \"Bonaire\",\n",
    "    \"Czech Republic\": \"Czechia\",\n",
    "    \"Turkey\": \"Turkey\",\n",
    "    \"Tunisia\": \"Tunisia\",\n",
    "    \"Hong Kong\": \"Hong Kong\",\n",
    "    \"Philippines\": \"Philippines\",\n",
    "    \"Switzerland\": \"Switzerland\",\n",
    "    \"Luxembourg\": \"Luxembourg\",\n",
    "    \"South Africa\": \"South Africa\",\n",
    "    \"Montenegro\": \"Montenegro\",\n",
    "    \"Myanmar\": \"Myanmar\",\n",
    "    \"Samoa\": \"Samoa\",\n",
    "    \"Russian Federation\": \"Russia\",\n",
    "    \"Malaysia\": \"Malaysia\"\n",
    "}\n",
    "\n",
    "# Apply the mapping to your table\n",
    "# Assuming `grouped_cidades_v2` is your DataFrame\n",
    "grouped_cidades_v2['Mapped_Pais'] = grouped_cidades_v2['Pais'].map(country_mapping)\n",
    "\n",
    "# Verify the mapping result\n",
    "print(grouped_cidades_v2[['Pais', 'Mapped_Pais']])\n"
   ]
  },
  {
   "cell_type": "code",
   "execution_count": null,
   "metadata": {},
   "outputs": [],
   "source": [
    "grouped_cidades_v2"
   ]
  },
  {
   "cell_type": "code",
   "execution_count": null,
   "metadata": {},
   "outputs": [],
   "source": [
    "\n",
    "data = world.merge(grouped_cidades_v2, how='left', left_on='name', right_on='Mapped_Pais')\n",
    "\n",
    "data = data.dropna()\n",
    "data.shape"
   ]
  },
  {
   "cell_type": "code",
   "execution_count": null,
   "metadata": {},
   "outputs": [],
   "source": [
    "data['Mapped_Pais'].unique()"
   ]
  },
  {
   "cell_type": "code",
   "execution_count": null,
   "metadata": {},
   "outputs": [],
   "source": [
    "data['Mapped_Pais'].nunique()"
   ]
  },
  {
   "cell_type": "code",
   "execution_count": null,
   "metadata": {},
   "outputs": [],
   "source": [
    "data"
   ]
  },
  {
   "cell_type": "code",
   "execution_count": null,
   "metadata": {},
   "outputs": [],
   "source": [
    "\n",
    "import matplotlib.pyplot as plt\n",
    "from geopandas import GeoDataFrame\n",
    "from matplotlib.colors import Normalize\n",
    "from mpl_toolkits.axes_grid1 import make_axes_locatable\n",
    "\n",
    "\n",
    "cmap = load_cmap('BrwnYl', cmap_type='continuous')\n",
    "background_color = 'white'\n",
    "text_color = 'black'\n",
    "\n",
    "\n",
    "font = load_font(\n",
    "   'https://github.com/dharmatype/Bebas-Neue/blob/master/fonts/BebasNeue(2018)ByDhamraType/ttf/BebasNeue-Regular.ttf?raw=true'\n",
    ")\n",
    "other_font = load_font(\n",
    "   'https://github.com/bBoxType/FiraSans/blob/master/Fira_Sans_4_3/Fonts/Fira_Sans_TTF_4301/Normal/Roman/FiraSans-Light.ttf?raw=true'\n",
    ")\n",
    "other_bold_font = load_font(\n",
    "   'https://github.com/bBoxType/FiraSans/blob/master/Fira_Sans_4_3/Fonts/Fira_Sans_TTF_4301/Normal/Roman/FiraSans-Medium.ttf?raw=true'\n",
    ")\n",
    "\n",
    "\n",
    "# Prepare the plot\n",
    "fig, ax = plt.subplots(figsize=(20, 10), dpi=300)  # Adjusted for global scale\n",
    "fig.set_facecolor(background_color)\n",
    "ax.set_facecolor(background_color)\n",
    "\n",
    "data.plot(ax=ax, column='Counts', cmap=cmap, edgecolor='black', linewidth=0.5)\n",
    "\n",
    "# Set global map extents\n",
    "ax.set_xlim(-180, 180)\n",
    "ax.set_ylim(-90, 90)\n",
    "ax.set_axis_off()\n",
    "\n",
    "\n",
    "# Project and calculate centroids\n",
    "data_projected = data.to_crs(epsg=3857)  # Web Mercator for global visualization\n",
    "data_projected['centroid'] = data_projected.geometry.centroid\n",
    "data['centroid'] = data_projected['centroid'].to_crs(data.crs)\n",
    "\n",
    "\n",
    "\n",
    "# Define countries to annotate (your global dataset)\n",
    "countries_to_annotate = [\n",
    "   'Tanzania', 'United States of America', 'Uzbekistan', 'Indonesia',\n",
    "       'Argentina', 'Chile', 'Dominican Rep.', 'Russia', 'Bahamas',\n",
    "       'South Africa', 'Mexico', 'Uruguay', 'Brazil', 'Bolivia', 'Peru',\n",
    "       'Colombia', 'Panama', 'Costa Rica', 'Honduras', 'El Salvador',\n",
    "       'Guatemala', 'Belize', 'Venezuela', 'France', 'Ecuador',\n",
    "       'Puerto Rico', 'Jamaica', 'Cuba', 'Mozambique', 'Israel',\n",
    "       'Tunisia', 'United Arab Emirates', 'Thailand', 'Myanmar',\n",
    "       'Vietnam', 'Poland', 'Austria', 'Germany', 'Bulgaria', 'Greece',\n",
    "       'Turkey', 'Albania', 'Switzerland', 'Luxembourg', 'Netherlands',\n",
    "       'Portugal', 'Spain', 'New Zealand', 'Australia', 'China', 'Italy',\n",
    "       'Philippines', 'Malaysia', 'Czechia', 'Japan', 'Paraguay',\n",
    "       'Morocco', 'Egypt', 'Serbia', 'Montenegro'\n",
    "]\n",
    "\n",
    "# Annotate each country\n",
    "for country in countries_to_annotate:\n",
    "    try:\n",
    "        centroid = data.loc[data['Mapped_Pais'] == country, 'centroid'].values[0]\n",
    "        x, y = centroid.coords[0]\n",
    "        rate = data.loc[data['Mapped_Pais'] == country, 'Counts'].values[0]\n",
    "\n",
    "\n",
    "        # Set text color based on rate\n",
    "        color_text = 'white' if rate > 70000 else text_color\n",
    "\n",
    "        # Handle country name exceptions\n",
    "        display_name = 'UK' if country == 'United Kingdom' else country\n",
    "\n",
    "        ax_text(\n",
    "            x=x, y=y, s=f\"<{display_name.upper()}>: {rate:.0f}\", fontsize=6, font=other_bold_font, \n",
    "            color=color_text, ha='center', va='center', ax=ax,\n",
    "            highlight_textprops=[{'font': other_bold_font}]\n",
    "        )\n",
    "    except IndexError:\n",
    "        # Skip countries not in the dataset\n",
    "        print(f\"Country {country} not found in the data.\")\n",
    "\n",
    "# Show the plot\n",
    "plt.show()"
   ]
  },
  {
   "cell_type": "code",
   "execution_count": null,
   "metadata": {},
   "outputs": [],
   "source": [
    "data_lake_prd_314410_cz_hoteis_canais_combinations = pd.read_csv('c:\\\\Users\\\\paulo\\\\Desktop\\\\hotels brazil\\\\data\\\\lookups\\\\data-lake-prd-314410.cz.hoteis_canais_combinations.csv')\n",
    "\n",
    "# Split the 'distinct_combinations' column into two separate columns\n",
    "data_lake_prd_314410_cz_hoteis_canais_combinations[['Hotel_ID', 'Canal_ID']] = data_lake_prd_314410_cz_hoteis_canais_combinations['distinct_combinations'].str.split('-', expand=True)\n",
    "\n",
    "# Convert the new columns to integers\n",
    "data_lake_prd_314410_cz_hoteis_canais_combinations['Hotel_ID'] = data_lake_prd_314410_cz_hoteis_canais_combinations['Hotel_ID'].astype(int)\n",
    "data_lake_prd_314410_cz_hoteis_canais_combinations['Canal_ID'] = data_lake_prd_314410_cz_hoteis_canais_combinations['Canal_ID'].astype(int)\n",
    "\n",
    "# Drop the original 'distinct_combinations' column\n",
    "data_lake_prd_314410_cz_hoteis_canais_combinations.drop(columns=['distinct_combinations'], inplace=True)"
   ]
  },
  {
   "cell_type": "code",
   "execution_count": null,
   "metadata": {},
   "outputs": [],
   "source": [
    "data_lake_prd_314410_cz_hoteis_canais_combinations['Hotel_ID'].nunique()"
   ]
  },
  {
   "cell_type": "code",
   "execution_count": null,
   "metadata": {},
   "outputs": [],
   "source": [
    "merged_data = pd.merge(data_lake_prd_314410_cz_hoteis[['Cidade_ID', 'Hotel_ID']], \n",
    "                       data_lake_prd_314410_cz_cidades[['Cidade_ID', 'Cidade', 'Pais']], \n",
    "                       on='Cidade_ID', \n",
    "                       how='left')\n",
    "merged_data"
   ]
  },
  {
   "cell_type": "code",
   "execution_count": null,
   "metadata": {},
   "outputs": [],
   "source": [
    "merged_data['Pais'].unique()"
   ]
  },
  {
   "cell_type": "code",
   "execution_count": null,
   "metadata": {},
   "outputs": [],
   "source": [
    "merged_data = merged_data[merged_data['Pais'] == 'Brasil']"
   ]
  },
  {
   "cell_type": "code",
   "execution_count": null,
   "metadata": {},
   "outputs": [],
   "source": [
    "merged_data"
   ]
  },
  {
   "cell_type": "code",
   "execution_count": null,
   "metadata": {},
   "outputs": [],
   "source": [
    "cidade_counts = merged_data.groupby('Cidade').size().reset_index(name='Counts')\n",
    "print(cidade_counts)"
   ]
  },
  {
   "cell_type": "code",
   "execution_count": 112,
   "metadata": {},
   "outputs": [],
   "source": [
    "cidade_counts.sort_values(by='Counts', ascending=False, inplace=True)"
   ]
  },
  {
   "cell_type": "code",
   "execution_count": null,
   "metadata": {},
   "outputs": [],
   "source": [
    "cidade_counts"
   ]
  },
  {
   "cell_type": "code",
   "execution_count": null,
   "metadata": {},
   "outputs": [],
   "source": [
    "cidade_counts[cidade_counts['Counts']>10]['Cidade'].unique()"
   ]
  },
  {
   "cell_type": "code",
   "execution_count": 121,
   "metadata": {},
   "outputs": [],
   "source": [
    "from geopy.geocoders import Nominatim\n",
    "import pandas as pd\n",
    "import time\n"
   ]
  },
  {
   "cell_type": "code",
   "execution_count": null,
   "metadata": {},
   "outputs": [],
   "source": [
    "worldcities = pd.read_csv('c:\\\\Users\\\\paulo\\\\Desktop\\\\hotels brazil\\\\data\\\\lookups\\\\worldcities.csv')\n",
    "worldcities"
   ]
  },
  {
   "cell_type": "code",
   "execution_count": 127,
   "metadata": {},
   "outputs": [],
   "source": [
    "worldcities = worldcities[worldcities['iso2'] == 'BR']"
   ]
  },
  {
   "cell_type": "code",
   "execution_count": null,
   "metadata": {},
   "outputs": [],
   "source": [
    "worldcities "
   ]
  },
  {
   "cell_type": "code",
   "execution_count": null,
   "metadata": {},
   "outputs": [],
   "source": [
    "cidade_counts"
   ]
  },
  {
   "cell_type": "code",
   "execution_count": 130,
   "metadata": {},
   "outputs": [],
   "source": [
    "# Step 2: Normalize city names in both datasets to lowercase and remove special characters\n",
    "worldcities['city'] = worldcities['city'].str.lower().str.replace(r'[^a-zA-Z0-9\\s]', '', regex=True)\n",
    "cidade_counts['Cidade'] = cidade_counts['Cidade'].str.lower().str.replace(r'[^a-zA-Z0-9\\s]', '', regex=True)\n",
    "\n",
    "# Step 3: Merge datasets on the city name (now both are lowercase for matching)\n",
    "merged_df = pd.merge(cidade_counts, worldcities, left_on='Cidade', right_on='city', how='inner')\n"
   ]
  },
  {
   "cell_type": "code",
   "execution_count": null,
   "metadata": {},
   "outputs": [],
   "source": [
    "merged_df"
   ]
  },
  {
   "cell_type": "code",
   "execution_count": null,
   "metadata": {},
   "outputs": [],
   "source": [
    "import folium\n",
    "import pandas as pd\n",
    "from folium.plugins import MarkerCluster\n",
    "\n",
    "\n",
    "# Step 2: Create a base map (centered on Brazil, zoomed out to show the entire country)\n",
    "m = folium.Map(location=[-14.2350, -51.9253], zoom_start=4, tiles='OpenStreetMap')\n",
    "\n",
    "# Step 3: Create a marker cluster to group nearby cities\n",
    "marker_cluster = MarkerCluster().add_to(m)\n",
    "\n",
    "# Step 4: Iterate through the cities in your merged dataset\n",
    "for _, row in merged_df.iterrows():\n",
    "    city = row['city_ascii']\n",
    "    hotel_count = row['Counts']\n",
    "    lat = row['lat']\n",
    "    lng = row['lng']\n",
    "\n",
    "    # Use color based on hotel count (optional: use a more complex color scale if desired)\n",
    "    if hotel_count > 1000:\n",
    "        color = 'firebrick'\n",
    "    elif hotel_count > 500:\n",
    "        color = 'orange'\n",
    "    else:\n",
    "        color = 'yelloz'\n",
    "\n",
    "    # Add a marker for each city\n",
    "    folium.CircleMarker(\n",
    "        location=[lat, lng],\n",
    "        radius=7,\n",
    "        color=color,\n",
    "        fill=True,\n",
    "        fill_color=color,\n",
    "        fill_opacity=0.6,\n",
    "        popup=f\"<b>{city}</b><br>Hotels: {hotel_count}\",\n",
    "    ).add_to(marker_cluster)\n",
    "\n",
    "# Step 5: Save the map as an HTML file\n",
    "m.save('brazil_cities_hotel_map.html')\n",
    "\n",
    "# Display the map (for Jupyter Notebook)\n",
    "m"
   ]
  },
  {
   "cell_type": "code",
   "execution_count": null,
   "metadata": {},
   "outputs": [],
   "source": []
  }
 ],
 "metadata": {
  "kernelspec": {
   "display_name": "Python 3",
   "language": "python",
   "name": "python3"
  },
  "language_info": {
   "codemirror_mode": {
    "name": "ipython",
    "version": 3
   },
   "file_extension": ".py",
   "mimetype": "text/x-python",
   "name": "python",
   "nbconvert_exporter": "python",
   "pygments_lexer": "ipython3",
   "version": "3.10.6"
  }
 },
 "nbformat": 4,
 "nbformat_minor": 2
}
