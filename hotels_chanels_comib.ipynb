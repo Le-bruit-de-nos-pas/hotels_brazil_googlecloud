{
 "cells": [
  {
   "cell_type": "code",
   "execution_count": 2,
   "metadata": {},
   "outputs": [],
   "source": [
    "import pandas as pd\n",
    "import os\n",
    "import gc\n",
    "import psutil\n"
   ]
  },
  {
   "cell_type": "code",
   "execution_count": 3,
   "metadata": {},
   "outputs": [],
   "source": [
    "# Get the current directory\n",
    "current_dir = os.getcwd()\n",
    "\n",
    "# Navigate one folder up\n",
    "parent_dir = os.path.dirname(current_dir)\n",
    "\n",
    "# Where the files are located\n",
    "data = 'data\\lookups'\n",
    "\n",
    "# Navigate down into the \"data\" folder\n",
    "data_dir = os.path.join(parent_dir, data)"
   ]
  },
  {
   "cell_type": "code",
   "execution_count": 4,
   "metadata": {},
   "outputs": [
    {
     "name": "stdout",
     "output_type": "stream",
     "text": [
      "File: data-lake-prd-314410.cz.canais.csv | Dimensions: (1350, 11)\n",
      "File: data-lake-prd-314410.cz.cidades.csv | Dimensions: (46381, 6)\n",
      "File: data-lake-prd-314410.cz.hoteis-competidores.csv | Dimensions: (13681, 5)\n",
      "File: data-lake-prd-314410.cz.hoteis-quartos.csv | Dimensions: (115527, 9)\n",
      "File: data-lake-prd-314410.cz.hoteis-tarifas.csv | Dimensions: (471985, 5)\n",
      "File: data-lake-prd-314410.cz.hoteis.csv | Dimensions: (19650, 12)\n",
      "File: data-lake-prd-314410.cz.moedas.csv | Dimensions: (64, 9)\n",
      "File: data-lake-prd-314410.cz.ocupacao-tipo.csv | Dimensions: (220, 5)\n"
     ]
    }
   ],
   "source": [
    "# Dictionary to store DataFrames with the file name as key\n",
    "dataframes = {}\n",
    "\n",
    "# Loop through all files in the folder\n",
    "for file_name in os.listdir(data_dir):\n",
    "    if file_name.endswith('.csv'):  # Check if the file is a CSV\n",
    "        file_path = os.path.join(data_dir, file_name)\n",
    "        \n",
    "        # Read the CSV file into a DataFrame\n",
    "        df = pd.read_csv(file_path)\n",
    "        \n",
    "        # Store the DataFrame in the dictionary using the file name (without .csv)\n",
    "        df_name = file_name.replace('.csv', '')  # Remove the .csv extension\n",
    "        dataframes[df_name] = df\n",
    "        \n",
    "        # Print the dimensions (rows, columns) of the DataFrame\n",
    "        print(f\"File: {file_name} | Dimensions: {df.shape}\")\n"
   ]
  },
  {
   "cell_type": "code",
   "execution_count": 6,
   "metadata": {},
   "outputs": [
    {
     "data": {
      "text/plain": [
       "dict_keys(['data-lake-prd-314410.cz.canais', 'data-lake-prd-314410.cz.cidades', 'data-lake-prd-314410.cz.hoteis-competidores', 'data-lake-prd-314410.cz.hoteis-quartos', 'data-lake-prd-314410.cz.hoteis-tarifas', 'data-lake-prd-314410.cz.hoteis', 'data-lake-prd-314410.cz.moedas', 'data-lake-prd-314410.cz.ocupacao-tipo'])"
      ]
     },
     "execution_count": 6,
     "metadata": {},
     "output_type": "execute_result"
    }
   ],
   "source": [
    "dataframes.keys()"
   ]
  },
  {
   "cell_type": "code",
   "execution_count": 13,
   "metadata": {},
   "outputs": [],
   "source": [
    "data_lake_prd_314410_cz_canais = dataframes['data-lake-prd-314410.cz.canais']\n",
    "data_lake_prd_314410_cz_cidades = dataframes['data-lake-prd-314410.cz.cidades']\n",
    "data_lake_prd_314410_cz_hoteis_competidores = dataframes['data-lake-prd-314410.cz.hoteis-competidores']\n",
    "data_lake_prd_314410_cz_hoteis_quartos = dataframes['data-lake-prd-314410.cz.hoteis-quartos']\n",
    "data_lake_prd_314410_cz_hoteis_tarifas = dataframes['data-lake-prd-314410.cz.hoteis-tarifas']\n",
    "data_lake_prd_314410_cz_hoteis = dataframes['data-lake-prd-314410.cz.hoteis']\n",
    "data_lake_prd_314410_cz_moedas = dataframes['data-lake-prd-314410.cz.moedas']\n",
    "data_lake_prd_314410_cz_ocupacao_tipo = dataframes['data-lake-prd-314410.cz.ocupacao-tipo']\n"
   ]
  },
  {
   "cell_type": "code",
   "execution_count": null,
   "metadata": {},
   "outputs": [],
   "source": [
    "# del  dataframes, data, current_dir, data_dir, df, df_name, file_name, file_path, parent_dir"
   ]
  },
  {
   "cell_type": "code",
   "execution_count": 18,
   "metadata": {},
   "outputs": [
    {
     "name": "stdout",
     "output_type": "stream",
     "text": [
      "Memory before GC: 189.40 MB\n",
      "Memory after GC: 189.40 MB\n",
      "Memory cleared: 0.00 MB\n"
     ]
    }
   ],
   "source": [
    "# Function to get memory usage in bytes\n",
    "def memory_usage():\n",
    "    process = psutil.Process(os.getpid())\n",
    "    return process.memory_info().rss  # Resident Set Size (in bytes)\n",
    "\n",
    "# Check memory usage before garbage collection\n",
    "memory_before = memory_usage()\n",
    "\n",
    "# Trigger garbage collection\n",
    "gc.collect()\n",
    "\n",
    "# Check memory usage after garbage collection\n",
    "memory_after = memory_usage()\n",
    "\n",
    "# Calculate memory cleared\n",
    "memory_cleared = memory_before - memory_after\n",
    "\n",
    "print(f\"Memory before GC: {memory_before / 1024**2:.2f} MB\")\n",
    "print(f\"Memory after GC: {memory_after / 1024**2:.2f} MB\")\n",
    "print(f\"Memory cleared: {memory_cleared / 1024**2:.2f} MB\")"
   ]
  },
  {
   "cell_type": "code",
   "execution_count": null,
   "metadata": {},
   "outputs": [],
   "source": []
  }
 ],
 "metadata": {
  "kernelspec": {
   "display_name": "Python 3",
   "language": "python",
   "name": "python3"
  },
  "language_info": {
   "codemirror_mode": {
    "name": "ipython",
    "version": 3
   },
   "file_extension": ".py",
   "mimetype": "text/x-python",
   "name": "python",
   "nbconvert_exporter": "python",
   "pygments_lexer": "ipython3",
   "version": "3.10.6"
  }
 },
 "nbformat": 4,
 "nbformat_minor": 2
}
