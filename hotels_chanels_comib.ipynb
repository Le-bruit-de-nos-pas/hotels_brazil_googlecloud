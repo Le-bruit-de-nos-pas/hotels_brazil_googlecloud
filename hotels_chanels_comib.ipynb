{
 "cells": [
  {
   "cell_type": "code",
   "execution_count": 9,
   "metadata": {},
   "outputs": [],
   "source": [
    "import pandas as pd\n",
    "import numpy as np  \n",
    "import os\n",
    "import gc\n",
    "import psutil\n",
    "import scipy.stats as stats\n",
    "import matplotlib.pyplot as plt\n",
    "from scipy.stats import gaussian_kde"
   ]
  },
  {
   "cell_type": "code",
   "execution_count": null,
   "metadata": {},
   "outputs": [],
   "source": [
    "# pip install protobuf==3.20.*\n",
    "# pip install tensorflow tensorflow-addons\n",
    "# import tensorflow as tf"
   ]
  },
  {
   "cell_type": "code",
   "execution_count": 23,
   "metadata": {},
   "outputs": [],
   "source": [
    "# Get the current directory\n",
    "current_dir = os.getcwd()\n",
    "\n",
    "# Navigate one folder up\n",
    "parent_dir = os.path.dirname(current_dir)\n",
    "\n",
    "# Where the files are located\n",
    "data = 'data\\lookups'\n",
    "\n",
    "# Navigate down into the \"data\" folder\n",
    "data_dir = os.path.join(parent_dir, data)"
   ]
  },
  {
   "cell_type": "code",
   "execution_count": null,
   "metadata": {},
   "outputs": [],
   "source": [
    "# Dictionary to store DataFrames with the file name as key\n",
    "dataframes = {}\n",
    "\n",
    "# Loop through all files in the folder\n",
    "for file_name in os.listdir(data_dir):\n",
    "    if file_name.endswith('.csv'):  # Check if the file is a CSV\n",
    "        file_path = os.path.join(data_dir, file_name)\n",
    "        \n",
    "        # Read the CSV file into a DataFrame\n",
    "        df = pd.read_csv(file_path)\n",
    "        \n",
    "        # Store the DataFrame in the dictionary using the file name (without .csv)\n",
    "        df_name = file_name.replace('.csv', '')  # Remove the .csv extension\n",
    "        dataframes[df_name] = df\n",
    "        \n",
    "        # Print the dimensions (rows, columns) of the DataFrame\n",
    "        print(f\"File: {file_name} | Dimensions: {df.shape}\")"
   ]
  },
  {
   "cell_type": "code",
   "execution_count": null,
   "metadata": {},
   "outputs": [],
   "source": [
    "dataframes.keys()"
   ]
  },
  {
   "cell_type": "code",
   "execution_count": null,
   "metadata": {},
   "outputs": [],
   "source": [
    "data_lake_prd_314410_cz_canais = dataframes['data-lake-prd-314410.cz.canais']\n",
    "data_lake_prd_314410_cz_cidades = dataframes['data-lake-prd-314410.cz.cidades']\n",
    "data_lake_prd_314410_cz_hoteis_competidores = dataframes['data-lake-prd-314410.cz.hoteis-competidores']\n",
    "data_lake_prd_314410_cz_hoteis_quartos = dataframes['data-lake-prd-314410.cz.hoteis-quartos']\n",
    "data_lake_prd_314410_cz_hoteis_tarifas = dataframes['data-lake-prd-314410.cz.hoteis-tarifas']\n",
    "data_lake_prd_314410_cz_hoteis = dataframes['data-lake-prd-314410.cz.hoteis']\n",
    "data_lake_prd_314410_cz_moedas = dataframes['data-lake-prd-314410.cz.moedas']\n",
    "data_lake_prd_314410_cz_ocupacao_tipo = dataframes['data-lake-prd-314410.cz.ocupacao-tipo']"
   ]
  },
  {
   "cell_type": "code",
   "execution_count": null,
   "metadata": {},
   "outputs": [],
   "source": [
    "# del  dataframes, data, current_dir, data_dir, df, df_name, file_name, file_path, parent_dir"
   ]
  },
  {
   "cell_type": "code",
   "execution_count": null,
   "metadata": {},
   "outputs": [],
   "source": [
    "# Function to get memory usage in bytes\n",
    "def memory_usage():\n",
    "    process = psutil.Process(os.getpid())\n",
    "    return process.memory_info().rss  # Resident Set Size (in bytes)\n",
    "\n",
    "# Check memory usage before garbage collection\n",
    "memory_before = memory_usage()\n",
    "\n",
    "# Trigger garbage collection\n",
    "gc.collect()\n",
    "\n",
    "# Check memory usage after garbage collection\n",
    "memory_after = memory_usage()\n",
    "\n",
    "# Calculate memory cleared\n",
    "memory_cleared = memory_before - memory_after\n",
    "\n",
    "print(f\"Memory before GC: {memory_before / 1024**2:.2f} MB\")\n",
    "print(f\"Memory after GC: {memory_after / 1024**2:.2f} MB\")\n",
    "print(f\"Memory cleared: {memory_cleared / 1024**2:.2f} MB\")"
   ]
  },
  {
   "cell_type": "code",
   "execution_count": 26,
   "metadata": {},
   "outputs": [],
   "source": [
    "data_lake_prd_314410_cz_hoteis_canais_combinations = pd.read_csv('c:\\\\Users\\\\paulo\\\\Desktop\\\\hotels brazil\\\\data\\\\lookups\\\\data-lake-prd-314410.cz.hoteis_canais_combinations.csv')"
   ]
  },
  {
   "cell_type": "code",
   "execution_count": null,
   "metadata": {},
   "outputs": [],
   "source": [
    "# Split the 'distinct_combinations' column into two separate columns\n",
    "data_lake_prd_314410_cz_hoteis_canais_combinations[['Hotel_ID', 'Canal_ID']] = data_lake_prd_314410_cz_hoteis_canais_combinations['distinct_combinations'].str.split('-', expand=True)\n",
    "\n",
    "# Convert the new columns to integers\n",
    "data_lake_prd_314410_cz_hoteis_canais_combinations['Hotel_ID'] = data_lake_prd_314410_cz_hoteis_canais_combinations['Hotel_ID'].astype(int)\n",
    "data_lake_prd_314410_cz_hoteis_canais_combinations['Canal_ID'] = data_lake_prd_314410_cz_hoteis_canais_combinations['Canal_ID'].astype(int)\n",
    "\n",
    "# Drop the original 'distinct_combinations' column\n",
    "data_lake_prd_314410_cz_hoteis_canais_combinations.drop(columns=['distinct_combinations'], inplace=True)"
   ]
  },
  {
   "cell_type": "code",
   "execution_count": null,
   "metadata": {},
   "outputs": [],
   "source": [
    "data_lake_prd_314410_cz_hoteis_canais_combinations.head()"
   ]
  },
  {
   "cell_type": "code",
   "execution_count": null,
   "metadata": {},
   "outputs": [],
   "source": [
    "data_lake_prd_314410_cz_hoteis_canais_combinations.shape"
   ]
  },
  {
   "cell_type": "code",
   "execution_count": null,
   "metadata": {},
   "outputs": [],
   "source": [
    "data_lake_prd_314410_cz_hoteis_canais_combinations['Hotel_ID'].nunique()"
   ]
  },
  {
   "cell_type": "code",
   "execution_count": null,
   "metadata": {},
   "outputs": [],
   "source": [
    "data_lake_prd_314410_cz_hoteis_canais_combinations['Canal_ID'].nunique()"
   ]
  },
  {
   "cell_type": "code",
   "execution_count": null,
   "metadata": {},
   "outputs": [],
   "source": [
    "data_lake_prd_314410_cz_hoteis_canais_combinations['Hotel_ID'].nunique() * data_lake_prd_314410_cz_hoteis_canais_combinations['Canal_ID'].nunique()"
   ]
  },
  {
   "cell_type": "code",
   "execution_count": 2,
   "metadata": {},
   "outputs": [],
   "source": [
    "data_lake_prd_314410_cz_pull_pesquisas_average_price_hotel_currency = pd.read_csv('c:\\\\Users\\\\paulo\\\\Desktop\\\\hotels brazil\\\\data\\\\other\\\\data-lake-prd-314410.cz.pull-pesquisas_average_price_hotel_currency.csv')\n",
    "data_lake_prd_314410_cz_moedas = pd.read_csv('c:\\\\Users\\\\paulo\\\\Desktop\\\\hotels brazil\\\\data\\\\lookups\\\\data-lake-prd-314410.cz.moedas.csv')"
   ]
  },
  {
   "cell_type": "code",
   "execution_count": null,
   "metadata": {},
   "outputs": [],
   "source": [
    "# Perform left join\n",
    "data_lake_prd_314410_cz_pull_pesquisas_average_price_hotel_currency = pd.merge(data_lake_prd_314410_cz_pull_pesquisas_average_price_hotel_currency, \n",
    "                     data_lake_prd_314410_cz_moedas[['Moeda_ID', 'Cotacao_USD']], \n",
    "                     on='Moeda_ID', \n",
    "                     how='left')\n",
    "\n",
    "# Display the merged dataframe\n",
    "print(data_lake_prd_314410_cz_pull_pesquisas_average_price_hotel_currency.head())"
   ]
  },
  {
   "cell_type": "code",
   "execution_count": 4,
   "metadata": {},
   "outputs": [],
   "source": [
    "data_lake_prd_314410_cz_pull_pesquisas_average_price_hotel_currency['weighted_mean_diaria_usd'] = \\\n",
    "    data_lake_prd_314410_cz_pull_pesquisas_average_price_hotel_currency['weighted_mean_diaria'] * \\\n",
    "        data_lake_prd_314410_cz_pull_pesquisas_average_price_hotel_currency['Cotacao_USD']"
   ]
  },
  {
   "cell_type": "code",
   "execution_count": null,
   "metadata": {},
   "outputs": [],
   "source": [
    "\n",
    "# Filter the DataFrame to keep only the rows where 'weighted_mean_diaria_usd' <= 1000\n",
    "filtered_df = data_lake_prd_314410_cz_pull_pesquisas_average_price_hotel_currency[data_lake_prd_314410_cz_pull_pesquisas_average_price_hotel_currency['weighted_mean_diaria_usd'] <= 1000]\n",
    "filtered_df = filtered_df[~filtered_df['weighted_mean_diaria_usd'].isin([float('inf'), -float('inf')])]\n",
    "filtered_df = filtered_df.dropna(subset=['weighted_mean_diaria_usd'])\n",
    "filtered_df = filtered_df['weighted_mean_diaria_usd']\n",
    "filtered_df"
   ]
  },
  {
   "cell_type": "code",
   "execution_count": null,
   "metadata": {},
   "outputs": [],
   "source": [
    "# Plot the density using scipy's gaussian_kde\n",
    "kde = gaussian_kde(filtered_df)\n",
    "x = np.linspace(filtered_df.min(), filtered_df.max(), 1000)\n",
    "y = kde(x)\n",
    "\n",
    "# Create the figure and axes\n",
    "fig, (ax1, ax2) = plt.subplots(2, 1, figsize=(6, 6), gridspec_kw={'height_ratios': [5, 1]}, sharex=True)\n",
    "\n",
    "# --- First plot (Density plot) ---\n",
    "ax1.fill_between(x, y, color='steelblue', alpha=0.9)\n",
    "ax1.set_ylabel('Hotel Density', fontsize=12)\n",
    "ax1.set_title('Density Plot of Daily Weighted Average (<1000 $USD)', fontsize=14)\n",
    "\n",
    "# Remove the frame (spines) from the density plot\n",
    "for spine in ax1.spines.values():\n",
    "    spine.set_visible(False)\n",
    "\n",
    "# --- Second plot (Boxplot) ---\n",
    "ax2.boxplot(filtered_df, vert=False, patch_artist=True, \n",
    "            boxprops=dict(facecolor='steelblue', color='black'), \n",
    "            medianprops=dict(color='black'), \n",
    "            showfliers=False,   # Hide the outliers\n",
    "            widths=0.7),         # Make the box wider\n",
    "\n",
    "# Remove the frame (spines) from the boxplot\n",
    "for spine in ax2.spines.values():\n",
    "    spine.set_visible(False)\n",
    "\n",
    "# Display the plot\n",
    "plt.tight_layout()\n",
    "plt.show()"
   ]
  }
 ],
 "metadata": {
  "kernelspec": {
   "display_name": "Python 3",
   "language": "python",
   "name": "python3"
  },
  "language_info": {
   "codemirror_mode": {
    "name": "ipython",
    "version": 3
   },
   "file_extension": ".py",
   "mimetype": "text/x-python",
   "name": "python",
   "nbconvert_exporter": "python",
   "pygments_lexer": "ipython3",
   "version": "3.10.6"
  }
 },
 "nbformat": 4,
 "nbformat_minor": 2
}
