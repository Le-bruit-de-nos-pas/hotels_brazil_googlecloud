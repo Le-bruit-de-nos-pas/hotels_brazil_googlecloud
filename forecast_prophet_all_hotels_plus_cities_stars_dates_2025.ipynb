{
 "cells": [
  {
   "cell_type": "code",
   "execution_count": null,
   "metadata": {},
   "outputs": [],
   "source": [
    "import pandas as pd\n",
    "import numpy as np  \n",
    "import os\n",
    "import matplotlib.pyplot as plt\n",
    "import matplotlib.dates as mdates\n",
    "import seaborn as sns\n",
    "from matplotlib.backends.backend_pdf import PdfPages"
   ]
  },
  {
   "cell_type": "code",
   "execution_count": null,
   "metadata": {},
   "outputs": [],
   "source": [
    "# Get the current directory\n",
    "current_dir = os.getcwd()\n",
    "\n",
    "# Navigate one folder up\n",
    "parent_dir = os.path.dirname(current_dir)\n",
    "\n",
    "# Where the files are located\n",
    "data = \"data/other\"\n",
    "\n",
    "# Navigate down into the \"data\" folder\n",
    "data_dir = os.path.join(parent_dir, data)\n"
   ]
  },
  {
   "cell_type": "code",
   "execution_count": null,
   "metadata": {},
   "outputs": [],
   "source": [
    "\n",
    "files = {\n",
    "    \"all_hotel_forecasts_df\": \"all_hotel_forecasts_From2021_to_Jan2025onwards_final_selected.csv\",\n",
    "    \"all_hotel_historic_df\": \"all_hotel_historic_From2021_to_Jan2025_final_selected_final_selected.csv\",\n",
    "    \"all_city_stars_historic_df\": \"all_city_stars_currency_historic_From2021_to_Jan2025_final_selected_final_selected.csv\",\n",
    "    \"all_city_stars_forecasts_df\": \"city_stars_currency_forecasts_From2021_to_Jan2025onwards_final_selected.csv\"\n",
    "}\n",
    "\n",
    "dataframes = {}\n",
    "\n",
    "for var_name, file_name in files.items():\n",
    "    try:\n",
    "        file_path = os.path.join(data_dir, file_name)\n",
    "        dataframes[var_name] = pd.read_csv(file_path)\n",
    "        print(f\"{var_name} loaded successfully.\")\n",
    "    except Exception as e:\n",
    "        print(f\"Error loading {var_name}: {e}\")"
   ]
  },
  {
   "cell_type": "code",
   "execution_count": null,
   "metadata": {},
   "outputs": [],
   "source": [
    "all_hotel_forecasts_df \n",
    "all_hotel_forecasts_df = all_hotel_forecasts_df[['ds', 'yhat', 'yhat_lower', 'yhat_upper', 'hotel', 'data_type']]\n",
    "all_hotel_forecasts_df"
   ]
  },
  {
   "cell_type": "code",
   "execution_count": null,
   "metadata": {},
   "outputs": [],
   "source": [
    "all_hotel_historic_df"
   ]
  },
  {
   "cell_type": "code",
   "execution_count": null,
   "metadata": {},
   "outputs": [],
   "source": [
    "all_city_stars_historic_df \n",
    "all_city_stars_historic_df = all_city_stars_historic_df[['city_id', 'ds', 'city_stars_currency', 'y']]\n",
    "all_city_stars_historic_df"
   ]
  },
  {
   "cell_type": "code",
   "execution_count": null,
   "metadata": {},
   "outputs": [],
   "source": [
    "all_city_stars_forecasts_df  \n",
    "all_city_stars_forecasts_df  = all_city_stars_forecasts_df [['ds', 'yhat_lower' , 'yhat_upper',  'yhat', 'city_stars_currency', 'data_type']]\n",
    "all_city_stars_forecasts_df "
   ]
  },
  {
   "cell_type": "code",
   "execution_count": null,
   "metadata": {},
   "outputs": [],
   "source": [
    "data_lake_prd_314410_cz_hoteis = pd.read_csv('..\\\\data\\\\lookups\\\\data-lake-prd-314410.cz.hoteis.csv')\n",
    "data_lake_prd_314410_cz_hoteis = data_lake_prd_314410_cz_hoteis[['Hotel_ID', 'Estrelas', 'Cidade_ID']]\n",
    "data_lake_prd_314410_cz_hoteis"
   ]
  },
  {
   "cell_type": "code",
   "execution_count": null,
   "metadata": {},
   "outputs": [],
   "source": [
    "#all_hotel_forecasts_df          -> join city and stars\n",
    "#all_hotel_historic_df           -> join city and stars\n",
    "#all_city_stars_historic_df      -> Extract  stars  from city_stars_currency\n",
    "#all_city_stars_forecasts_df     -> Extract city and stars from city_stars_currency"
   ]
  },
  {
   "cell_type": "code",
   "execution_count": null,
   "metadata": {},
   "outputs": [],
   "source": [
    "all_hotel_forecasts_df"
   ]
  },
  {
   "cell_type": "code",
   "execution_count": null,
   "metadata": {},
   "outputs": [],
   "source": [
    "all_hotel_historic_df"
   ]
  },
  {
   "cell_type": "code",
   "execution_count": null,
   "metadata": {},
   "outputs": [],
   "source": [
    "all_hotel_forecasts_df = pd.merge(all_hotel_forecasts_df, \n",
    "                     data_lake_prd_314410_cz_hoteis, \n",
    "                     left_on='hotel', \n",
    "                     right_on=\"Hotel_ID\")"
   ]
  },
  {
   "cell_type": "code",
   "execution_count": null,
   "metadata": {},
   "outputs": [],
   "source": [
    "all_hotel_historic_df = pd.merge(all_hotel_historic_df, \n",
    "                     data_lake_prd_314410_cz_hoteis, \n",
    "                     left_on='hotel_id', \n",
    "                     right_on=\"Hotel_ID\")"
   ]
  },
  {
   "cell_type": "code",
   "execution_count": null,
   "metadata": {},
   "outputs": [],
   "source": [
    "all_hotel_forecasts_df.drop(columns=['Hotel_ID'], inplace=True)\n",
    "all_hotel_historic_df.drop(columns=['Hotel_ID'], inplace=True)"
   ]
  },
  {
   "cell_type": "code",
   "execution_count": null,
   "metadata": {},
   "outputs": [],
   "source": [
    "all_city_stars_historic_df[['Cidade_ID', 'Estrelas', 'Currency']] = all_city_stars_historic_df['city_stars_currency'].str.split('__', expand=True)\n"
   ]
  },
  {
   "cell_type": "code",
   "execution_count": null,
   "metadata": {},
   "outputs": [],
   "source": [
    "all_city_stars_forecasts_df[['Cidade_ID', 'Estrelas', 'Currency']] = all_city_stars_forecasts_df['city_stars_currency'].str.split('__', expand=True)\n",
    "all_city_stars_forecasts_df"
   ]
  },
  {
   "cell_type": "code",
   "execution_count": null,
   "metadata": {},
   "outputs": [],
   "source": [
    "#all_hotel_forecasts_df          \n",
    "#all_hotel_historic_df           \n",
    "#all_city_stars_historic_df      \n",
    "#all_city_stars_forecasts_df     "
   ]
  },
  {
   "cell_type": "code",
   "execution_count": null,
   "metadata": {},
   "outputs": [],
   "source": [
    "all_hotel_forecasts_df['Cidade_ID'] = all_hotel_forecasts_df['Cidade_ID'].astype(int)\n",
    "all_hotel_historic_df['Cidade_ID'] = all_hotel_historic_df['Cidade_ID'].astype(int)\n",
    "all_city_stars_historic_df['Cidade_ID'] = all_city_stars_historic_df['Cidade_ID'].astype(int)\n",
    "all_city_stars_forecasts_df['Cidade_ID'] = all_city_stars_forecasts_df['Cidade_ID'].astype(int)"
   ]
  },
  {
   "cell_type": "code",
   "execution_count": null,
   "metadata": {},
   "outputs": [],
   "source": [
    "#all_hotel_forecasts_df          \n",
    "#all_hotel_historic_df           \n",
    "#all_city_stars_historic_df      \n",
    "#all_city_stars_forecasts_df  "
   ]
  },
  {
   "cell_type": "code",
   "execution_count": null,
   "metadata": {},
   "outputs": [],
   "source": [
    "all_hotel_forecasts_df.dropna(inplace=True)\n",
    "all_hotel_historic_df.dropna(inplace=True)\n",
    "all_city_stars_historic_df.dropna(inplace=True)\n",
    "all_city_stars_forecasts_df.dropna(inplace=True)\n"
   ]
  },
  {
   "cell_type": "code",
   "execution_count": null,
   "metadata": {},
   "outputs": [],
   "source": [
    "all_hotel_forecasts_df['Estrelas'] = all_hotel_forecasts_df['Estrelas'].astype(int)\n",
    "all_hotel_historic_df['Estrelas'] = all_hotel_historic_df['Estrelas'].astype(int)\n",
    "all_city_stars_historic_df['Estrelas'] = all_city_stars_historic_df['Estrelas'].astype(int)\n",
    "all_city_stars_forecasts_df['Estrelas'] = all_city_stars_forecasts_df['Estrelas'].astype(int)"
   ]
  },
  {
   "cell_type": "code",
   "execution_count": null,
   "metadata": {},
   "outputs": [],
   "source": [
    "all_hotel_historic_df = all_hotel_historic_df.merge(\n",
    "    all_city_stars_historic_df[['ds', 'Cidade_ID', 'Estrelas', 'y']],\n",
    "    on=['ds', 'Cidade_ID', 'Estrelas'],\n",
    "    how='inner'\n",
    ")\n"
   ]
  },
  {
   "cell_type": "code",
   "execution_count": null,
   "metadata": {},
   "outputs": [],
   "source": [
    "all_hotel_forecasts_df = all_hotel_forecasts_df.merge(\n",
    "    all_city_stars_forecasts_df[['ds', 'Cidade_ID', 'Estrelas', 'data_type',  'yhat' , 'yhat_lower'  , 'yhat_upper']],\n",
    "    on=['ds', 'Cidade_ID', 'Estrelas',  'data_type'],\n",
    "    how='inner'\n",
    ")"
   ]
  },
  {
   "cell_type": "code",
   "execution_count": null,
   "metadata": {},
   "outputs": [],
   "source": [
    "all_hotel_forecasts_df.columns"
   ]
  },
  {
   "cell_type": "code",
   "execution_count": null,
   "metadata": {},
   "outputs": [],
   "source": [
    "to_plot = all_hotel_forecasts_df[all_hotel_forecasts_df['hotel'] == 13252] #759 # 4397"
   ]
  },
  {
   "cell_type": "code",
   "execution_count": null,
   "metadata": {},
   "outputs": [],
   "source": [
    "to_plot['ds'] = pd.to_datetime(to_plot['ds']).dt.tz_localize(None)\n"
   ]
  },
  {
   "cell_type": "code",
   "execution_count": null,
   "metadata": {},
   "outputs": [],
   "source": [
    "import matplotlib.pyplot as plt\n",
    "import matplotlib.dates as mdates\n",
    "import seaborn as sns\n",
    "\n",
    "# Set the seaborn theme\n",
    "sns.set_theme()\n",
    "\n",
    "# Plot observed data and predictions with different colors\n",
    "plt.figure(figsize=(16, 8))\n",
    "plt.plot(to_plot['ds'], to_plot['yhat_x'], label=\"Predicted Data Hotel\", color=\"#27445D\", alpha=0.8)\n",
    "plt.plot(to_plot['ds'], to_plot['yhat_y'], label=\"Predicted Data City\", color=\"firebrick\", alpha=0.8)\n",
    "\n",
    "\n",
    "# Add confidence intervals for predictions\n",
    "plt.fill_between(\n",
    "    to_plot['ds'], to_plot['yhat_lower_x'], to_plot['yhat_upper_x'], color=\"#27445D\", alpha=0.15, label=\"Uncertainty Interval Hotel\"\n",
    ")\n",
    "\n",
    "plt.fill_between(\n",
    "    to_plot['ds'], to_plot['yhat_lower_y'], to_plot['yhat_upper_y'], color=\"firebrick\", alpha=0.15, label=\"Uncertainty Interval City\"\n",
    ")\n",
    "\n",
    "# Customize x-axis for better readability\n",
    "plt.gca().xaxis.set_major_locator(mdates.MonthLocator(interval=1))  # Set ticks every 3 months\n",
    "plt.gca().xaxis.set_major_formatter(mdates.DateFormatter('%Y-%m'))  # Format as Year-Month\n",
    "plt.gcf().autofmt_xdate(rotation=90)  # Rotate x-axis labels vertically\n",
    "\n",
    "# Customize the plot\n",
    "plt.title(f\"Hotel {to_plot['hotel'].unique()} Data Forecast & Respective City {to_plot['Cidade_ID'].unique()} Forecast\", fontsize=16)\n",
    "plt.xlabel(\"\\n Exact Date\", fontsize=14)\n",
    "plt.ylabel(\"Average Daily Price (Local Currency) \\n\", fontsize=14)\n",
    "plt.legend(fontsize=12)\n",
    "plt.grid(True, linestyle=\"--\", alpha=0.6)\n",
    "\n",
    "\n",
    "# Save the plot before showing\n",
    "#plt.savefig(f\"../out/figures/city_stars_currency_forecast_{combined_df_hist['city_stars_currency'].unique()}.png\", dpi=300, bbox_inches=\"tight\")\n",
    "\n",
    "# Show the plot\n",
    "plt.tight_layout()\n",
    "plt.show()\n"
   ]
  },
  {
   "cell_type": "code",
   "execution_count": null,
   "metadata": {},
   "outputs": [],
   "source": [
    "all_hotel_forecasts_df.to_csv(\"../out/all_hotel_with_city_forecasts_df_From2021_to_Jan2025.csv\", index=False)"
   ]
  },
  {
   "cell_type": "code",
   "execution_count": null,
   "metadata": {},
   "outputs": [],
   "source": [
    "unique_hotels = all_hotel_forecasts_df['hotel'].unique().tolist()"
   ]
  },
  {
   "cell_type": "code",
   "execution_count": null,
   "metadata": {},
   "outputs": [],
   "source": [
    "# Set the seaborn theme\n",
    "sns.set_theme()\n",
    "\n",
    "# Get unique hotel IDs\n",
    "unique_hotels\n",
    "\n",
    "# Create a single PDF to store all plots\n",
    "with PdfPages(\"../out/figures/pdf/single_hotel_all_hotel_forecasts_df_365_2025.pdf\") as pdf:\n",
    "    for hotel in unique_hotels:\n",
    "        # Filter data for the current hotel\n",
    "        single_hotel_all_hotel_forecasts_df = all_hotel_forecasts_df[all_hotel_forecasts_df[\"hotel\"] == hotel]\n",
    "        \n",
    "        single_hotel_all_hotel_forecasts_df[\"ds\"] = pd.to_datetime(single_hotel_all_hotel_forecasts_df[\"ds\"], errors=\"coerce\")\n",
    "\n",
    "        # Create a new figure\n",
    "        plt.figure(figsize=(16, 8))\n",
    "\n",
    "\n",
    "        # Plot hotel data\n",
    "        plt.plot(single_hotel_all_hotel_forecasts_df[\"ds\"], single_hotel_all_hotel_forecasts_df[\"yhat_x\"], label=\"Observed Data Hotel\", color=\"#E195AB\", alpha=0.8)\n",
    "    \n",
    "        # Plot city data\n",
    "        plt.plot(single_hotel_all_hotel_forecasts_df[\"ds\"], single_hotel_all_hotel_forecasts_df[\"yhat_y\"], label=\"Predicted Data City\", color=\"#27445D\", alpha=0.6)\n",
    "    \n",
    "\n",
    "        # Add confidence intervals for predictions\n",
    "        plt.fill_between(\n",
    "            single_hotel_all_hotel_forecasts_df[\"ds\"], \n",
    "            single_hotel_all_hotel_forecasts_df[\"yhat_lower_x\"], \n",
    "            single_hotel_all_hotel_forecasts_df[\"yhat_upper_x\"], \n",
    "            color=\"#E195AB\", alpha=0.2, label=\"Uncertainty Interval Hotel\"\n",
    "        )\n",
    "\n",
    "        # Add confidence intervals for predictions\n",
    "        plt.fill_between(\n",
    "            single_hotel_all_hotel_forecasts_df[\"ds\"], \n",
    "            single_hotel_all_hotel_forecasts_df[\"yhat_lower_y\"], \n",
    "            single_hotel_all_hotel_forecasts_df[\"yhat_upper_y\"], \n",
    "            color=\"#27445D\", alpha=0.2, label=\"Uncertainty Interval City\"\n",
    "        )\n",
    "\n",
    "        # Customize x-axis\n",
    "        plt.gca().xaxis.set_major_locator(mdates.MonthLocator(interval=1))  \n",
    "        plt.gca().xaxis.set_major_formatter(mdates.DateFormatter('%Y-%m'))  \n",
    "        plt.gcf().autofmt_xdate(rotation=90)  \n",
    "\n",
    "        # Customize the plot\n",
    "        plt.title(f\"Hotel {single_hotel_all_hotel_forecasts_df['hotel'].unique()} Data Forecast & Respective City {single_hotel_all_hotel_forecasts_df['Cidade_ID'].unique()} Forecast\", fontsize=16)\n",
    "        \n",
    "        plt.xlabel(\"\\n Exact Date\", fontsize=14)\n",
    "        plt.ylabel(\"Average Daily Price (Local Currency) \\n\", fontsize=14)\n",
    "        plt.legend(fontsize=12)\n",
    "        plt.grid(True, linestyle=\"--\", alpha=0.6)\n",
    "\n",
    "        # Save the current figure to the PDF\n",
    "        pdf.savefig()\n",
    "        plt.close()  # Close the figure to free memory\n",
    "\n",
    "print(\"All plots saved successfully in 'single_hotel_all_hotel_forecasts_df_365_2025.pdf'!\")"
   ]
  },
  {
   "cell_type": "code",
   "execution_count": null,
   "metadata": {},
   "outputs": [],
   "source": [
    "import plotly.graph_objects as go\n",
    "import pandas as pd\n",
    "\n",
    "# Get unique hotel IDs\n",
    "unique_hotels\n",
    "\n",
    "output_dir = \"../out/figures/html/\"\n",
    "\n",
    "\n",
    "for hotel in unique_hotels:\n",
    "    # Extract data for the current hotel\n",
    "    single_hotel_all_hotel_forecasts_df = all_hotel_forecasts_df[all_hotel_forecasts_df[\"hotel\"] == hotel]\n",
    "    \n",
    "    single_hotel_all_hotel_forecasts_df[\"ds\"] = pd.to_datetime(single_hotel_all_hotel_forecasts_df[\"ds\"], errors=\"coerce\")\n",
    "\n",
    "    # Create interactive plot\n",
    "    fig = go.Figure()\n",
    "\n",
    "    # Add observed data\n",
    "    fig.add_trace(go.Scatter(\n",
    "        x=single_hotel_all_hotel_forecasts_df[\"ds\"],\n",
    "        y=single_hotel_all_hotel_forecasts_df[\"yhat_x\"],\n",
    "        mode=\"lines\",\n",
    "        name=\"Predicted Data Hotel\",\n",
    "        line=dict(color=\"#E195AB\")\n",
    "    ))\n",
    "\n",
    "    # Add predicted data\n",
    "    fig.add_trace(go.Scatter(\n",
    "        x=single_hotel_all_hotel_forecasts_df[\"ds\"],\n",
    "        y=single_hotel_all_hotel_forecasts_df[\"yhat_y\"],\n",
    "        mode=\"lines\",\n",
    "        name=\"Predicted Data City\",\n",
    "        line=dict(color=\"#27445D\", dash=\"dash\")\n",
    "    ))\n",
    "\n",
    "    # Add confidence interval\n",
    "    fig.add_trace(go.Scatter(\n",
    "        x=single_hotel_all_hotel_forecasts_df[\"ds\"].tolist() + single_hotel_all_hotel_forecasts_df[\"ds\"].tolist()[::-1],\n",
    "        y=single_hotel_all_hotel_forecasts_df[\"yhat_upper_x\"].tolist() + single_hotel_all_hotel_forecasts_df[\"yhat_lower_x\"].tolist()[::-1],\n",
    "        fill=\"toself\",\n",
    "        fillcolor=\"rgba(178, 34, 34, 0.3)\",  # 30% opacity\n",
    "        line=dict(color=\"rgba(178, 34, 34, 0.0)\"),  # Full opacity\n",
    "        name=\"Uncertainty Interval Hotel\"\n",
    "    ))\n",
    "\n",
    "   # Add confidence interval\n",
    "    fig.add_trace(go.Scatter(\n",
    "        x=single_hotel_all_hotel_forecasts_df[\"ds\"].tolist() + single_hotel_all_hotel_forecasts_df[\"ds\"].tolist()[::-1],\n",
    "        y=single_hotel_all_hotel_forecasts_df[\"yhat_upper_y\"].tolist() + single_hotel_all_hotel_forecasts_df[\"yhat_lower_y\"].tolist()[::-1],\n",
    "        fill=\"toself\",\n",
    "        fillcolor=\"rgba(39, 68, 93, 0.3)\",\n",
    "        line=dict(color=\"rgba(39, 68, 93, 0)\") ,\n",
    "        name=\"Uncertainty Interval City\"\n",
    "    ))\n",
    "\n",
    "\n",
    "    # Customize layout\n",
    "    fig.update_layout(\n",
    "        title=f\"Hotel {single_hotel_all_hotel_forecasts_df['hotel'].unique()} Data Forecast & Respective City {single_hotel_all_hotel_forecasts_df['Cidade_ID'].unique()} Forecast\",\n",
    "        xaxis_title=\"Exact Date\",\n",
    "        yaxis_title=\"Average Daily Price (Local Currency)\",\n",
    "        xaxis=dict(tickformat=\"%Y-%m\", tickangle=90),\n",
    "        template=\"plotly_white\"\n",
    "    )\n",
    "\n",
    "    # Save as HTML file\n",
    "    output_path = os.path.join(output_dir, f\"single_hotel_all_hotel_forecasts_df_{hotel}.html\")\n",
    "    fig.write_html(output_path)\n",
    "\n",
    "print(\"All interactive plots saved successfully!\")\n"
   ]
  },
  {
   "cell_type": "code",
   "execution_count": null,
   "metadata": {},
   "outputs": [],
   "source": [
    "# Set the seaborn theme\n",
    "sns.set_theme()\n",
    "\n",
    "# Get unique hotel IDs\n",
    "unique_hotels\n",
    "\n",
    "# Loop through each city_currency_ids\n",
    "for hotel in unique_hotels:\n",
    "    # Filter data for the current city_stars_currency_ids\n",
    "    single_hotel_all_hotel_forecasts_df = all_hotel_forecasts_df[all_hotel_forecasts_df[\"hotel\"] == hotel]\n",
    "\n",
    "    single_hotel_all_hotel_forecasts_df[\"ds\"] = pd.to_datetime(single_hotel_all_hotel_forecasts_df[\"ds\"], errors=\"coerce\")\n",
    "\n",
    "    # Create a new figure\n",
    "    plt.figure(figsize=(16, 8))\n",
    "    \n",
    "    # Plot hotel data\n",
    "    plt.plot(single_hotel_all_hotel_forecasts_df[\"ds\"], single_hotel_all_hotel_forecasts_df[\"yhat_x\"], label=\"Observed Data Hotel\", color=\"#E195AB\", alpha=0.8)\n",
    "    \n",
    "    # Plot city data\n",
    "    plt.plot(single_hotel_all_hotel_forecasts_df[\"ds\"], single_hotel_all_hotel_forecasts_df[\"yhat_y\"], label=\"Predicted Data City\", color=\"#27445D\", alpha=0.6)\n",
    "    \n",
    "    # Add confidence intervals for predictions\n",
    "    plt.fill_between(\n",
    "        single_hotel_all_hotel_forecasts_df[\"ds\"], \n",
    "        single_hotel_all_hotel_forecasts_df[\"yhat_lower_x\"], \n",
    "        single_hotel_all_hotel_forecasts_df[\"yhat_upper_x\"], \n",
    "        color=\"#E195AB\", alpha=0.2, label=\"Uncertainty Interval Hotel\"\n",
    "    )\n",
    "\n",
    "    # Add confidence intervals for predictions\n",
    "    plt.fill_between(\n",
    "        single_hotel_all_hotel_forecasts_df[\"ds\"], \n",
    "        single_hotel_all_hotel_forecasts_df[\"yhat_lower_y\"], \n",
    "        single_hotel_all_hotel_forecasts_df[\"yhat_upper_y\"], \n",
    "        color=\"#27445D\", alpha=0.2, label=\"Uncertainty Interval City\"\n",
    "    )\n",
    "\n",
    "    # Customize x-axis\n",
    "    plt.gca().xaxis.set_major_locator(mdates.MonthLocator(interval=1))  \n",
    "    plt.gca().xaxis.set_major_formatter(mdates.DateFormatter('%Y-%m'))  \n",
    "    plt.gcf().autofmt_xdate(rotation=90)  \n",
    "\n",
    "    # Customize the plot\n",
    "    plt.title(f\"Hotel {single_hotel_all_hotel_forecasts_df['hotel'].unique()} Data Forecast & Respective City {single_hotel_all_hotel_forecasts_df['Cidade_ID'].unique()} Forecast\", fontsize=16)\n",
    "    plt.xlabel(\"\\n Exact Date\", fontsize=14)\n",
    "    plt.ylabel(\"Average Daily Price (Local Currency) \\n\", fontsize=14)\n",
    "    plt.legend(fontsize=12)\n",
    "    plt.grid(True, linestyle=\"--\", alpha=0.6)\n",
    "\n",
    "    # Save the plot with hotel_id in the filename\n",
    "    plt.savefig(f\"../out/figures/png/single_hotel_all_hotel_forecasts_df_{hotel}.png\", dpi=300, bbox_inches=\"tight\")\n",
    "    \n",
    "    # Close the plot to free memory before the next iteration\n",
    "    plt.close()\n",
    "\n",
    "print(\"All plots saved successfully!\")"
   ]
  },
  {
   "cell_type": "code",
   "execution_count": null,
   "metadata": {},
   "outputs": [],
   "source": []
  }
 ],
 "metadata": {
  "kernelspec": {
   "display_name": "Python 3",
   "language": "python",
   "name": "python3"
  },
  "language_info": {
   "codemirror_mode": {
    "name": "ipython",
    "version": 3
   },
   "file_extension": ".py",
   "mimetype": "text/x-python",
   "name": "python",
   "nbconvert_exporter": "python",
   "pygments_lexer": "ipython3",
   "version": "3.10.6"
  }
 },
 "nbformat": 4,
 "nbformat_minor": 2
}
