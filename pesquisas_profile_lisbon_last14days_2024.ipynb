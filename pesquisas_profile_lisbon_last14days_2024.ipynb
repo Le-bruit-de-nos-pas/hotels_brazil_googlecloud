{
 "cells": [
  {
   "cell_type": "code",
   "execution_count": 1,
   "metadata": {},
   "outputs": [],
   "source": [
    "import pandas as pd\n",
    "import numpy as np  \n",
    "import os\n",
    "import gc\n",
    "import psutil"
   ]
  },
  {
   "cell_type": "code",
   "execution_count": 2,
   "metadata": {},
   "outputs": [],
   "source": [
    "# Get the current directory\n",
    "current_dir = os.getcwd()\n",
    "\n",
    "# Navigate one folder up\n",
    "parent_dir = os.path.dirname(current_dir)\n",
    "\n",
    "# Where the files are located\n",
    "data = 'data\\other'\n",
    "\n",
    "# Navigate down into the \"data\" folder\n",
    "data_dir = os.path.join(parent_dir, data)"
   ]
  },
  {
   "cell_type": "code",
   "execution_count": 3,
   "metadata": {},
   "outputs": [
    {
     "data": {
      "text/plain": [
       "['data-lake-prd-314410.cz.pull-motivo-indisponibilidade.csv',\n",
       " 'data-lake-prd-314410.cz.pull-pesquisas_100000_extract.csv',\n",
       " 'data-lake-prd-314410.cz.pull-pesquisas_average_price_hotel_currency.csv',\n",
       " 'data-lake-prd-314410.cz.pull-pesquisas_estadia_x_reservas_volume.csv',\n",
       " 'data-lake-prd-314410.cz.pull-pesquisas_estadia_x_reservas_x_price_receitas.csv',\n",
       " 'data-lake-prd-314410.cz.pull-pesquisas_lisbon_14days2024_v1.csv',\n",
       " 'data-lake-prd-314410.cz.pull-pesquisas_lisbon_14days2024_v2.csv',\n",
       " 'data-lake-prd-314410.cz.pull-pesquisas_lisbon_14days2024_v3.csv',\n",
       " 'data-lake-prd-314410.cz.pull-pesquisas_lisbon_14days2024_v4.csv',\n",
       " 'data-lake-prd-314410.cz.pull-pesquisas_lisbon_14days2024_v5.csv',\n",
       " 'data-lake-prd-314410.cz.pull-pesquisas_lisbon_14days2024_v6.csv',\n",
       " 'data-lake-prd-314410.cz.pull-pesquisas_lisbon_14days2024_v7.csv',\n",
       " 'hotel_city_chanel_combin_extract.csv',\n",
       " 'pull-pesquisas-cidade-ultimos-30-dias_2025_notnull.csv',\n",
       " 'pull-pesquisas-hotel-ultimos-30-dias_1000random.csv',\n",
       " 'pull-pesquisas-hotel-ultimos-30-dias_2025_notnull.csv',\n",
       " 'pull_pesquisas_indisponibilidade_canal_ultimos_30_dias_1000randomhotels.csv',\n",
       " 'pull_pesquisas_indisponibilidade_canal_ultimos_30_dias_5hotels.csv']"
      ]
     },
     "execution_count": 3,
     "metadata": {},
     "output_type": "execute_result"
    }
   ],
   "source": [
    "os.listdir(data_dir)"
   ]
  },
  {
   "cell_type": "code",
   "execution_count": 4,
   "metadata": {},
   "outputs": [
    {
     "name": "stdout",
     "output_type": "stream",
     "text": [
      "['data-lake-prd-314410.cz.pull-pesquisas_lisbon_14days2024_v1.csv', 'data-lake-prd-314410.cz.pull-pesquisas_lisbon_14days2024_v2.csv', 'data-lake-prd-314410.cz.pull-pesquisas_lisbon_14days2024_v3.csv', 'data-lake-prd-314410.cz.pull-pesquisas_lisbon_14days2024_v4.csv', 'data-lake-prd-314410.cz.pull-pesquisas_lisbon_14days2024_v5.csv', 'data-lake-prd-314410.cz.pull-pesquisas_lisbon_14days2024_v6.csv', 'data-lake-prd-314410.cz.pull-pesquisas_lisbon_14days2024_v7.csv']\n"
     ]
    }
   ],
   "source": [
    "# Filter the list of files for those containing \"lisbon_14days\"\n",
    "filtered_files = [file for file in os.listdir(data_dir) if \"lisbon_14days\" in file]\n",
    "print(filtered_files)"
   ]
  },
  {
   "cell_type": "code",
   "execution_count": null,
   "metadata": {},
   "outputs": [
    {
     "name": "stdout",
     "output_type": "stream",
     "text": [
      "File: data-lake-prd-314410.cz.pull-pesquisas_lisbon_14days2024_v1.csv | Dimensions: (7467152, 8)\n",
      "File: data-lake-prd-314410.cz.pull-pesquisas_lisbon_14days2024_v2.csv | Dimensions: (7817567, 8)\n",
      "File: data-lake-prd-314410.cz.pull-pesquisas_lisbon_14days2024_v3.csv | Dimensions: (6803018, 8)\n",
      "File: data-lake-prd-314410.cz.pull-pesquisas_lisbon_14days2024_v4.csv | Dimensions: (6548245, 8)\n",
      "File: data-lake-prd-314410.cz.pull-pesquisas_lisbon_14days2024_v5.csv | Dimensions: (7413623, 8)\n",
      "File: data-lake-prd-314410.cz.pull-pesquisas_lisbon_14days2024_v6.csv | Dimensions: (7442312, 8)\n"
     ]
    }
   ],
   "source": [
    "# Initialize an empty list to store DataFrames\n",
    "dataframes = []\n",
    "\n",
    "# Variable to track total rows\n",
    "total_rows = 0\n",
    "\n",
    "# Loop through all files in the \"data\" folder\n",
    "try:\n",
    "    for file_name in filtered_files:\n",
    "        \n",
    "        if file_name.endswith('.csv'):  # Check if the file is a CSV\n",
    "            \n",
    "            file_path = os.path.join(data_dir, file_name)\n",
    "            \n",
    "            # Read the CSV file into a DataFrame\n",
    "            df = pd.read_csv(file_path)\n",
    "            dataframes.append(df)  # Append the DataFrame to the list\n",
    "            \n",
    "             # Print dimensions of the current file\n",
    "            print(f\"File: {file_name} | Dimensions: {df.shape}\")\n",
    "            \n",
    "            # Add the number of rows to the total count\n",
    "            total_rows += df.shape[0]\n",
    "\n",
    "    # Concatenate all DataFrames in the list by binding rows\n",
    "    combined_df = pd.concat(dataframes, ignore_index=True)\n",
    "\n",
    "    # Print dimensions of the combined DataFrame\n",
    "    print(f\"Combined DataFrame Dimensions: {combined_df.shape}\")\n",
    "\n",
    "    # Verify the sum of rows matches\n",
    "    if total_rows == combined_df.shape[0]:\n",
    "        print(\"Row count verification successful! Total rows match.\")\n",
    "    else:\n",
    "        print(\"Row count verification failed! Mismatch in row count.\")\n",
    "\n",
    "    print(combined_df.head())  # Display the first few rows of the combined DataFrame\n",
    "\n",
    "except FileNotFoundError:\n",
    "    print(f\"Folder '{data_dir}' not found.\")\n",
    "except Exception as e:\n",
    "    print(f\"An error occurred: {e}\")"
   ]
  },
  {
   "cell_type": "code",
   "execution_count": null,
   "metadata": {},
   "outputs": [],
   "source": []
  }
 ],
 "metadata": {
  "kernelspec": {
   "display_name": "Python 3",
   "language": "python",
   "name": "python3"
  },
  "language_info": {
   "codemirror_mode": {
    "name": "ipython",
    "version": 3
   },
   "file_extension": ".py",
   "mimetype": "text/x-python",
   "name": "python",
   "nbconvert_exporter": "python",
   "pygments_lexer": "ipython3",
   "version": "3.10.6"
  }
 },
 "nbformat": 4,
 "nbformat_minor": 2
}
