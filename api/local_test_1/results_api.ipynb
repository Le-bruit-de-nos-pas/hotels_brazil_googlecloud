{
 "cells": [
  {
   "cell_type": "code",
   "execution_count": null,
   "id": "7139f280",
   "metadata": {},
   "outputs": [],
   "source": [
    "import pandas as pd\n",
    "import sqlite3"
   ]
  },
  {
   "cell_type": "code",
   "execution_count": null,
   "id": "faf9b4c4",
   "metadata": {},
   "outputs": [],
   "source": [
    "import pandas as pd\n",
    "import sqlite3\n",
    "\n",
    "# Load your CSV\n",
    "df = pd.read_csv(\"svd_hotel_channel_recommendations_df_top50.csv\")\n",
    "\n",
    "# Connect to (or create) a SQLite database\n",
    "conn = sqlite3.connect(\"hotel_recommendations.db\")\n",
    "\n",
    "# Write DataFrame to a new table in the database\n",
    "df.to_sql(\"recommendations\", conn, if_exists=\"replace\", index=False)\n",
    "\n",
    "# Optional: check what was saved\n",
    "print(pd.read_sql(\"SELECT * FROM recommendations LIMIT 5\", conn))\n",
    "\n",
    "# Close the connection\n",
    "conn.close()\n"
   ]
  },
  {
   "cell_type": "code",
   "execution_count": null,
   "id": "f7b6bac8",
   "metadata": {},
   "outputs": [],
   "source": []
  }
 ],
 "metadata": {
  "kernelspec": {
   "display_name": "Python 3",
   "language": "python",
   "name": "python3"
  },
  "language_info": {
   "codemirror_mode": {
    "name": "ipython",
    "version": 3
   },
   "file_extension": ".py",
   "mimetype": "text/x-python",
   "name": "python",
   "nbconvert_exporter": "python",
   "pygments_lexer": "ipython3",
   "version": "3.10.6"
  }
 },
 "nbformat": 4,
 "nbformat_minor": 5
}
