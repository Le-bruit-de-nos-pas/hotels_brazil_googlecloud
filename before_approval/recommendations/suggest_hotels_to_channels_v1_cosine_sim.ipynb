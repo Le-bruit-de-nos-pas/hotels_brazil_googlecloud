{
 "cells": [
  {
   "cell_type": "code",
   "execution_count": 122,
   "metadata": {},
   "outputs": [],
   "source": [
    "import pandas as pd\n",
    "import numpy as np  \n",
    "from sklearn.preprocessing import StandardScaler\n",
    "from sklearn.metrics.pairwise import cosine_similarity\n"
   ]
  },
  {
   "cell_type": "markdown",
   "metadata": {},
   "source": [
    "# GET HOTELS IN THE SAME CITIES THE CHANNEL ALREADY HAS A FOOT IN"
   ]
  },
  {
   "cell_type": "code",
   "execution_count": null,
   "metadata": {},
   "outputs": [],
   "source": [
    "hotel_city_chanel_combin_extract  = pd.read_csv('c:\\\\Users\\\\paulo\\\\Desktop\\\\hotels brazil\\\\data\\\\other\\\\hotel_city_chanel_combin_extract.csv')\n",
    "hotel_city_chanel_combin_extract.dropna(inplace=True)\n",
    "hotel_city_chanel_combin_extract"
   ]
  },
  {
   "cell_type": "code",
   "execution_count": null,
   "metadata": {},
   "outputs": [],
   "source": [
    "print(hotel_city_chanel_combin_extract['Canal_ID'].nunique(), \n",
    "        hotel_city_chanel_combin_extract['Cidade_ID'].nunique() ,\n",
    "            hotel_city_chanel_combin_extract['Hotel_ID'].nunique() )"
   ]
  },
  {
   "cell_type": "code",
   "execution_count": 125,
   "metadata": {},
   "outputs": [],
   "source": [
    "def get_unseen_hotels(df, canal_id):\n",
    "    # Ensure canal_id is an integer\n",
    "    if not isinstance(canal_id, int):\n",
    "        raise ValueError(f\"Expected an integer for canal_id, but got {type(canal_id)}.\")\n",
    "\n",
    "    # Get the Cidade_IDs corresponding to the given Canal_ID\n",
    "    cidade_ids = df.loc[df['Canal_ID'] == canal_id, 'Cidade_ID'].unique()\n",
    "\n",
    "    # Get all Hotel_IDs in the corresponding Cidade_IDs\n",
    "    hotels_in_cidade = df.loc[df['Cidade_ID'].isin(cidade_ids), 'Hotel_ID'].unique()\n",
    "\n",
    "    # Get the Hotel_IDs already associated with the given Canal_ID\n",
    "    seen_hotels = df.loc[df['Canal_ID'] == canal_id, 'Hotel_ID'].unique()\n",
    "\n",
    "    # Filter out seen hotels\n",
    "    unseen_hotels = [hotel for hotel in hotels_in_cidade if hotel not in seen_hotels]\n",
    "\n",
    "    # Return unseen hotels as a DataFrame column, ensuring uniqueness\n",
    "    unseen_hotels_df = pd.DataFrame({'Unseen_Hotel_ID': unseen_hotels}).drop_duplicates()\n",
    "\n",
    "    return unseen_hotels_df"
   ]
  },
  {
   "cell_type": "code",
   "execution_count": 126,
   "metadata": {},
   "outputs": [],
   "source": [
    "canal_target = 1245"
   ]
  },
  {
   "cell_type": "code",
   "execution_count": 127,
   "metadata": {},
   "outputs": [],
   "source": [
    "suggested_hotels = get_unseen_hotels(hotel_city_chanel_combin_extract, canal_target)"
   ]
  },
  {
   "cell_type": "code",
   "execution_count": null,
   "metadata": {},
   "outputs": [],
   "source": [
    "suggested_hotels"
   ]
  },
  {
   "cell_type": "code",
   "execution_count": 129,
   "metadata": {},
   "outputs": [],
   "source": [
    "original_hotels = hotel_city_chanel_combin_extract[hotel_city_chanel_combin_extract['Canal_ID'] == canal_target].drop_duplicates()"
   ]
  },
  {
   "cell_type": "code",
   "execution_count": 130,
   "metadata": {},
   "outputs": [],
   "source": [
    "original_hotels = original_hotels.drop(columns=['Canal_ID'])"
   ]
  },
  {
   "cell_type": "code",
   "execution_count": 131,
   "metadata": {},
   "outputs": [],
   "source": [
    "original_cities = original_hotels['Cidade_ID'].unique()"
   ]
  },
  {
   "cell_type": "code",
   "execution_count": null,
   "metadata": {},
   "outputs": [],
   "source": [
    "original_cities"
   ]
  },
  {
   "cell_type": "code",
   "execution_count": 133,
   "metadata": {},
   "outputs": [],
   "source": [
    "suggested_hotels = pd.merge(suggested_hotels, \n",
    "                       hotel_city_chanel_combin_extract[['Cidade_ID', 'Hotel_ID']].drop_duplicates(), \n",
    "                       left_on='Unseen_Hotel_ID', \n",
    "                       right_on='Hotel_ID',\n",
    "                       how='left').drop(columns=['Hotel_ID']).drop_duplicates()"
   ]
  },
  {
   "cell_type": "code",
   "execution_count": null,
   "metadata": {},
   "outputs": [],
   "source": [
    "suggested_hotels"
   ]
  },
  {
   "cell_type": "code",
   "execution_count": null,
   "metadata": {},
   "outputs": [],
   "source": []
  },
  {
   "cell_type": "markdown",
   "metadata": {},
   "source": [
    "# GET HOTEL FEATURES"
   ]
  },
  {
   "cell_type": "code",
   "execution_count": 135,
   "metadata": {},
   "outputs": [],
   "source": [
    "data_lake_prd_314410_cz_hoteis = pd.read_csv('c:\\\\Users\\\\paulo\\\\Desktop\\\\hotels brazil\\\\data\\\\lookups\\\\data-lake-prd-314410.cz.hoteis.csv')\n",
    "\n",
    "data_lake_prd_314410_cz_hoteis = data_lake_prd_314410_cz_hoteis[['Hotel_ID', 'Estrelas', 'Quartos', 'CategoriaHotel', 'Moeda', 'Cidade_ID']]\n",
    "\n",
    "data_lake_prd_314410_cz_cidades = pd.read_csv('c:\\\\Users\\\\paulo\\\\Desktop\\\\hotels brazil\\\\data\\\\lookups\\\\data-lake-prd-314410.cz.cidades.csv')\n",
    "\n",
    "data_lake_prd_314410_cz_cidades = data_lake_prd_314410_cz_cidades[['Cidade_ID', 'Pais']]\n",
    "\n",
    "merged_data = pd.merge(data_lake_prd_314410_cz_hoteis, \n",
    "                       data_lake_prd_314410_cz_cidades, \n",
    "                       on='Cidade_ID', \n",
    "                       how='left')\n",
    "\n",
    "merged_data.dropna(subset=['Pais'], inplace=True)\n",
    "\n",
    "merged_data.drop(columns=['Cidade_ID'], inplace=True)\n"
   ]
  },
  {
   "cell_type": "code",
   "execution_count": null,
   "metadata": {},
   "outputs": [],
   "source": [
    "data_lake_prd_314410_cz_pull_pesquisas_average_price_hotel_currency = pd.read_csv('c:\\\\Users\\\\paulo\\\\Desktop\\\\hotels brazil\\\\data\\\\other\\\\data-lake-prd-314410.cz.pull-pesquisas_average_price_hotel_currency.csv')\n",
    "data_lake_prd_314410_cz_moedas = pd.read_csv('c:\\\\Users\\\\paulo\\\\Desktop\\\\hotels brazil\\\\data\\\\lookups\\\\data-lake-prd-314410.cz.moedas.csv')\n",
    "\n",
    "data_lake_prd_314410_cz_pull_pesquisas_average_price_hotel_currency = pd.merge(data_lake_prd_314410_cz_pull_pesquisas_average_price_hotel_currency, \n",
    "                     data_lake_prd_314410_cz_moedas[['Moeda_ID', 'Cotacao_USD']], \n",
    "                     on='Moeda_ID', \n",
    "                     how='left')\n",
    "\n",
    "\n",
    "data_lake_prd_314410_cz_pull_pesquisas_average_price_hotel_currency['weighted_mean_diaria_usd'] = \\\n",
    "    data_lake_prd_314410_cz_pull_pesquisas_average_price_hotel_currency['weighted_mean_diaria'] * \\\n",
    "        data_lake_prd_314410_cz_pull_pesquisas_average_price_hotel_currency['Cotacao_USD']\n",
    "\n",
    "merged_data = pd.merge(merged_data, \n",
    "                     data_lake_prd_314410_cz_pull_pesquisas_average_price_hotel_currency[['Hotel_ID', 'Cotacao_USD', 'weighted_mean_diaria_usd']], \n",
    "                     on='Hotel_ID', \n",
    "                     how='left')\n",
    "\n",
    "data_lake_prd_314410_cz_pull_pesquisas_estadia_x_reservas_volume = pd.read_csv('c:\\\\Users\\\\paulo\\\\Desktop\\\\hotels brazil\\\\data\\\\other\\\\data-lake-prd-314410.cz.pull-pesquisas_estadia_x_reservas_volume.csv')\n",
    "\n",
    "merged_data = pd.merge(merged_data, \n",
    "                     data_lake_prd_314410_cz_pull_pesquisas_estadia_x_reservas_volume, \n",
    "                     on='Hotel_ID', \n",
    "                     how='left')\n",
    "\n",
    "data_lake_prd_314410_cz_pull_pesquisas_estadia_x_reservas_x_price_receitas = pd.read_csv('c:\\\\Users\\\\paulo\\\\Desktop\\\\hotels brazil\\\\data\\\\other\\\\data-lake-prd-314410.cz.pull-pesquisas_estadia_x_reservas_x_price_receitas.csv')\n",
    "data_lake_prd_314410_cz_pull_pesquisas_estadia_x_reservas_x_price_receitas\n",
    "\n",
    "merged_data = pd.merge(merged_data, \n",
    "                     data_lake_prd_314410_cz_pull_pesquisas_estadia_x_reservas_x_price_receitas, \n",
    "                     on='Hotel_ID', \n",
    "                     how='left')\n",
    "\n",
    "merged_data['total_reservas_estadia_diaria'] = \\\n",
    "    merged_data['total_reservas_estadia_diaria'] * \\\n",
    "        merged_data['Cotacao_USD']\n",
    "\n",
    "merged_data.drop(columns=['Moeda'], inplace=True)\n",
    "\n",
    "merged_data.drop(columns=['Cotacao_USD'], inplace=True)\n",
    "\n",
    "merged_data.dropna(inplace=True)\n",
    "\n",
    "merged_data"
   ]
  },
  {
   "cell_type": "code",
   "execution_count": 137,
   "metadata": {},
   "outputs": [],
   "source": [
    "merged_data.drop(columns=['Pais', 'CategoriaHotel'], inplace=True)"
   ]
  },
  {
   "cell_type": "code",
   "execution_count": 138,
   "metadata": {},
   "outputs": [],
   "source": [
    "hotel_characteristics = merged_data"
   ]
  },
  {
   "cell_type": "markdown",
   "metadata": {},
   "source": [
    "# Merge original and suggested hotels with their characteristics"
   ]
  },
  {
   "cell_type": "code",
   "execution_count": null,
   "metadata": {},
   "outputs": [],
   "source": [
    "\n",
    "\n",
    "# Merge original and suggested hotels with their characteristics\n",
    "features_to_scale = ['Estrelas', 'Quartos', 'weighted_mean_diaria_usd', \n",
    "                     'total_reservas_estadia', 'total_reservas_estadia_diaria']\n",
    "\n",
    "# Merge original hotels\n",
    "original_hotels_features = pd.merge(\n",
    "    original_hotels,\n",
    "    hotel_characteristics,\n",
    "    on='Hotel_ID',\n",
    "    how='left'\n",
    ")\n",
    "\n",
    "# Merge suggested hotels\n",
    "suggested_hotels_features = pd.merge(\n",
    "    suggested_hotels,\n",
    "    hotel_characteristics,\n",
    "    left_on='Unseen_Hotel_ID',\n",
    "    right_on='Hotel_ID',\n",
    "    how='left'\n",
    ")\n",
    "\n",
    "# Scale features\n",
    "scaler = StandardScaler()\n",
    "original_hotels_features[features_to_scale] = scaler.fit_transform(original_hotels_features[features_to_scale])\n",
    "suggested_hotels_features[features_to_scale] = scaler.transform(suggested_hotels_features[features_to_scale])\n",
    "\n",
    "print(\"Original Hotel Features:\\n\", original_hotels_features.head())\n",
    "print(\"Suggested Hotel Features:\\n\", suggested_hotels_features.head())"
   ]
  },
  {
   "cell_type": "code",
   "execution_count": null,
   "metadata": {},
   "outputs": [],
   "source": [
    "suggested_hotels_features"
   ]
  },
  {
   "cell_type": "code",
   "execution_count": null,
   "metadata": {},
   "outputs": [],
   "source": [
    "\n",
    "\n",
    "# List to store results\n",
    "all_city_similarities = []\n",
    "\n",
    "# Loop through each city\n",
    "for city_id in original_cities:\n",
    "    # Filter hotels by city\n",
    "    city_original_hotels = original_hotels_features[original_hotels_features['Cidade_ID'] == city_id].dropna()\n",
    "    city_suggested_hotels = suggested_hotels_features[suggested_hotels_features['Cidade_ID'] == city_id].dropna()\n",
    "    \n",
    "    if city_original_hotels.empty or city_suggested_hotels.empty:\n",
    "        continue\n",
    "\n",
    "    # Extract feature matrices\n",
    "    original_features = city_original_hotels[features_to_scale].values\n",
    "    suggested_features = city_suggested_hotels[features_to_scale].values\n",
    "\n",
    "    # Calculate cosine similarity\n",
    "    similarity_matrix = cosine_similarity(original_features, suggested_features)\n",
    "\n",
    "    # Create a DataFrame to hold all similarity scores\n",
    "    similarity_df = pd.DataFrame(\n",
    "        similarity_matrix,\n",
    "        index=city_original_hotels['Hotel_ID'],\n",
    "        columns=city_suggested_hotels['Unseen_Hotel_ID']\n",
    "    ).reset_index()\n",
    "\n",
    "    # Melt DataFrame to long format: one row per (original, suggested) pair\n",
    "    similarity_long = similarity_df.melt(\n",
    "        id_vars='Hotel_ID',  # Original Hotel ID\n",
    "        var_name='Unseen_Hotel_ID',  # Suggested Hotel ID\n",
    "        value_name='Similarity'  # Similarity Score\n",
    "    )\n",
    "\n",
    "    # Add the city to the DataFrame\n",
    "    similarity_long['Cidade_ID'] = city_id\n",
    "\n",
    "    # Append results\n",
    "    all_city_similarities.append(similarity_long)\n",
    "\n",
    "# Combine all city similarities\n",
    "ranked_hotels = pd.concat(all_city_similarities, ignore_index=True)\n",
    "\n",
    "# Sort by Original Hotel, City, and Similarity\n",
    "ranked_hotels = ranked_hotels.sort_values(\n",
    "    by=['Cidade_ID', 'Hotel_ID', 'Similarity'], ascending=[True, True, False]\n",
    ").reset_index(drop=True)\n",
    "\n",
    "print(\"Ranked Hotels:\\n\", ranked_hotels.head())\n",
    "\n"
   ]
  },
  {
   "cell_type": "code",
   "execution_count": null,
   "metadata": {},
   "outputs": [],
   "source": [
    "ranked_hotels['Hotel_ID'].unique() "
   ]
  },
  {
   "cell_type": "code",
   "execution_count": null,
   "metadata": {},
   "outputs": [],
   "source": [
    "ranked_hotels['Similarity'].min()"
   ]
  },
  {
   "cell_type": "code",
   "execution_count": null,
   "metadata": {},
   "outputs": [],
   "source": [
    "print(ranked_hotels[ranked_hotels['Hotel_ID'] == 7410.0].head(1))\n",
    "print(ranked_hotels[ranked_hotels['Hotel_ID'] == 7410.0].tail(1))"
   ]
  },
  {
   "cell_type": "code",
   "execution_count": null,
   "metadata": {},
   "outputs": [],
   "source": [
    "hotel_characteristics[hotel_characteristics['Hotel_ID'] == 7410]"
   ]
  },
  {
   "cell_type": "code",
   "execution_count": null,
   "metadata": {},
   "outputs": [],
   "source": [
    "hotel_characteristics[hotel_characteristics['Hotel_ID'] == 7416.0     ]"
   ]
  },
  {
   "cell_type": "code",
   "execution_count": null,
   "metadata": {},
   "outputs": [],
   "source": [
    "hotel_characteristics[hotel_characteristics['Hotel_ID'] == 17996.0   ]"
   ]
  },
  {
   "cell_type": "code",
   "execution_count": null,
   "metadata": {},
   "outputs": [],
   "source": []
  }
 ],
 "metadata": {
  "kernelspec": {
   "display_name": "Python 3",
   "language": "python",
   "name": "python3"
  },
  "language_info": {
   "codemirror_mode": {
    "name": "ipython",
    "version": 3
   },
   "file_extension": ".py",
   "mimetype": "text/x-python",
   "name": "python",
   "nbconvert_exporter": "python",
   "pygments_lexer": "ipython3",
   "version": "3.10.6"
  }
 },
 "nbformat": 4,
 "nbformat_minor": 2
}
