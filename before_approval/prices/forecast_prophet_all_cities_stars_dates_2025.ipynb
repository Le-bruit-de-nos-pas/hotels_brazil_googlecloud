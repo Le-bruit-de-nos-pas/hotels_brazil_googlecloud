{
 "cells": [
  {
   "cell_type": "code",
   "execution_count": null,
   "metadata": {},
   "outputs": [],
   "source": [
    "import pandas as pd\n",
    "import numpy as np  \n",
    "import os\n",
    "from prophet import Prophet\n",
    "import matplotlib.pyplot as plt\n",
    "import matplotlib.dates as mdates\n",
    "import seaborn as sns\n",
    "from matplotlib.backends.backend_pdf import PdfPages"
   ]
  },
  {
   "cell_type": "code",
   "execution_count": null,
   "metadata": {},
   "outputs": [],
   "source": [
    "# Get the current directory\n",
    "current_dir = os.getcwd()\n",
    "\n",
    "# Navigate one folder up\n",
    "parent_dir = os.path.dirname(current_dir)\n",
    "\n",
    "# Where the files are located\n",
    "data = \"data/other/From2021_to_Jan2025_PricesHotelsDates\"\n",
    "\n",
    "# Navigate down into the \"data\" folder\n",
    "data_dir = os.path.join(parent_dir, data)\n",
    "\n",
    "# Initialize an empty list to store DataFrames\n",
    "dataframes = []\n",
    "\n",
    "# Variable to track total rows\n",
    "total_rows = 0\n",
    "\n",
    "# Loop through all files in the \"data\" folder\n",
    "try:\n",
    "    for file_name in os.listdir(data_dir):\n",
    "        \n",
    "        if file_name.endswith('.csv'):  # Check if the file is a CSV\n",
    "            \n",
    "            file_path = os.path.join(data_dir, file_name)\n",
    "            \n",
    "            # Read the CSV file into a DataFrame\n",
    "            df = pd.read_csv(file_path)\n",
    "            dataframes.append(df)  # Append the DataFrame to the list\n",
    "            \n",
    "             # Print dimensions of the current file\n",
    "            print(f\"File: {file_name} | Dimensions: {df.shape}\")\n",
    "            \n",
    "            # Add the number of rows to the total count\n",
    "            total_rows += df.shape[0]\n",
    "\n",
    "    # Concatenate all DataFrames in the list by binding rows\n",
    "    combined_df = pd.concat(dataframes, ignore_index=True)\n",
    "\n",
    "    # Print dimensions of the combined DataFrame\n",
    "    print(f\"Combined DataFrame Dimensions: {combined_df.shape}\")\n",
    "\n",
    "    # Verify the sum of rows matches\n",
    "    if total_rows == combined_df.shape[0]:\n",
    "        print(\"Row count verification successful! Total rows match.\")\n",
    "    else:\n",
    "        print(\"Row count verification failed! Mismatch in row count.\")\n",
    "\n",
    "    print(combined_df.head())  # Display the first few rows of the combined DataFrame\n",
    "\n",
    "except FileNotFoundError:\n",
    "    print(f\"Folder '{data_dir}' not found.\")\n",
    "except Exception as e:\n",
    "    print(f\"An error occurred: {e}\")"
   ]
  },
  {
   "cell_type": "code",
   "execution_count": null,
   "metadata": {},
   "outputs": [],
   "source": [
    "combined_df.shape"
   ]
  },
  {
   "cell_type": "code",
   "execution_count": null,
   "metadata": {},
   "outputs": [],
   "source": [
    "del current_dir, data, data_dir, dataframes, df, file_name, file_path, parent_dir, total_rows"
   ]
  },
  {
   "cell_type": "code",
   "execution_count": null,
   "metadata": {},
   "outputs": [],
   "source": [
    "data_lake_prd_314410_cz_moedas = pd.read_csv('..\\\\data\\\\lookups\\\\data-lake-prd-314410.cz.moedas.csv')\n",
    "data_lake_prd_314410_cz_moedas.head"
   ]
  },
  {
   "cell_type": "code",
   "execution_count": null,
   "metadata": {},
   "outputs": [],
   "source": [
    "data_lake_prd_314410_cz_hoteis = pd.read_csv('..\\\\data\\\\lookups\\\\data-lake-prd-314410.cz.hoteis.csv')\n",
    "data_lake_prd_314410_cz_hoteis.head"
   ]
  },
  {
   "cell_type": "code",
   "execution_count": null,
   "metadata": {},
   "outputs": [],
   "source": [
    "data_lake_prd_314410_cz_hoteis.columns"
   ]
  },
  {
   "cell_type": "code",
   "execution_count": null,
   "metadata": {},
   "outputs": [],
   "source": [
    "data_lake_prd_314410_cz_hoteis = data_lake_prd_314410_cz_hoteis[['Hotel_ID', 'Moeda', 'Estrelas', 'Cidade_ID']]"
   ]
  },
  {
   "cell_type": "code",
   "execution_count": null,
   "metadata": {},
   "outputs": [],
   "source": [
    "data_lake_prd_314410_cz_hoteis = pd.merge(data_lake_prd_314410_cz_hoteis, \n",
    "                     data_lake_prd_314410_cz_moedas[['Moeda', 'Cotacao_USD']], \n",
    "                     on='Moeda', \n",
    "                     how='left')"
   ]
  },
  {
   "cell_type": "code",
   "execution_count": null,
   "metadata": {},
   "outputs": [],
   "source": [
    "data_lake_prd_314410_cz_hoteis = data_lake_prd_314410_cz_hoteis.dropna()"
   ]
  },
  {
   "cell_type": "code",
   "execution_count": null,
   "metadata": {},
   "outputs": [],
   "source": [
    "data_lake_prd_314410_cz_hoteis # if wanting to convert it all to dollars"
   ]
  },
  {
   "cell_type": "code",
   "execution_count": null,
   "metadata": {},
   "outputs": [],
   "source": [
    "combined_df"
   ]
  },
  {
   "cell_type": "code",
   "execution_count": null,
   "metadata": {},
   "outputs": [],
   "source": [
    "# Perform a left join on 'Hotel_ID'\n",
    "combined_df = pd.merge(combined_df, data_lake_prd_314410_cz_hoteis, on='Hotel_ID', how='left')"
   ]
  },
  {
   "cell_type": "code",
   "execution_count": null,
   "metadata": {},
   "outputs": [],
   "source": [
    "combined_df"
   ]
  },
  {
   "cell_type": "code",
   "execution_count": null,
   "metadata": {},
   "outputs": [],
   "source": [
    "combined_df.isna().sum()"
   ]
  },
  {
   "cell_type": "code",
   "execution_count": null,
   "metadata": {},
   "outputs": [],
   "source": [
    "combined_df = combined_df.dropna()"
   ]
  },
  {
   "cell_type": "code",
   "execution_count": null,
   "metadata": {},
   "outputs": [],
   "source": [
    "combined_df"
   ]
  },
  {
   "cell_type": "code",
   "execution_count": null,
   "metadata": {},
   "outputs": [],
   "source": [
    "# Select distinct \"Cidade_ID\" and \"Moeda\"\n",
    "distinct_cidade_moeda = combined_df[['Cidade_ID', 'Moeda']].drop_duplicates()\n",
    "\n",
    "# Count distinct \"Moeda\" for each \"Cidade_ID\"\n",
    "cidade_moeda_count = distinct_cidade_moeda.groupby('Cidade_ID').size().reset_index(name='n')\n",
    "\n",
    "# Sort by the count of distinct \"Moeda\"\n",
    "cidade_moeda_count_sorted = cidade_moeda_count.sort_values(by='n', ascending=False)\n",
    "\n",
    "# Display the result\n",
    "print(cidade_moeda_count_sorted)"
   ]
  },
  {
   "cell_type": "code",
   "execution_count": null,
   "metadata": {},
   "outputs": [],
   "source": [
    "cidade_moeda_count_sorted.groupby('n').size().reset_index(name='nn')\n"
   ]
  },
  {
   "cell_type": "code",
   "execution_count": null,
   "metadata": {},
   "outputs": [],
   "source": [
    "cidade_moeda_2plus = cidade_moeda_count_sorted[cidade_moeda_count_sorted['n'] > 1]\n",
    "print(cidade_moeda_2plus)"
   ]
  },
  {
   "cell_type": "code",
   "execution_count": null,
   "metadata": {},
   "outputs": [],
   "source": [
    "combined_df"
   ]
  },
  {
   "cell_type": "code",
   "execution_count": null,
   "metadata": {},
   "outputs": [],
   "source": [
    "# Group by 'Cidade_ID' and calculate the mean of 'DiariaMedia'\n",
    "combined_df.groupby('Cidade_ID')['DiariaMedia'].mean()"
   ]
  },
  {
   "cell_type": "code",
   "execution_count": null,
   "metadata": {},
   "outputs": [],
   "source": [
    "# Calculate the weighted mean of \"DiariaMedia\" using \"Reservas\" as the weight\n",
    "combined_city_df = combined_df.groupby(['Data', 'Moeda', 'Cidade_ID', 'Estrelas']).apply(\n",
    "    lambda x: np.average(x['DiariaMedia'], weights=x['Reservas'])\n",
    ").reset_index(name='Weighted_DiariaMedia')"
   ]
  },
  {
   "cell_type": "code",
   "execution_count": null,
   "metadata": {},
   "outputs": [],
   "source": [
    "# Display the result\n",
    "combined_city_df.groupby('Cidade_ID')['Weighted_DiariaMedia'].mean()"
   ]
  },
  {
   "cell_type": "code",
   "execution_count": null,
   "metadata": {},
   "outputs": [],
   "source": [
    "\n",
    "combined_df[combined_df['Cidade_ID']==7562201.0].groupby(['Cidade_ID', 'Moeda', 'Estrelas']).apply(\n",
    "    lambda x: np.average(x['DiariaMedia'])\n",
    "    )"
   ]
  },
  {
   "cell_type": "code",
   "execution_count": null,
   "metadata": {},
   "outputs": [],
   "source": [
    "\n",
    "combined_city_df[combined_city_df['Cidade_ID']==7562201.0].groupby(['Cidade_ID', 'Moeda', 'Estrelas']).apply(\n",
    "    lambda x: np.average(x['Weighted_DiariaMedia'])\n",
    "    )"
   ]
  },
  {
   "cell_type": "code",
   "execution_count": null,
   "metadata": {},
   "outputs": [],
   "source": [
    "combined_city_df"
   ]
  },
  {
   "cell_type": "code",
   "execution_count": null,
   "metadata": {},
   "outputs": [],
   "source": [
    "# sort by 'Cidade_ID' and 'Data'\n",
    "combined_city_df = combined_city_df.sort_values(by=['Cidade_ID', 'Estrelas', 'Moeda', 'Data'])"
   ]
  },
  {
   "cell_type": "code",
   "execution_count": null,
   "metadata": {},
   "outputs": [],
   "source": [
    "combined_city_df"
   ]
  },
  {
   "cell_type": "code",
   "execution_count": null,
   "metadata": {},
   "outputs": [],
   "source": [
    "combined_city_df['Data'] = pd.to_datetime(combined_city_df['Data']).dt.tz_localize(None)\n",
    "combined_city_df.head"
   ]
  },
  {
   "cell_type": "code",
   "execution_count": null,
   "metadata": {},
   "outputs": [],
   "source": [
    "# Filter for data in 2024\n",
    "cities_2024 = combined_city_df[combined_city_df['Data'].dt.year == 2024]['Cidade_ID'].unique()\n",
    "\n",
    "# Filter the original combined_df to keep only cities that appeared in 2024\n",
    "combined_city_df = combined_city_df[combined_city_df['Cidade_ID'].isin(cities_2024)]\n",
    "\n",
    "# Display the filtered DataFrame\n",
    "combined_city_df"
   ]
  },
  {
   "cell_type": "code",
   "execution_count": null,
   "metadata": {},
   "outputs": [],
   "source": [
    "combined_city_df.shape"
   ]
  },
  {
   "cell_type": "code",
   "execution_count": null,
   "metadata": {},
   "outputs": [],
   "source": [
    "combined_city_df = combined_city_df.loc[:, ['Data',  'Cidade_ID', 'Moeda', 'Estrelas', 'Weighted_DiariaMedia']]\n",
    "\n",
    "combined_city_df.rename(columns={'Data': 'ds', 'Cidade_ID': 'city_id', 'Weighted_DiariaMedia': 'y', 'Moeda':'currency', 'Estrelas':'stars'}, inplace=True)\n",
    "\n",
    "combined_city_df = combined_city_df.loc[:, ['city_id',  'ds', 'y', 'currency', 'stars']]"
   ]
  },
  {
   "cell_type": "code",
   "execution_count": null,
   "metadata": {},
   "outputs": [],
   "source": [
    "combined_city_df = combined_city_df.groupby(['city_id', 'ds', 'stars', 'currency']).agg({'y': 'mean'}).reset_index()\n",
    "combined_city_df.shape"
   ]
  },
  {
   "cell_type": "code",
   "execution_count": null,
   "metadata": {},
   "outputs": [],
   "source": [
    "combined_city_df"
   ]
  },
  {
   "cell_type": "code",
   "execution_count": null,
   "metadata": {},
   "outputs": [],
   "source": [
    "print(combined_city_df['ds'].min())\n",
    "print(combined_city_df['ds'].max())"
   ]
  },
  {
   "cell_type": "code",
   "execution_count": null,
   "metadata": {},
   "outputs": [],
   "source": [
    "combined_city_df['city_stars_currency'] = combined_city_df['city_id'].astype(int).astype(str) + '__' + combined_city_df['stars'].astype(int).astype(str) + '__' + combined_city_df['currency']"
   ]
  },
  {
   "cell_type": "code",
   "execution_count": null,
   "metadata": {},
   "outputs": [],
   "source": [
    "combined_city_df"
   ]
  },
  {
   "cell_type": "code",
   "execution_count": null,
   "metadata": {},
   "outputs": [],
   "source": [
    "# Group by 'city_stars_currency' and count the number of rows for each city star currency\n",
    "city_stars_currencies_counts = combined_city_df.groupby('city_stars_currency').size()\n",
    "\n",
    "# Filter for city stars currencies that have more than 183 rows/dates\n",
    "city_stars_currencies_with_more_than_183_rows = city_stars_currencies_counts[city_stars_currencies_counts > 183].index\n",
    "\n",
    "# Filter the original table for these hotels\n",
    "filtered_combined_city_df = combined_city_df[combined_city_df['city_stars_currency'].isin(city_stars_currencies_with_more_than_183_rows)]\n",
    "\n",
    "# Display the filtered DataFrame\n",
    "filtered_combined_city_df"
   ]
  },
  {
   "cell_type": "code",
   "execution_count": null,
   "metadata": {},
   "outputs": [],
   "source": [
    "print(combined_city_df.shape)\n",
    "print(filtered_combined_city_df.shape)"
   ]
  },
  {
   "cell_type": "code",
   "execution_count": null,
   "metadata": {},
   "outputs": [],
   "source": [
    "city_stars_currency_list = filtered_combined_city_df['city_stars_currency'].drop_duplicates()\n",
    "print(city_stars_currency_list.shape)"
   ]
  },
  {
   "cell_type": "code",
   "execution_count": null,
   "metadata": {},
   "outputs": [],
   "source": [
    "city_stars_currency_list = city_stars_currency_list.tolist()"
   ]
  },
  {
   "cell_type": "code",
   "execution_count": null,
   "metadata": {},
   "outputs": [],
   "source": [
    "filtered_combined_city_df"
   ]
  },
  {
   "cell_type": "code",
   "execution_count": null,
   "metadata": {},
   "outputs": [],
   "source": [
    "# Process all hotels without chunking\n",
    "all_forecasts = pd.DataFrame()\n",
    "\n",
    "for city_stars_currency in city_stars_currency_list:\n",
    "    print(f\"Processing forecast for City/Stars/Currency {city_stars_currency}...\")\n",
    "    \n",
    "    # Load data for the specific hotel\n",
    "    city_stars_currency_data = filtered_combined_city_df[filtered_combined_city_df['city_stars_currency'] == city_stars_currency]\n",
    "    \n",
    "    # Fit the model\n",
    "    model = Prophet()\n",
    "    model.fit(city_stars_currency_data)\n",
    "    \n",
    "    # Create future dataframe for predictions\n",
    "    future = model.make_future_dataframe(periods=365)  # Forecast 1 year ahead\n",
    "    \n",
    "    # Make predictions\n",
    "    forecast = model.predict(future)\n",
    "    \n",
    "    # Add hotel name for identification\n",
    "    forecast[\"city_stars_currency\"] = city_stars_currency\n",
    "    \n",
    "    # Mark historical vs. forecasted data\n",
    "    forecast[\"data_type\"] = [\"historical\" if date <= city_stars_currency_data[\"ds\"].max() else \"forecast\" for date in forecast[\"ds\"]]\n",
    "    \n",
    "    # Append to the main DataFrame\n",
    "    all_forecasts = pd.concat([all_forecasts, forecast], ignore_index=True)\n",
    "\n",
    "# Save the results to a CSV file\n",
    "all_forecasts.to_csv(\"../out/city_stars_currency_forecasts_From2021_to_Jan2025onwards.csv\", index=False)\n",
    "print(\"Forecasting complete. Results saved as 'city_stars_currency_forecasts_From2021_to_Jan2025onwards.csv'.\")"
   ]
  },
  {
   "cell_type": "code",
   "execution_count": null,
   "metadata": {},
   "outputs": [],
   "source": [
    "all_forecasts"
   ]
  },
  {
   "cell_type": "code",
   "execution_count": null,
   "metadata": {},
   "outputs": [],
   "source": [
    "all_forecasts['data_type'].unique()"
   ]
  },
  {
   "cell_type": "code",
   "execution_count": null,
   "metadata": {},
   "outputs": [],
   "source": [
    "city_stars_currency_forecasts_From2021_to_Jan2025onwards = pd.read_csv(\"../out/city_stars_currency_forecasts_From2021_to_Jan2025onwards.csv\")"
   ]
  },
  {
   "cell_type": "code",
   "execution_count": null,
   "metadata": {},
   "outputs": [],
   "source": [
    "combined_df['Data'] = pd.to_datetime(combined_df['Data']).dt.tz_localize(None)\n"
   ]
  },
  {
   "cell_type": "code",
   "execution_count": null,
   "metadata": {},
   "outputs": [],
   "source": [
    "filtered_combined_city_df\n",
    "city_stars_currency_forecasts_From2021_to_Jan2025onwards"
   ]
  },
  {
   "cell_type": "code",
   "execution_count": null,
   "metadata": {},
   "outputs": [],
   "source": [
    "city_stars_currency_list = city_stars_currency_forecasts_From2021_to_Jan2025onwards['city_stars_currency'].drop_duplicates()"
   ]
  },
  {
   "cell_type": "code",
   "execution_count": null,
   "metadata": {},
   "outputs": [],
   "source": [
    "filtered_combined_city_df[\"ds\"] = pd.to_datetime(filtered_combined_city_df[\"ds\"])\n",
    "city_stars_currency_forecasts_From2021_to_Jan2025onwards[\"ds\"] = pd.to_datetime(city_stars_currency_forecasts_From2021_to_Jan2025onwards[\"ds\"])"
   ]
  },
  {
   "cell_type": "code",
   "execution_count": null,
   "metadata": {},
   "outputs": [],
   "source": [
    "filtered_combined_city_df = filtered_combined_city_df[filtered_combined_city_df['city_stars_currency'].isin(city_stars_currency_list)]\n",
    "city_stars_currency_forecasts_From2021_to_Jan2025onwards = city_stars_currency_forecasts_From2021_to_Jan2025onwards[city_stars_currency_forecasts_From2021_to_Jan2025onwards['city_stars_currency'].isin(city_stars_currency_list)]\n"
   ]
  },
  {
   "cell_type": "code",
   "execution_count": null,
   "metadata": {},
   "outputs": [],
   "source": [
    "filtered_combined_city_df"
   ]
  },
  {
   "cell_type": "code",
   "execution_count": null,
   "metadata": {},
   "outputs": [],
   "source": [
    "from sklearn.metrics import mean_absolute_error, mean_squared_error\n",
    "import numpy as np\n",
    "import pandas as pd\n",
    "\n",
    "# Initialize a list to store results\n",
    "error_metrics = []\n",
    "\n",
    "# Loop through each city_currency\n",
    "for city_stars_currency in city_stars_currency_list:\n",
    "    hotel_forecast = city_stars_currency_forecasts_From2021_to_Jan2025onwards[city_stars_currency_forecasts_From2021_to_Jan2025onwards[\"city_stars_currency\"] == city_stars_currency]\n",
    "    historical_data = filtered_combined_city_df[filtered_combined_city_df[\"city_stars_currency\"] == city_stars_currency]\n",
    "\n",
    "    # Merge on the date column\n",
    "    comparison = historical_data.merge(hotel_forecast, on=\"ds\", how=\"inner\")\n",
    "\n",
    "    # Skip if no matching dates found\n",
    "    if comparison.empty:\n",
    "        print(f\"Skipping hotel {city_stars_currency}: No matching dates found.\")\n",
    "        continue  \n",
    "\n",
    "    # Compute error metrics\n",
    "    mae = mean_absolute_error(comparison[\"y\"], comparison[\"yhat\"])\n",
    "    rmse = np.sqrt(mean_squared_error(comparison[\"y\"], comparison[\"yhat\"]))\n",
    "    mape = np.mean(np.abs((comparison[\"y\"] - comparison[\"yhat\"]) / comparison[\"y\"])) * 100\n",
    "\n",
    "    # Append results\n",
    "    error_metrics.append({\"city_currency\": city_stars_currency, \"MAE\": mae, \"RMSE\": rmse, \"MAPE\": mape})\n",
    "\n",
    "\n",
    "# Convert results to a DataFrame\n",
    "error_df = pd.DataFrame(error_metrics)\n",
    "\n",
    "# Display the error metrics table\n",
    "print(error_df)\n",
    "\n",
    "# Save to CSV for further analysis\n",
    "error_df.to_csv(\"../out/city_stars_currency_error_metrics_From2021_to_Jan2025onwards.csv\", index=False)\n",
    "\n",
    "print(\"Error metrics saved to 'city_stars_currency_error_metrics_From2021_to_Jan2025onwards.csv'.\")\n"
   ]
  },
  {
   "cell_type": "code",
   "execution_count": null,
   "metadata": {},
   "outputs": [],
   "source": [
    "error_df"
   ]
  },
  {
   "cell_type": "code",
   "execution_count": null,
   "metadata": {},
   "outputs": [],
   "source": [
    "error_df = error_df[ (error_df['MAPE'] < 100) & (error_df['MAPE'] > 0) ]"
   ]
  },
  {
   "cell_type": "code",
   "execution_count": null,
   "metadata": {},
   "outputs": [],
   "source": [
    "error_df"
   ]
  },
  {
   "cell_type": "code",
   "execution_count": null,
   "metadata": {},
   "outputs": [],
   "source": [
    "error_df['MAPE'].describe()"
   ]
  },
  {
   "cell_type": "code",
   "execution_count": null,
   "metadata": {},
   "outputs": [],
   "source": [
    "# Remove rows where MAPE is infinite\n",
    "error_df = error_df.replace([np.inf, -np.inf], np.nan).dropna(subset=[\"MAPE\"])\n"
   ]
  },
  {
   "cell_type": "code",
   "execution_count": null,
   "metadata": {},
   "outputs": [],
   "source": [
    "error_df['MAPE'].describe()"
   ]
  },
  {
   "cell_type": "code",
   "execution_count": null,
   "metadata": {},
   "outputs": [],
   "source": [
    "import matplotlib.pyplot as plt\n",
    "import seaborn as sns\n",
    "\n",
    "# Create a histogram of the \"MAPE\" variable\n",
    "plt.figure(figsize=(8, 6))\n",
    "sns.histplot(data=error_df[ (error_df['MAPE']<100) & (error_df['MAPE']>0) ], x=\"MAPE\", bins=100, kde=True)\n",
    "\n",
    "# Add labels and title\n",
    "plt.xlabel(\"\\n MAPE\")\n",
    "plt.ylabel(\"Frequency \\n\")\n",
    "plt.title(\"Histogram of Mean Absolute Percent Error [MAPE]\")\n",
    "\n",
    "# Show the plot\n",
    "plt.show()\n"
   ]
  },
  {
   "cell_type": "code",
   "execution_count": null,
   "metadata": {},
   "outputs": [],
   "source": [
    "# Ensure 'ds' columns are in datetime format\n",
    "filtered_combined_city_df[\"ds\"] = pd.to_datetime(filtered_combined_city_df[\"ds\"])\n",
    "city_stars_currency_forecasts_From2021_to_Jan2025onwards[\"ds\"] = pd.to_datetime(city_stars_currency_forecasts_From2021_to_Jan2025onwards[\"ds\"])\n",
    "\n",
    "# Merge both tables on 'city_currency' and 'ds'\n",
    "comparison = filtered_combined_city_df.merge(\n",
    "    city_stars_currency_forecasts_From2021_to_Jan2025onwards, \n",
    "    on=[\"city_stars_currency\", \"ds\"], \n",
    "    how=\"inner\"\n",
    ")"
   ]
  },
  {
   "cell_type": "code",
   "execution_count": null,
   "metadata": {},
   "outputs": [],
   "source": [
    "error_df"
   ]
  },
  {
   "cell_type": "code",
   "execution_count": null,
   "metadata": {},
   "outputs": [],
   "source": [
    "city_stars_currency_to_keep_error = error_df['city_currency'].drop_duplicates()"
   ]
  },
  {
   "cell_type": "code",
   "execution_count": null,
   "metadata": {},
   "outputs": [],
   "source": [
    "city_stars_currency_to_keep_error"
   ]
  },
  {
   "cell_type": "code",
   "execution_count": null,
   "metadata": {},
   "outputs": [],
   "source": [
    "comparison.shape"
   ]
  },
  {
   "cell_type": "code",
   "execution_count": null,
   "metadata": {},
   "outputs": [],
   "source": [
    "comparison = comparison[comparison['city_stars_currency'].isin(city_stars_currency_to_keep_error)]\n"
   ]
  },
  {
   "cell_type": "code",
   "execution_count": null,
   "metadata": {},
   "outputs": [],
   "source": [
    "city_stars_currency_list = comparison.groupby('city_stars_currency').size().sort_values(ascending=False).sample(50).index.tolist()"
   ]
  },
  {
   "cell_type": "code",
   "execution_count": null,
   "metadata": {},
   "outputs": [],
   "source": [
    "city_stars_currency_list"
   ]
  },
  {
   "cell_type": "code",
   "execution_count": null,
   "metadata": {},
   "outputs": [],
   "source": [
    "\n",
    "# Set the seaborn theme\n",
    "sns.set_theme()\n",
    "\n",
    "# Define figure size based on the number of hotels\n",
    "fig, axes = plt.subplots(len(city_stars_currency_list), 1, figsize=(12, 6 * len(city_stars_currency_list)), sharex=True)\n",
    "\n",
    "# If there's only one hotel, `axes` won't be an iterable, so wrap it in a list\n",
    "if len(city_stars_currency_list) == 1:\n",
    "    axes = [axes]\n",
    "\n",
    "# Define colors for historical and forecasted data\n",
    "colors = {\"historical\": \"#E195AB\", \"forecast\": \"#27445D\"}\n",
    "\n",
    "# Loop through each city_currency and create a separate plot\n",
    "for i, city_stars_currency in enumerate(city_stars_currency_list):\n",
    "    # Filter data for this city_currency\n",
    "    city_stars_currency_forecast = comparison[comparison[\"city_stars_currency\"] == city_stars_currency]\n",
    "\n",
    "    # Plot historical data\n",
    "    sns.lineplot(ax=axes[i], \n",
    "                 data=city_stars_currency_forecast, \n",
    "                 x=\"ds\", y=\"y\", label=\"Historical\", color=colors[\"historical\"])\n",
    "\n",
    "    # Plot forecasted data\n",
    "    sns.lineplot(ax=axes[i], \n",
    "                 data=city_stars_currency_forecast, \n",
    "                 x=\"ds\", y=\"yhat\", label=\"Forecast\", color=colors[\"forecast\"], linestyle=\"dashed\")\n",
    "\n",
    "    # Formatting for each subplot\n",
    "    axes[i].set_title(f\"City|Stars|Currency {city_stars_currency} Forecast\")\n",
    "    axes[i].set_xlabel(\"Date\")\n",
    "    axes[i].set_ylabel(\"Prices [Local Currency]\")\n",
    "    axes[i].legend()\n",
    "    axes[i].grid(True)\n",
    "\n",
    "     # Ensure the y-axis starts at zero\n",
    "    axes[i].set_ylim(0, city_stars_currency_forecast[[\"y\", \"yhat\"]].max().max())\n",
    "\n",
    "\n",
    "# Adjust layout to prevent overlap\n",
    "plt.tight_layout()\n",
    "\n",
    "# Show plots\n",
    "plt.show()\n",
    "\n"
   ]
  },
  {
   "cell_type": "code",
   "execution_count": null,
   "metadata": {},
   "outputs": [],
   "source": []
  },
  {
   "cell_type": "code",
   "execution_count": null,
   "metadata": {},
   "outputs": [],
   "source": [
    "city_stars_currency_forecasts_From2021_to_Jan2025onwards['city_stars_currency'].nunique()"
   ]
  },
  {
   "cell_type": "code",
   "execution_count": null,
   "metadata": {},
   "outputs": [],
   "source": [
    "\n",
    "filtered_combined_city_df = filtered_combined_city_df[filtered_combined_city_df['city_stars_currency'].isin(city_stars_currency_to_keep_error)]\n",
    "\n",
    "city_stars_currency_forecasts_From2021_to_Jan2025onwards = city_stars_currency_forecasts_From2021_to_Jan2025onwards[city_stars_currency_forecasts_From2021_to_Jan2025onwards['city_stars_currency'].isin(city_stars_currency_to_keep_error)]\n",
    "\n"
   ]
  },
  {
   "cell_type": "code",
   "execution_count": null,
   "metadata": {},
   "outputs": [],
   "source": [
    "combined_df_hist = filtered_combined_city_df[filtered_combined_city_df['city_stars_currency']==\"6978686__3__BRL\"]\n",
    "all_citiy_stars_currencies_forecasts_From2021_to_Jan2025onwards_future = city_stars_currency_forecasts_From2021_to_Jan2025onwards[city_stars_currency_forecasts_From2021_to_Jan2025onwards['city_stars_currency']==\"6978686__3__BRL\"]"
   ]
  },
  {
   "cell_type": "code",
   "execution_count": null,
   "metadata": {},
   "outputs": [],
   "source": [
    "all_citiy_stars_currencies_forecasts_From2021_to_Jan2025onwards_future"
   ]
  },
  {
   "cell_type": "code",
   "execution_count": null,
   "metadata": {},
   "outputs": [],
   "source": [
    "import matplotlib.pyplot as plt\n",
    "import matplotlib.dates as mdates\n",
    "import seaborn as sns\n",
    "\n",
    "# Set the seaborn theme\n",
    "sns.set_theme()\n",
    "\n",
    "# Plot observed data and predictions with different colors\n",
    "plt.figure(figsize=(16, 8))\n",
    "plt.plot(combined_df_hist['ds'], combined_df_hist['y'], label=\"Observed Data\", color=\"#E195AB\", alpha=0.8)\n",
    "plt.plot(all_citiy_stars_currencies_forecasts_From2021_to_Jan2025onwards_future['ds'], all_citiy_stars_currencies_forecasts_From2021_to_Jan2025onwards_future['yhat'], label=\"Predicted Data\", color=\"#27445D\", alpha=0.6)\n",
    "\n",
    "# Add confidence intervals for predictions\n",
    "plt.fill_between(\n",
    "    all_citiy_stars_currencies_forecasts_From2021_to_Jan2025onwards_future['ds'], all_citiy_stars_currencies_forecasts_From2021_to_Jan2025onwards_future['yhat_lower'], all_citiy_stars_currencies_forecasts_From2021_to_Jan2025onwards_future['yhat_upper'], color=\"#27445D\", alpha=0.2, label=\"Uncertainty Interval\"\n",
    ")\n",
    "\n",
    "# Customize x-axis for better readability\n",
    "plt.gca().xaxis.set_major_locator(mdates.MonthLocator(interval=1))  # Set ticks every 3 months\n",
    "plt.gca().xaxis.set_major_formatter(mdates.DateFormatter('%Y-%m'))  # Format as Year-Month\n",
    "plt.gcf().autofmt_xdate(rotation=90)  # Rotate x-axis labels vertically\n",
    "\n",
    "# Customize the plot\n",
    "plt.title(f\"City Stars Currency Data Forecast - City ID + Hotel Stars + Currency {combined_df_hist['city_stars_currency'].unique()}\", fontsize=16)\n",
    "plt.xlabel(\"\\n Exact Date\", fontsize=14)\n",
    "plt.ylabel(\"Average Daily Price (Local Currency) \\n\", fontsize=14)\n",
    "plt.legend(fontsize=12)\n",
    "plt.grid(True, linestyle=\"--\", alpha=0.6)\n",
    "\n",
    "\n",
    "# Save the plot before showing\n",
    "plt.savefig(f\"../out/figures/city_stars_currency_forecast_{combined_df_hist['city_stars_currency'].unique()}.png\", dpi=300, bbox_inches=\"tight\")\n",
    "\n",
    "# Show the plot\n",
    "plt.tight_layout()\n",
    "plt.show()\n"
   ]
  },
  {
   "cell_type": "code",
   "execution_count": null,
   "metadata": {},
   "outputs": [],
   "source": [
    "\n",
    "filtered_combined_city_df.to_csv(\"../out/all_city_stars_currency_historic_From2021_to_Jan2025_final_selected_final_selected.csv\", index=False)\n",
    "city_stars_currency_forecasts_From2021_to_Jan2025onwards.to_csv(\"../out/city_stars_currency_forecasts_From2021_to_Jan2025onwards_final_selected.csv\", index=False)\n",
    "\n"
   ]
  },
  {
   "cell_type": "code",
   "execution_count": null,
   "metadata": {},
   "outputs": [],
   "source": [
    "filtered_combined_city_df\n"
   ]
  },
  {
   "cell_type": "code",
   "execution_count": null,
   "metadata": {},
   "outputs": [],
   "source": [
    "# Set the seaborn theme\n",
    "sns.set_theme()\n",
    "\n",
    "# Get unique city_currency IDs\n",
    "city_stars_currency_to_keep_error\n",
    "\n",
    "# Loop through each city_currency_ids\n",
    "for city_stars_currency in city_stars_currency_to_keep_error:\n",
    "    # Filter data for the current city_stars_currency_ids\n",
    "    city_currency_hist = filtered_combined_city_df[filtered_combined_city_df[\"city_stars_currency\"] == city_stars_currency]\n",
    "    city_currency_forecast = city_stars_currency_forecasts_From2021_to_Jan2025onwards[\n",
    "        city_stars_currency_forecasts_From2021_to_Jan2025onwards[\"city_stars_currency\"] == city_stars_currency\n",
    "    ]\n",
    "\n",
    "    # Create a new figure\n",
    "    plt.figure(figsize=(16, 8))\n",
    "    \n",
    "    # Plot observed data\n",
    "    plt.plot(city_currency_hist[\"ds\"], city_currency_hist[\"y\"], label=\"Observed Data\", color=\"#E195AB\", alpha=0.8)\n",
    "    \n",
    "    # Plot predicted data\n",
    "    plt.plot(city_currency_forecast[\"ds\"], city_currency_forecast[\"yhat\"], label=\"Predicted Data\", color=\"#27445D\", alpha=0.6)\n",
    "    \n",
    "    # Add confidence intervals for predictions\n",
    "    plt.fill_between(\n",
    "        city_currency_forecast[\"ds\"], \n",
    "        city_currency_forecast[\"yhat_lower\"], \n",
    "        city_currency_forecast[\"yhat_upper\"], \n",
    "        color=\"#27445D\", alpha=0.2, label=\"Uncertainty Interval\"\n",
    "    )\n",
    "\n",
    "    # Customize x-axis\n",
    "    plt.gca().xaxis.set_major_locator(mdates.MonthLocator(interval=1))  \n",
    "    plt.gca().xaxis.set_major_formatter(mdates.DateFormatter('%Y-%m'))  \n",
    "    plt.gcf().autofmt_xdate(rotation=90)  \n",
    "\n",
    "    # Customize the plot\n",
    "    plt.title(f\"City Stars Currency Data Forecast - City ID + Hotel Stars + Currency {city_stars_currency}\", fontsize=16)\n",
    "    plt.xlabel(\"\\n Exact Date\", fontsize=14)\n",
    "    plt.ylabel(\"Average Daily Price (Local Currency) \\n\", fontsize=14)\n",
    "    plt.legend(fontsize=12)\n",
    "    plt.grid(True, linestyle=\"--\", alpha=0.6)\n",
    "\n",
    "    # Save the plot with hotel_id in the filename\n",
    "    plt.savefig(f\"../out/figures/png/city_stars_currency_forecast_{city_stars_currency}.png\", dpi=300, bbox_inches=\"tight\")\n",
    "    \n",
    "    # Close the plot to free memory before the next iteration\n",
    "    plt.close()\n",
    "\n",
    "print(\"All plots saved successfully!\")"
   ]
  },
  {
   "cell_type": "code",
   "execution_count": null,
   "metadata": {},
   "outputs": [],
   "source": [
    "# Set the seaborn theme\n",
    "sns.set_theme()\n",
    "\n",
    "# Get unique city_currency IDs\n",
    "city_stars_currency_to_keep_error\n",
    "\n",
    "# Create a single PDF to store all plots\n",
    "with PdfPages(\"../out/figures/pdf/city_stars_currency_forecasts_prophet_365_2025.pdf\") as pdf:\n",
    "    for city_stars_currency in city_stars_currency_to_keep_error:\n",
    "        # Filter data for the current hotel\n",
    "        city_currency_hist = filtered_combined_city_df[filtered_combined_city_df[\"city_stars_currency\"] == city_stars_currency]\n",
    "        city_currency_forecast = city_stars_currency_forecasts_From2021_to_Jan2025onwards[\n",
    "            city_stars_currency_forecasts_From2021_to_Jan2025onwards[\"city_stars_currency\"] == city_stars_currency\n",
    "        ]\n",
    "\n",
    "        # Create a new figure\n",
    "        plt.figure(figsize=(16, 8))\n",
    "\n",
    "        # Plot observed data\n",
    "        plt.plot(city_currency_hist[\"ds\"], city_currency_hist[\"y\"], label=\"Observed Data\", color=\"#E195AB\", alpha=0.8)\n",
    "\n",
    "        # Plot predicted data\n",
    "        plt.plot(city_currency_forecast[\"ds\"], city_currency_forecast[\"yhat\"], label=\"Predicted Data\", color=\"#27445D\", alpha=0.6)\n",
    "\n",
    "        # Add confidence intervals for predictions\n",
    "        plt.fill_between(\n",
    "            city_currency_forecast[\"ds\"], \n",
    "            city_currency_forecast[\"yhat_lower\"], \n",
    "            city_currency_forecast[\"yhat_upper\"], \n",
    "            color=\"#27445D\", alpha=0.2, label=\"Uncertainty Interval\"\n",
    "        )\n",
    "\n",
    "        # Customize x-axis\n",
    "        plt.gca().xaxis.set_major_locator(mdates.MonthLocator(interval=1))  \n",
    "        plt.gca().xaxis.set_major_formatter(mdates.DateFormatter('%Y-%m'))  \n",
    "        plt.gcf().autofmt_xdate(rotation=90)  \n",
    "\n",
    "        # Customize the plot\n",
    "        plt.title(f\"City Data Forecast - City ID + Hotel Stars + Currency {city_stars_currency}\", fontsize=16)\n",
    "        plt.xlabel(\"\\n Exact Date\", fontsize=14)\n",
    "        plt.ylabel(\"Average Daily Price (Local Currency) \\n\", fontsize=14)\n",
    "        plt.legend(fontsize=12)\n",
    "        plt.grid(True, linestyle=\"--\", alpha=0.6)\n",
    "\n",
    "        # Save the current figure to the PDF\n",
    "        pdf.savefig()\n",
    "        plt.close()  # Close the figure to free memory\n",
    "\n",
    "print(\"All plots saved successfully in 'city_stars_currency_forecasts.pdf'!\")"
   ]
  },
  {
   "cell_type": "code",
   "execution_count": null,
   "metadata": {},
   "outputs": [],
   "source": [
    "import plotly.graph_objects as go\n",
    "import pandas as pd\n",
    "\n",
    "# Get unique hotel IDs\n",
    "city_stars_currency_to_keep_error\n",
    "\n",
    "output_dir = \"../out/figures/html/\"\n",
    "\n",
    "\n",
    "for city_stars_currency in city_stars_currency_to_keep_error:\n",
    "    # Extract data for the current hotel\n",
    "    city_stars_currency_hist = filtered_combined_city_df[filtered_combined_city_df[\"city_stars_currency\"] == city_stars_currency]\n",
    "    city_stars_currency_forecast = city_stars_currency_forecasts_From2021_to_Jan2025onwards[\n",
    "        city_stars_currency_forecasts_From2021_to_Jan2025onwards[\"city_stars_currency\"] == city_stars_currency\n",
    "    ]\n",
    "\n",
    "    # Create interactive plot\n",
    "    fig = go.Figure()\n",
    "\n",
    "    # Add observed data\n",
    "    fig.add_trace(go.Scatter(\n",
    "        x=city_stars_currency_hist[\"ds\"],\n",
    "        y=city_stars_currency_hist[\"y\"],\n",
    "        mode=\"lines\",\n",
    "        name=\"Observed Data\",\n",
    "        line=dict(color=\"#E195AB\")\n",
    "    ))\n",
    "\n",
    "    # Add predicted data\n",
    "    fig.add_trace(go.Scatter(\n",
    "        x=city_stars_currency_forecast[\"ds\"],\n",
    "        y=city_stars_currency_forecast[\"yhat\"],\n",
    "        mode=\"lines\",\n",
    "        name=\"Predicted Data\",\n",
    "        line=dict(color=\"#27445D\", dash=\"dash\")\n",
    "    ))\n",
    "\n",
    "    # Add confidence interval\n",
    "    fig.add_trace(go.Scatter(\n",
    "        x=city_stars_currency_forecast[\"ds\"].tolist() + city_stars_currency_forecast[\"ds\"].tolist()[::-1],\n",
    "        y=city_stars_currency_forecast[\"yhat_upper\"].tolist() + city_stars_currency_forecast[\"yhat_lower\"].tolist()[::-1],\n",
    "        fill=\"toself\",\n",
    "        fillcolor=\"rgba(39,68,93,0.3)\",\n",
    "        line=dict(color=\"rgba(255,255,255,0)\"),\n",
    "        name=\"Uncertainty Interval\"\n",
    "    ))\n",
    "\n",
    "    # Customize layout\n",
    "    fig.update_layout(\n",
    "        title=f\"City Data Forecast - City ID + Hotel Stars + Currency {city_stars_currency}\",\n",
    "        xaxis_title=\"Exact Date\",\n",
    "        yaxis_title=\"Average Daily Price (Local Currency)\",\n",
    "        xaxis=dict(tickformat=\"%Y-%m\", tickangle=90),\n",
    "        template=\"plotly_white\"\n",
    "    )\n",
    "\n",
    "    # Save as HTML file\n",
    "    output_path = os.path.join(output_dir, f\"city_stars_currency_forecast_{city_stars_currency}.html\")\n",
    "    fig.write_html(output_path)\n",
    "\n",
    "print(\"All interactive plots saved successfully!\")\n"
   ]
  },
  {
   "cell_type": "code",
   "execution_count": null,
   "metadata": {},
   "outputs": [],
   "source": []
  }
 ],
 "metadata": {
  "kernelspec": {
   "display_name": "Python 3",
   "language": "python",
   "name": "python3"
  },
  "language_info": {
   "codemirror_mode": {
    "name": "ipython",
    "version": 3
   },
   "file_extension": ".py",
   "mimetype": "text/x-python",
   "name": "python",
   "nbconvert_exporter": "python",
   "pygments_lexer": "ipython3",
   "version": "3.10.6"
  }
 },
 "nbformat": 4,
 "nbformat_minor": 2
}
