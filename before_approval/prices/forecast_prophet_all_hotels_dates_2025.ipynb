{
 "cells": [
  {
   "cell_type": "code",
   "execution_count": null,
   "metadata": {},
   "outputs": [],
   "source": [
    "import pandas as pd\n",
    "import numpy as np  \n",
    "import os\n",
    "from prophet import Prophet\n",
    "import matplotlib.pyplot as plt\n",
    "import matplotlib.dates as mdates\n",
    "import seaborn as sns\n",
    "from matplotlib.backends.backend_pdf import PdfPages"
   ]
  },
  {
   "cell_type": "code",
   "execution_count": null,
   "metadata": {},
   "outputs": [],
   "source": [
    "# Get the current directory\n",
    "current_dir = os.getcwd()\n",
    "\n",
    "# Navigate one folder up\n",
    "parent_dir = os.path.dirname(current_dir)\n",
    "\n",
    "# Where the files are located\n",
    "data = \"data/other/From2021_to_Jan2025_PricesHotelsDates\"\n",
    "\n",
    "# Navigate down into the \"data\" folder\n",
    "data_dir = os.path.join(parent_dir, data)\n",
    "\n",
    "# Initialize an empty list to store DataFrames\n",
    "dataframes = []\n",
    "\n",
    "# Variable to track total rows\n",
    "total_rows = 0\n",
    "\n",
    "# Loop through all files in the \"data\" folder\n",
    "try:\n",
    "    for file_name in os.listdir(data_dir):\n",
    "        \n",
    "        if file_name.endswith('.csv'):  # Check if the file is a CSV\n",
    "            \n",
    "            file_path = os.path.join(data_dir, file_name)\n",
    "            \n",
    "            # Read the CSV file into a DataFrame\n",
    "            df = pd.read_csv(file_path)\n",
    "            dataframes.append(df)  # Append the DataFrame to the list\n",
    "            \n",
    "             # Print dimensions of the current file\n",
    "            print(f\"File: {file_name} | Dimensions: {df.shape}\")\n",
    "            \n",
    "            # Add the number of rows to the total count\n",
    "            total_rows += df.shape[0]\n",
    "\n",
    "    # Concatenate all DataFrames in the list by binding rows\n",
    "    combined_df = pd.concat(dataframes, ignore_index=True)\n",
    "\n",
    "    # Print dimensions of the combined DataFrame\n",
    "    print(f\"Combined DataFrame Dimensions: {combined_df.shape}\")\n",
    "\n",
    "    # Verify the sum of rows matches\n",
    "    if total_rows == combined_df.shape[0]:\n",
    "        print(\"Row count verification successful! Total rows match.\")\n",
    "    else:\n",
    "        print(\"Row count verification failed! Mismatch in row count.\")\n",
    "\n",
    "    print(combined_df.head())  # Display the first few rows of the combined DataFrame\n",
    "\n",
    "except FileNotFoundError:\n",
    "    print(f\"Folder '{data_dir}' not found.\")\n",
    "except Exception as e:\n",
    "    print(f\"An error occurred: {e}\")"
   ]
  },
  {
   "cell_type": "code",
   "execution_count": null,
   "metadata": {},
   "outputs": [],
   "source": [
    "combined_df.shape"
   ]
  },
  {
   "cell_type": "code",
   "execution_count": null,
   "metadata": {},
   "outputs": [],
   "source": [
    "del current_dir, data, data_dir, dataframes, df, file_name, file_path, parent_dir, total_rows"
   ]
  },
  {
   "cell_type": "code",
   "execution_count": null,
   "metadata": {},
   "outputs": [],
   "source": [
    "data_lake_prd_314410_cz_moedas = pd.read_csv('..\\\\data\\\\lookups\\\\data-lake-prd-314410.cz.moedas.csv')\n",
    "data_lake_prd_314410_cz_moedas.head"
   ]
  },
  {
   "cell_type": "code",
   "execution_count": null,
   "metadata": {},
   "outputs": [],
   "source": [
    "data_lake_prd_314410_cz_hoteis = pd.read_csv('..\\\\data\\\\lookups\\\\data-lake-prd-314410.cz.hoteis.csv')\n",
    "data_lake_prd_314410_cz_hoteis.head"
   ]
  },
  {
   "cell_type": "code",
   "execution_count": null,
   "metadata": {},
   "outputs": [],
   "source": [
    "data_lake_prd_314410_cz_hoteis = data_lake_prd_314410_cz_hoteis[['Hotel_ID', 'Moeda']]"
   ]
  },
  {
   "cell_type": "code",
   "execution_count": null,
   "metadata": {},
   "outputs": [],
   "source": [
    "data_lake_prd_314410_cz_hoteis = pd.merge(data_lake_prd_314410_cz_hoteis, \n",
    "                     data_lake_prd_314410_cz_moedas[['Moeda', 'Cotacao_USD']], \n",
    "                     on='Moeda', \n",
    "                     how='left')"
   ]
  },
  {
   "cell_type": "code",
   "execution_count": null,
   "metadata": {},
   "outputs": [],
   "source": [
    "data_lake_prd_314410_cz_hoteis = data_lake_prd_314410_cz_hoteis.dropna()"
   ]
  },
  {
   "cell_type": "code",
   "execution_count": null,
   "metadata": {},
   "outputs": [],
   "source": [
    "data_lake_prd_314410_cz_hoteis # if wanting to convert it all to dollars"
   ]
  },
  {
   "cell_type": "code",
   "execution_count": null,
   "metadata": {},
   "outputs": [],
   "source": [
    "combined_df"
   ]
  },
  {
   "cell_type": "code",
   "execution_count": null,
   "metadata": {},
   "outputs": [],
   "source": [
    "combined_df['Data'] = pd.to_datetime(combined_df['Data']).dt.tz_localize(None)\n",
    "combined_df.head"
   ]
  },
  {
   "cell_type": "code",
   "execution_count": null,
   "metadata": {},
   "outputs": [],
   "source": [
    "# Filter for data in 2024\n",
    "hotels_2024 = combined_df[combined_df['Data'].dt.year == 2024]['Hotel_ID'].unique()\n",
    "\n",
    "# Filter the original combined_df to keep only hotels that appeared in 2024\n",
    "combined_df = combined_df[combined_df['Hotel_ID'].isin(hotels_2024)]\n",
    "\n",
    "# Display the filtered DataFrame\n",
    "combined_df"
   ]
  },
  {
   "cell_type": "code",
   "execution_count": null,
   "metadata": {},
   "outputs": [],
   "source": [
    "hotels_2024.shape"
   ]
  },
  {
   "cell_type": "code",
   "execution_count": null,
   "metadata": {},
   "outputs": [],
   "source": [
    "combined_df = combined_df.loc[:, ['Data',  'Hotel_ID', 'DiariaMedia']]\n",
    "\n",
    "combined_df.rename(columns={'Data': 'ds', 'Hotel_ID': 'hotel_id', 'DiariaMedia': 'y'}, inplace=True)\n",
    "\n",
    "combined_df = combined_df.loc[:, ['hotel_id',  'ds', 'y']]"
   ]
  },
  {
   "cell_type": "code",
   "execution_count": null,
   "metadata": {},
   "outputs": [],
   "source": [
    "combined_df = combined_df.groupby(['hotel_id', 'ds']).agg({'y': 'mean'}).reset_index()\n",
    "combined_df.shape"
   ]
  },
  {
   "cell_type": "code",
   "execution_count": null,
   "metadata": {},
   "outputs": [],
   "source": [
    "print(combined_df['ds'].min())\n",
    "print(combined_df['ds'].max())"
   ]
  },
  {
   "cell_type": "code",
   "execution_count": null,
   "metadata": {},
   "outputs": [],
   "source": [
    "combined_df"
   ]
  },
  {
   "cell_type": "code",
   "execution_count": null,
   "metadata": {},
   "outputs": [],
   "source": [
    "# Group by 'hotel_id' and count the number of rows for each hotel\n",
    "hotel_counts = combined_df.groupby('hotel_id').size()\n",
    "\n",
    "# Filter for hotels that have more than 183 rows/dates\n",
    "hotels_with_more_than_183_rows = hotel_counts[hotel_counts > 183].index\n",
    "\n",
    "# Filter the original table for these hotels\n",
    "filtered_combined_df = combined_df[combined_df['hotel_id'].isin(hotels_with_more_than_183_rows)]\n",
    "\n",
    "# Display the filtered DataFrame\n",
    "filtered_combined_df"
   ]
  },
  {
   "cell_type": "code",
   "execution_count": null,
   "metadata": {},
   "outputs": [],
   "source": [
    "print(combined_df.shape)\n",
    "print(filtered_combined_df.shape)"
   ]
  },
  {
   "cell_type": "code",
   "execution_count": null,
   "metadata": {},
   "outputs": [],
   "source": [
    "hotel_list = filtered_combined_df['hotel_id'].drop_duplicates()\n",
    "print(hotel_list.shape)"
   ]
  },
  {
   "cell_type": "code",
   "execution_count": null,
   "metadata": {},
   "outputs": [],
   "source": [
    "print(hotel_list.max())\n",
    "print(hotel_list.min())"
   ]
  },
  {
   "cell_type": "code",
   "execution_count": null,
   "metadata": {},
   "outputs": [],
   "source": [
    "# Split the hotel list into 5 chunks based on the conditions you provided\n",
    "chunk_1 = hotel_list[hotel_list < 5000]\n",
    "chunk_2 = hotel_list[(hotel_list >= 5000) & (hotel_list < 10000)]\n",
    "chunk_3 = hotel_list[(hotel_list >= 10000) & (hotel_list < 12500)]\n",
    "chunk_4 = hotel_list[(hotel_list >= 12500) & (hotel_list < 13000)]\n",
    "chunk_5 = hotel_list[(hotel_list >= 13000) & (hotel_list < 13500)]\n",
    "chunk_6 = hotel_list[(hotel_list >= 13500) & (hotel_list < 14000)]\n",
    "chunk_7 = hotel_list[(hotel_list >= 14000) & (hotel_list < 14500)]\n",
    "chunk_8 = hotel_list[(hotel_list >= 14500) & (hotel_list < 14750)]\n",
    "chunk_9 = hotel_list[(hotel_list >= 14750) & (hotel_list < 15000)]\n",
    "chunk_10 = hotel_list[(hotel_list >= 15000) & (hotel_list < 17500)]\n",
    "chunk_11 = hotel_list[(hotel_list >= 17500) & (hotel_list < 20000)]\n",
    "chunk_12 = hotel_list[(hotel_list >= 20000) & (hotel_list < 25000)]\n",
    "\n",
    "\n",
    "# List of chunks to process\n",
    "chunks = [ chunk_1, chunk_2, chunk_3, chunk_4, chunk_5, chunk_6, chunk_7, chunk_8, chunk_9, chunk_10, chunk_11, chunk_12]\n",
    "\n",
    "# Loop through each chunk\n",
    "for idx, chunk in enumerate(chunks):\n",
    "    print(f\"Processing chunk {idx + 1} with {len(chunk)} hotels...\")\n",
    "\n",
    "    # Initialize an empty DataFrame to store all results for this chunk\n",
    "    all_forecasts_chunk = pd.DataFrame()\n",
    "\n",
    "    # Loop through each hotel in the current chunk\n",
    "    for hotel in chunk:\n",
    "        print(f\"Processing forecast for Hotel {hotel}...\")\n",
    "\n",
    "        # Load data for the specific hotel\n",
    "        hotel_data = combined_df[combined_df['hotel_id'].isin([hotel])]  # Define your function to get hotel data\n",
    "        \n",
    "        # Fit the model\n",
    "        model = Prophet()\n",
    "        model.fit(hotel_data)\n",
    "\n",
    "        # Create future dataframe for predictions\n",
    "        future = model.make_future_dataframe(periods=365)  # Forecast 1 year ahead\n",
    "\n",
    "        # Make predictions\n",
    "        forecast = model.predict(future)\n",
    "\n",
    "        # Add hotel name for identification\n",
    "        forecast[\"hotel\"] = hotel\n",
    "        \n",
    "        # Mark historical vs. forecasted data\n",
    "        forecast[\"data_type\"] = [\"historical\" if date <= hotel_data[\"ds\"].max() else \"forecast\" for date in forecast[\"ds\"]]\n",
    "\n",
    "        # Append to the main DataFrame for this chunk\n",
    "        all_forecasts_chunk = pd.concat([all_forecasts_chunk, forecast], ignore_index=True)\n",
    "\n",
    "    # Save the results for this chunk to a CSV file\n",
    "    all_forecasts_chunk.to_csv(f\"../out/hotel_forecasts_From2021_to_Jan2025onwards_chunk_{idx + 1}.csv\", index=False)\n",
    "    print(f\"Chunk {idx + 1} forecasting complete. Results saved as 'hotel_forecasts_From2021_to_Jan2025onwards_chunk_{idx + 1}.csv'.\")\n",
    "\n",
    "print(\"All chunks processed successfully.\")"
   ]
  },
  {
   "cell_type": "code",
   "execution_count": null,
   "metadata": {},
   "outputs": [],
   "source": [
    "\n",
    "# Get the current directory\n",
    "current_dir = os.getcwd()\n",
    "\n",
    "# Navigate one folder up\n",
    "parent_dir = os.path.dirname(current_dir)\n",
    "\n",
    "# Where the files are located\n",
    "data = \"out/\"\n",
    "\n",
    "# Navigate down into the \"data\" folder\n",
    "data_dir = os.path.join(parent_dir, data)\n",
    "\n",
    "# Initialize an empty list to store DataFrames\n",
    "dataframes = []\n",
    "\n",
    "# Variable to track total rows\n",
    "total_rows = 0\n",
    "\n",
    "# Loop through all files in the \"data\" folder\n",
    "try:\n",
    "    for file_name in os.listdir(data_dir):\n",
    "        if file_name.endswith('.csv') and 'chunk' in file_name:  # Check if the file is a chunk CSV\n",
    "            file_path = os.path.join(data_dir, file_name)\n",
    "            \n",
    "            # Check if file is non-empty before reading\n",
    "            if os.path.getsize(file_path) == 0:\n",
    "                print(f\"Skipping empty file (0 bytes): {file_name}\")\n",
    "                continue\n",
    "\n",
    "            try:\n",
    "                # Read the CSV file into a DataFrame\n",
    "                df = pd.read_csv(file_path, on_bad_lines='skip')\n",
    "\n",
    "                # Ensure the DataFrame has valid columns and is not empty\n",
    "                if not df.empty and len(df.columns) > 0:\n",
    "                    dataframes.append(df)  # Append the DataFrame to the list\n",
    "                    print(f\"File: {file_name} | Dimensions: {df.shape}\")\n",
    "                    total_rows += df.shape[0]\n",
    "                else:\n",
    "                    print(f\"Skipping file with no valid data: {file_name}\")\n",
    "\n",
    "            except pd.errors.EmptyDataError:\n",
    "                print(f\"Skipping empty/corrupt file: {file_name}\")\n",
    "            except pd.errors.ParserError:\n",
    "                print(f\"Skipping file with parsing issues: {file_name}\")\n",
    "            except Exception as e:\n",
    "                print(f\"Error processing {file_name}: {e}\")\n",
    "\n",
    "    # Ensure there is at least one valid DataFrame before concatenating\n",
    "    if dataframes:\n",
    "        combined_df = pd.concat(dataframes, ignore_index=True)\n",
    "        print(f\"Combined DataFrame Dimensions: {combined_df.shape}\")\n",
    "\n",
    "        if total_rows == combined_df.shape[0]:\n",
    "            print(\"Row count verification successful! Total rows match.\")\n",
    "        else:\n",
    "            print(\"Row count verification failed! Mismatch in row count.\")\n",
    "\n",
    "        print(combined_df.head())  # Display the first few rows\n",
    "    else:\n",
    "        print(\"No valid CSV files found.\")\n",
    "\n",
    "except FileNotFoundError:\n",
    "    print(f\"Folder '{data_dir}' not found.\")\n",
    "except Exception as e:\n",
    "    print(f\"An error occurred: {e}\")\n"
   ]
  },
  {
   "cell_type": "code",
   "execution_count": null,
   "metadata": {},
   "outputs": [],
   "source": [
    "combined_df['data_type'].unique()"
   ]
  },
  {
   "cell_type": "code",
   "execution_count": null,
   "metadata": {},
   "outputs": [],
   "source": [
    "combined_df.to_csv(\"../out/all_hotel_forecasts_From2021_to_Jan2025onwards.csv\", index=False)"
   ]
  },
  {
   "cell_type": "code",
   "execution_count": null,
   "metadata": {},
   "outputs": [],
   "source": [
    "all_hotel_forecasts_From2021_to_Jan2025onwards = pd.read_csv(\"../out/all_hotel_forecasts_From2021_to_Jan2025onwards.csv\")"
   ]
  },
  {
   "cell_type": "code",
   "execution_count": null,
   "metadata": {},
   "outputs": [],
   "source": [
    "# Get the current directory\n",
    "current_dir = os.getcwd()\n",
    "\n",
    "# Navigate one folder up\n",
    "parent_dir = os.path.dirname(current_dir)\n",
    "\n",
    "# Where the files are located\n",
    "data = \"data/other/From2021_to_Jan2025_PricesHotelsDates\"\n",
    "\n",
    "# Navigate down into the \"data\" folder\n",
    "data_dir = os.path.join(parent_dir, data)\n",
    "\n",
    "# Initialize an empty list to store DataFrames\n",
    "dataframes = []\n",
    "\n",
    "# Variable to track total rows\n",
    "total_rows = 0\n",
    "\n",
    "# Loop through all files in the \"data\" folder\n",
    "try:\n",
    "    for file_name in os.listdir(data_dir):\n",
    "        \n",
    "        if file_name.endswith('.csv'):  # Check if the file is a CSV\n",
    "            \n",
    "            file_path = os.path.join(data_dir, file_name)\n",
    "            \n",
    "            # Read the CSV file into a DataFrame\n",
    "            df = pd.read_csv(file_path)\n",
    "            dataframes.append(df)  # Append the DataFrame to the list\n",
    "            \n",
    "             # Print dimensions of the current file\n",
    "            print(f\"File: {file_name} | Dimensions: {df.shape}\")\n",
    "            \n",
    "            # Add the number of rows to the total count\n",
    "            total_rows += df.shape[0]\n",
    "\n",
    "    # Concatenate all DataFrames in the list by binding rows\n",
    "    combined_df = pd.concat(dataframes, ignore_index=True)\n",
    "\n",
    "    # Print dimensions of the combined DataFrame\n",
    "    print(f\"Combined DataFrame Dimensions: {combined_df.shape}\")\n",
    "\n",
    "    # Verify the sum of rows matches\n",
    "    if total_rows == combined_df.shape[0]:\n",
    "        print(\"Row count verification successful! Total rows match.\")\n",
    "    else:\n",
    "        print(\"Row count verification failed! Mismatch in row count.\")\n",
    "\n",
    "    print(combined_df.head())  # Display the first few rows of the combined DataFrame\n",
    "\n",
    "except FileNotFoundError:\n",
    "    print(f\"Folder '{data_dir}' not found.\")\n",
    "except Exception as e:\n",
    "    print(f\"An error occurred: {e}\")"
   ]
  },
  {
   "cell_type": "code",
   "execution_count": null,
   "metadata": {},
   "outputs": [],
   "source": [
    "combined_df['Data'] = pd.to_datetime(combined_df['Data']).dt.tz_localize(None)\n",
    "combined_df.head"
   ]
  },
  {
   "cell_type": "code",
   "execution_count": null,
   "metadata": {},
   "outputs": [],
   "source": [
    "\n",
    "# Filter for data in 2024\n",
    "hotels_2024 = combined_df[combined_df['Data'].dt.year == 2024]['Hotel_ID'].unique()\n",
    "\n",
    "# Filter the original combined_df to keep only hotels that appeared in 2024\n",
    "combined_df = combined_df[combined_df['Hotel_ID'].isin(hotels_2024)]\n",
    "\n",
    "# Display the filtered DataFrame\n",
    "combined_df"
   ]
  },
  {
   "cell_type": "code",
   "execution_count": null,
   "metadata": {},
   "outputs": [],
   "source": [
    "combined_df = combined_df.loc[:, ['Data',  'Hotel_ID', 'DiariaMedia']]\n",
    "\n",
    "combined_df.rename(columns={'Data': 'ds', 'Hotel_ID': 'hotel_id', 'DiariaMedia': 'y'}, inplace=True)\n",
    "\n",
    "combined_df = combined_df.loc[:, ['hotel_id',  'ds', 'y']]"
   ]
  },
  {
   "cell_type": "code",
   "execution_count": null,
   "metadata": {},
   "outputs": [],
   "source": [
    "combined_df = combined_df.groupby(['hotel_id', 'ds']).agg({'y': 'mean'}).reset_index()\n",
    "combined_df.shape"
   ]
  },
  {
   "cell_type": "code",
   "execution_count": null,
   "metadata": {},
   "outputs": [],
   "source": [
    "# Group by 'hotel_id' and count the number of rows for each hotel\n",
    "hotel_counts = combined_df.groupby('hotel_id').size()\n",
    "\n",
    "# Filter for hotels that have more than 183 rows\n",
    "hotels_with_more_than_183_rows = hotel_counts[hotel_counts > 183].index\n",
    "\n",
    "# Filter the original table for these hotels\n",
    "filtered_combined_df = combined_df[combined_df['hotel_id'].isin(hotels_with_more_than_183_rows)]\n",
    "\n",
    "# Display the filtered DataFrame\n",
    "filtered_combined_df"
   ]
  },
  {
   "cell_type": "code",
   "execution_count": null,
   "metadata": {},
   "outputs": [],
   "source": [
    "hotel_list = all_hotel_forecasts_From2021_to_Jan2025onwards['hotel'].drop_duplicates()"
   ]
  },
  {
   "cell_type": "code",
   "execution_count": null,
   "metadata": {},
   "outputs": [],
   "source": [
    "filtered_combined_df.rename(columns={'hotel_id': 'hotel'}, inplace=True)"
   ]
  },
  {
   "cell_type": "code",
   "execution_count": null,
   "metadata": {},
   "outputs": [],
   "source": [
    "filtered_combined_df[\"ds\"] = pd.to_datetime(filtered_combined_df[\"ds\"])\n",
    "all_hotel_forecasts_From2021_to_Jan2025onwards[\"ds\"] = pd.to_datetime(all_hotel_forecasts_From2021_to_Jan2025onwards[\"ds\"])"
   ]
  },
  {
   "cell_type": "code",
   "execution_count": null,
   "metadata": {},
   "outputs": [],
   "source": [
    "filtered_combined_df = filtered_combined_df[filtered_combined_df['hotel'].isin(hotel_list)]\n",
    "all_hotel_forecasts_From2021_to_Jan2025onwards = all_hotel_forecasts_From2021_to_Jan2025onwards[all_hotel_forecasts_From2021_to_Jan2025onwards['hotel'].isin(hotel_list)]\n"
   ]
  },
  {
   "cell_type": "code",
   "execution_count": null,
   "metadata": {},
   "outputs": [],
   "source": [
    "from sklearn.metrics import mean_absolute_error, mean_squared_error\n",
    "import numpy as np\n",
    "import pandas as pd\n",
    "\n",
    "# Initialize a list to store results\n",
    "error_metrics = []\n",
    "\n",
    "# Loop through each hotel\n",
    "for hotel in hotel_list:\n",
    "    hotel_forecast = all_hotel_forecasts_From2021_to_Jan2025onwards[all_hotel_forecasts_From2021_to_Jan2025onwards[\"hotel\"] == hotel]\n",
    "    historical_data = filtered_combined_df[filtered_combined_df[\"hotel\"] == hotel]\n",
    "\n",
    "    # Merge on the date column\n",
    "    comparison = historical_data.merge(hotel_forecast, on=\"ds\", how=\"inner\")\n",
    "\n",
    "    # Skip if no matching dates found\n",
    "    if comparison.empty:\n",
    "        print(f\"Skipping hotel {hotel}: No matching dates found.\")\n",
    "        continue  \n",
    "\n",
    "    # Compute error metrics\n",
    "    mae = mean_absolute_error(comparison[\"y\"], comparison[\"yhat\"])\n",
    "    rmse = np.sqrt(mean_squared_error(comparison[\"y\"], comparison[\"yhat\"]))\n",
    "    mape = np.mean(np.abs((comparison[\"y\"] - comparison[\"yhat\"]) / comparison[\"y\"])) * 100\n",
    "\n",
    "    # Append results\n",
    "    error_metrics.append({\"hotel\": hotel, \"MAE\": mae, \"RMSE\": rmse, \"MAPE\": mape})\n",
    "\n",
    "\n",
    "# Convert results to a DataFrame\n",
    "error_df = pd.DataFrame(error_metrics)\n",
    "\n",
    "# Display the error metrics table\n",
    "print(error_df)\n",
    "\n",
    "# Save to CSV for further analysis\n",
    "error_df.to_csv(\"../out/hotel_error_metrics_From2021_to_Jan2025onwards.csv\", index=False)\n",
    "\n",
    "print(\"Error metrics saved to 'hotel_error_metrics_From2021_to_Jan2025onwards.csv'.\")\n"
   ]
  },
  {
   "cell_type": "code",
   "execution_count": null,
   "metadata": {},
   "outputs": [],
   "source": [
    "error_df = error_df[ (error_df['MAPE'] < 100) & (error_df['MAPE'] > 0) ]"
   ]
  },
  {
   "cell_type": "code",
   "execution_count": null,
   "metadata": {},
   "outputs": [],
   "source": [
    "error_df"
   ]
  },
  {
   "cell_type": "code",
   "execution_count": null,
   "metadata": {},
   "outputs": [],
   "source": [
    "error_df['MAPE'].describe()"
   ]
  },
  {
   "cell_type": "code",
   "execution_count": null,
   "metadata": {},
   "outputs": [],
   "source": [
    "# Remove rows where MAPE is infinite\n",
    "error_df = error_df.replace([np.inf, -np.inf], np.nan).dropna(subset=[\"MAPE\"])\n"
   ]
  },
  {
   "cell_type": "code",
   "execution_count": null,
   "metadata": {},
   "outputs": [],
   "source": [
    "error_df['MAPE'].describe()"
   ]
  },
  {
   "cell_type": "code",
   "execution_count": null,
   "metadata": {},
   "outputs": [],
   "source": [
    "import matplotlib.pyplot as plt\n",
    "import seaborn as sns\n",
    "\n",
    "# Create a histogram of the \"MAPE\" variable\n",
    "plt.figure(figsize=(8, 6))\n",
    "sns.histplot(data=error_df[ (error_df['MAPE']<100) & (error_df['MAPE']>0) ], x=\"MAPE\", bins=500, kde=False)\n",
    "\n",
    "# Add labels and title\n",
    "plt.xlabel(\"\\n MAPE\")\n",
    "plt.ylabel(\"Frequency \\n\")\n",
    "plt.title(\"Histogram of Mean Absolute Percent Error [MAPE]\")\n",
    "\n",
    "# Show the plot\n",
    "plt.show()\n"
   ]
  },
  {
   "cell_type": "code",
   "execution_count": null,
   "metadata": {},
   "outputs": [],
   "source": [
    "# Ensure 'ds' columns are in datetime format\n",
    "filtered_combined_df[\"ds\"] = pd.to_datetime(filtered_combined_df[\"ds\"])\n",
    "all_hotel_forecasts_From2021_to_Jan2025onwards[\"ds\"] = pd.to_datetime(all_hotel_forecasts_From2021_to_Jan2025onwards[\"ds\"])\n",
    "\n",
    "# Merge both tables on 'hotel' and 'ds'\n",
    "comparison = filtered_combined_df.merge(\n",
    "    all_hotel_forecasts_From2021_to_Jan2025onwards, \n",
    "    on=[\"hotel\", \"ds\"], \n",
    "    how=\"inner\"\n",
    ")"
   ]
  },
  {
   "cell_type": "code",
   "execution_count": null,
   "metadata": {},
   "outputs": [],
   "source": [
    "hotels_to_keep_error = error_df['hotel'].drop_duplicates()"
   ]
  },
  {
   "cell_type": "code",
   "execution_count": null,
   "metadata": {},
   "outputs": [],
   "source": [
    "comparison.shape"
   ]
  },
  {
   "cell_type": "code",
   "execution_count": null,
   "metadata": {},
   "outputs": [],
   "source": [
    "comparison = comparison[comparison['hotel'].isin(hotels_to_keep_error)]\n"
   ]
  },
  {
   "cell_type": "code",
   "execution_count": null,
   "metadata": {},
   "outputs": [],
   "source": [
    "hotel_list = comparison.groupby('hotel').size().sort_values(ascending=False).sample(10).index.tolist()"
   ]
  },
  {
   "cell_type": "code",
   "execution_count": null,
   "metadata": {},
   "outputs": [],
   "source": [
    "print(hotel_list)"
   ]
  },
  {
   "cell_type": "code",
   "execution_count": null,
   "metadata": {},
   "outputs": [],
   "source": [
    "\n",
    "# Set the seaborn theme\n",
    "sns.set_theme()\n",
    "\n",
    "# Define figure size based on the number of hotels\n",
    "fig, axes = plt.subplots(len(hotel_list), 1, figsize=(12, 6 * len(hotel_list)), sharex=True)\n",
    "\n",
    "# If there's only one hotel, `axes` won't be an iterable, so wrap it in a list\n",
    "if len(hotel_list) == 1:\n",
    "    axes = [axes]\n",
    "\n",
    "# Define colors for historical and forecasted data\n",
    "colors = {\"historical\": \"navy\", \"forecast\": \"firebrick\"}\n",
    "\n",
    "# Loop through each hotel and create a separate plot\n",
    "for i, hotel in enumerate(hotel_list):\n",
    "    # Filter data for this hotel\n",
    "    hotel_forecast = comparison[comparison[\"hotel\"] == hotel]\n",
    "\n",
    "    # Plot historical data\n",
    "    sns.lineplot(ax=axes[i], \n",
    "                 data=hotel_forecast, \n",
    "                 x=\"ds\", y=\"y\", label=\"Historical\", color=colors[\"historical\"])\n",
    "\n",
    "    # Plot forecasted data\n",
    "    sns.lineplot(ax=axes[i], \n",
    "                 data=hotel_forecast, \n",
    "                 x=\"ds\", y=\"yhat\", label=\"Forecast\", color=colors[\"forecast\"], linestyle=\"dashed\")\n",
    "\n",
    "    # Formatting for each subplot\n",
    "    axes[i].set_title(f\"Hotel {hotel} Forecast\")\n",
    "    axes[i].set_xlabel(\"Date\")\n",
    "    axes[i].set_ylabel(\"Prices [Local Currency]\")\n",
    "    axes[i].legend()\n",
    "    axes[i].grid(True)\n",
    "\n",
    "     # Ensure the y-axis starts at zero\n",
    "    axes[i].set_ylim(0, hotel_forecast[[\"y\", \"yhat\"]].max().max())\n",
    "\n",
    "\n",
    "# Adjust layout to prevent overlap\n",
    "plt.tight_layout()\n",
    "\n",
    "# Show plots\n",
    "plt.show()\n",
    "\n"
   ]
  },
  {
   "cell_type": "code",
   "execution_count": null,
   "metadata": {},
   "outputs": [],
   "source": []
  },
  {
   "cell_type": "code",
   "execution_count": null,
   "metadata": {},
   "outputs": [],
   "source": [
    "all_hotel_forecasts_From2021_to_Jan2025onwards['hotel'].nunique()"
   ]
  },
  {
   "cell_type": "code",
   "execution_count": null,
   "metadata": {},
   "outputs": [],
   "source": [
    "\n",
    "combined_df = combined_df[combined_df['hotel_id'].isin(hotels_to_keep_error)]\n",
    "\n",
    "all_hotel_forecasts_From2021_to_Jan2025onwards = all_hotel_forecasts_From2021_to_Jan2025onwards[all_hotel_forecasts_From2021_to_Jan2025onwards['hotel'].isin(hotels_to_keep_error)]\n",
    "\n"
   ]
  },
  {
   "cell_type": "code",
   "execution_count": null,
   "metadata": {},
   "outputs": [],
   "source": [
    "combined_df_hist = combined_df[combined_df['hotel_id']==4937]\n",
    "all_hotel_forecasts_From2021_to_Jan2025onwards_future = all_hotel_forecasts_From2021_to_Jan2025onwards[all_hotel_forecasts_From2021_to_Jan2025onwards['hotel']==4937]"
   ]
  },
  {
   "cell_type": "code",
   "execution_count": null,
   "metadata": {},
   "outputs": [],
   "source": [
    "import matplotlib.pyplot as plt\n",
    "import matplotlib.dates as mdates\n",
    "import seaborn as sns\n",
    "\n",
    "# Set the seaborn theme\n",
    "sns.set_theme()\n",
    "\n",
    "# Plot observed data and predictions with different colors\n",
    "plt.figure(figsize=(16, 8))\n",
    "plt.plot(combined_df_hist['ds'], combined_df_hist['y'], label=\"Observed Data\", color=\"navy\", alpha=0.8)\n",
    "plt.plot(all_hotel_forecasts_From2021_to_Jan2025onwards_future['ds'], all_hotel_forecasts_From2021_to_Jan2025onwards_future['yhat'], label=\"Predicted Data\", color=\"firebrick\", alpha=0.6)\n",
    "\n",
    "# Add confidence intervals for predictions\n",
    "plt.fill_between(\n",
    "    all_hotel_forecasts_From2021_to_Jan2025onwards_future['ds'], all_hotel_forecasts_From2021_to_Jan2025onwards_future['yhat_lower'], all_hotel_forecasts_From2021_to_Jan2025onwards_future['yhat_upper'], color=\"firebrick\", alpha=0.2, label=\"Uncertainty Interval\"\n",
    ")\n",
    "\n",
    "# Customize x-axis for better readability\n",
    "plt.gca().xaxis.set_major_locator(mdates.MonthLocator(interval=1))  # Set ticks every 3 months\n",
    "plt.gca().xaxis.set_major_formatter(mdates.DateFormatter('%Y-%m'))  # Format as Year-Month\n",
    "plt.gcf().autofmt_xdate(rotation=90)  # Rotate x-axis labels vertically\n",
    "\n",
    "# Customize the plot\n",
    "plt.title(f\"Hotel Data Forecast - Hotel ID {combined_df_hist['hotel_id'].unique()}\", fontsize=16)\n",
    "plt.xlabel(\"\\n Exact Date\", fontsize=14)\n",
    "plt.ylabel(\"Average Daily Price (Local Currency) \\n\", fontsize=14)\n",
    "plt.legend(fontsize=12)\n",
    "plt.grid(True, linestyle=\"--\", alpha=0.6)\n",
    "\n",
    "\n",
    "# Save the plot before showing\n",
    "plt.savefig(f\"../out/figures/hotel_forecast_{combined_df_hist['hotel_id'].unique()}.png\", dpi=300, bbox_inches=\"tight\")\n",
    "\n",
    "# Show the plot\n",
    "plt.tight_layout()\n",
    "plt.show()\n"
   ]
  },
  {
   "cell_type": "code",
   "execution_count": null,
   "metadata": {},
   "outputs": [],
   "source": [
    "\n",
    "combined_df.to_csv(\"../out/all_hotel_historic_From2021_to_Jan2025_final_selected_final_selected.csv\", index=False)\n",
    "all_hotel_forecasts_From2021_to_Jan2025onwards.to_csv(\"../out/all_hotel_forecasts_From2021_to_Jan2025onwards_final_selected.csv\", index=False)\n",
    "\n"
   ]
  },
  {
   "cell_type": "code",
   "execution_count": null,
   "metadata": {},
   "outputs": [],
   "source": [
    "# Set the seaborn theme\n",
    "sns.set_theme()\n",
    "\n",
    "# Get unique hotel IDs\n",
    "hotel_ids = combined_df[\"hotel_id\"].unique()\n",
    "\n",
    "# Loop through each hotel_id\n",
    "for hotel_id in hotel_ids:\n",
    "    # Filter data for the current hotel\n",
    "    hotel_hist = combined_df[combined_df[\"hotel_id\"] == hotel_id]\n",
    "    hotel_forecast = all_hotel_forecasts_From2021_to_Jan2025onwards[\n",
    "        all_hotel_forecasts_From2021_to_Jan2025onwards[\"hotel\"] == hotel_id\n",
    "    ]\n",
    "\n",
    "    # Create a new figure\n",
    "    plt.figure(figsize=(16, 8))\n",
    "    \n",
    "    # Plot observed data\n",
    "    plt.plot(hotel_hist[\"ds\"], hotel_hist[\"y\"], label=\"Observed Data\", color=\"navy\", alpha=0.8)\n",
    "    \n",
    "    # Plot predicted data\n",
    "    plt.plot(hotel_forecast[\"ds\"], hotel_forecast[\"yhat\"], label=\"Predicted Data\", color=\"firebrick\", alpha=0.6)\n",
    "    \n",
    "    # Add confidence intervals for predictions\n",
    "    plt.fill_between(\n",
    "        hotel_forecast[\"ds\"], \n",
    "        hotel_forecast[\"yhat_lower\"], \n",
    "        hotel_forecast[\"yhat_upper\"], \n",
    "        color=\"firebrick\", alpha=0.2, label=\"Uncertainty Interval\"\n",
    "    )\n",
    "\n",
    "    # Customize x-axis\n",
    "    plt.gca().xaxis.set_major_locator(mdates.MonthLocator(interval=1))  \n",
    "    plt.gca().xaxis.set_major_formatter(mdates.DateFormatter('%Y-%m'))  \n",
    "    plt.gcf().autofmt_xdate(rotation=90)  \n",
    "\n",
    "    # Customize the plot\n",
    "    plt.title(f\"Hotel Data Forecast - Hotel ID {hotel_id}\", fontsize=16)\n",
    "    plt.xlabel(\"\\n Exact Date\", fontsize=14)\n",
    "    plt.ylabel(\"Average Daily Price (Local Currency) \\n\", fontsize=14)\n",
    "    plt.legend(fontsize=12)\n",
    "    plt.grid(True, linestyle=\"--\", alpha=0.6)\n",
    "\n",
    "    # Save the plot with hotel_id in the filename\n",
    "    plt.savefig(f\"../out/figures/png/hotel_forecast_{hotel_id}.png\", dpi=300, bbox_inches=\"tight\")\n",
    "    \n",
    "    # Close the plot to free memory before the next iteration\n",
    "    plt.close()\n",
    "\n",
    "print(\"All plots saved successfully!\")"
   ]
  },
  {
   "cell_type": "code",
   "execution_count": null,
   "metadata": {},
   "outputs": [],
   "source": [
    "# Set the seaborn theme\n",
    "sns.set_theme()\n",
    "\n",
    "# Get unique hotel IDs\n",
    "hotel_ids = combined_df[\"hotel_id\"].unique()\n",
    "\n",
    "# Create a single PDF to store all plots\n",
    "with PdfPages(\"../out/figures/pdf/hotel_forecasts_prophet_365_2025.pdf\") as pdf:\n",
    "    for hotel_id in hotel_ids:\n",
    "        # Filter data for the current hotel\n",
    "        hotel_hist = combined_df[combined_df[\"hotel_id\"] == hotel_id]\n",
    "        hotel_forecast = all_hotel_forecasts_From2021_to_Jan2025onwards[\n",
    "            all_hotel_forecasts_From2021_to_Jan2025onwards[\"hotel\"] == hotel_id\n",
    "        ]\n",
    "\n",
    "        # Create a new figure\n",
    "        plt.figure(figsize=(16, 8))\n",
    "\n",
    "        # Plot observed data\n",
    "        plt.plot(hotel_hist[\"ds\"], hotel_hist[\"y\"], label=\"Observed Data\", color=\"navy\", alpha=0.8)\n",
    "\n",
    "        # Plot predicted data\n",
    "        plt.plot(hotel_forecast[\"ds\"], hotel_forecast[\"yhat\"], label=\"Predicted Data\", color=\"firebrick\", alpha=0.6)\n",
    "\n",
    "        # Add confidence intervals for predictions\n",
    "        plt.fill_between(\n",
    "            hotel_forecast[\"ds\"], \n",
    "            hotel_forecast[\"yhat_lower\"], \n",
    "            hotel_forecast[\"yhat_upper\"], \n",
    "            color=\"firebrick\", alpha=0.2, label=\"Uncertainty Interval\"\n",
    "        )\n",
    "\n",
    "        # Customize x-axis\n",
    "        plt.gca().xaxis.set_major_locator(mdates.MonthLocator(interval=1))  \n",
    "        plt.gca().xaxis.set_major_formatter(mdates.DateFormatter('%Y-%m'))  \n",
    "        plt.gcf().autofmt_xdate(rotation=90)  \n",
    "\n",
    "        # Customize the plot\n",
    "        plt.title(f\"Hotel Data Forecast - Hotel ID {hotel_id}\", fontsize=16)\n",
    "        plt.xlabel(\"\\n Exact Date\", fontsize=14)\n",
    "        plt.ylabel(\"Average Daily Price (Local Currency) \\n\", fontsize=14)\n",
    "        plt.legend(fontsize=12)\n",
    "        plt.grid(True, linestyle=\"--\", alpha=0.6)\n",
    "\n",
    "        # Save the current figure to the PDF\n",
    "        pdf.savefig()\n",
    "        plt.close()  # Close the figure to free memory\n",
    "\n",
    "print(\"All plots saved successfully in 'hotel_forecasts.pdf'!\")"
   ]
  },
  {
   "cell_type": "code",
   "execution_count": null,
   "metadata": {},
   "outputs": [],
   "source": [
    "import plotly.graph_objects as go\n",
    "import pandas as pd\n",
    "\n",
    "# Get unique hotel IDs\n",
    "hotel_ids = combined_df[\"hotel_id\"].unique()\n",
    "\n",
    "output_dir = \"../out/figures/html/\"\n",
    "\n",
    "\n",
    "for hotel_id in hotel_ids:\n",
    "    # Extract data for the current hotel\n",
    "    hotel_hist = combined_df[combined_df[\"hotel_id\"] == hotel_id]\n",
    "    hotel_forecast = all_hotel_forecasts_From2021_to_Jan2025onwards[\n",
    "        all_hotel_forecasts_From2021_to_Jan2025onwards[\"hotel\"] == hotel_id\n",
    "    ]\n",
    "\n",
    "    # Create interactive plot\n",
    "    fig = go.Figure()\n",
    "\n",
    "    # Add observed data\n",
    "    fig.add_trace(go.Scatter(\n",
    "        x=hotel_hist[\"ds\"],\n",
    "        y=hotel_hist[\"y\"],\n",
    "        mode=\"lines\",\n",
    "        name=\"Observed Data\",\n",
    "        line=dict(color=\"navy\")\n",
    "    ))\n",
    "\n",
    "    # Add predicted data\n",
    "    fig.add_trace(go.Scatter(\n",
    "        x=hotel_forecast[\"ds\"],\n",
    "        y=hotel_forecast[\"yhat\"],\n",
    "        mode=\"lines\",\n",
    "        name=\"Predicted Data\",\n",
    "        line=dict(color=\"firebrick\", dash=\"dash\")\n",
    "    ))\n",
    "\n",
    "    # Add confidence interval\n",
    "    fig.add_trace(go.Scatter(\n",
    "        x=hotel_forecast[\"ds\"].tolist() + hotel_forecast[\"ds\"].tolist()[::-1],\n",
    "        y=hotel_forecast[\"yhat_upper\"].tolist() + hotel_forecast[\"yhat_lower\"].tolist()[::-1],\n",
    "        fill=\"toself\",\n",
    "        fillcolor=\"rgba(178,34,34,0.2)\",\n",
    "        line=dict(color=\"rgba(255,255,255,0)\"),\n",
    "        name=\"Uncertainty Interval\"\n",
    "    ))\n",
    "\n",
    "    # Customize layout\n",
    "    fig.update_layout(\n",
    "        title=f\"Hotel Data Forecast - Hotel ID {hotel_id}\",\n",
    "        xaxis_title=\"Exact Date\",\n",
    "        yaxis_title=\"Average Daily Price (Local Currency)\",\n",
    "        xaxis=dict(tickformat=\"%Y-%m\", tickangle=90),\n",
    "        template=\"plotly_white\"\n",
    "    )\n",
    "\n",
    "    # Save as HTML file\n",
    "    output_path = os.path.join(output_dir, f\"hotel_forecast_{hotel_id}.html\")\n",
    "    fig.write_html(output_path)\n",
    "\n",
    "print(\"All interactive plots saved successfully!\")\n"
   ]
  }
 ],
 "metadata": {
  "kernelspec": {
   "display_name": "Python 3",
   "language": "python",
   "name": "python3"
  },
  "language_info": {
   "codemirror_mode": {
    "name": "ipython",
    "version": 3
   },
   "file_extension": ".py",
   "mimetype": "text/x-python",
   "name": "python",
   "nbconvert_exporter": "python",
   "pygments_lexer": "ipython3",
   "version": "3.10.6"
  }
 },
 "nbformat": 4,
 "nbformat_minor": 2
}
