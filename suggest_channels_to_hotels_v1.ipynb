{
 "cells": [
  {
   "cell_type": "code",
   "execution_count": 80,
   "metadata": {},
   "outputs": [],
   "source": [
    "import pandas as pd\n",
    "import numpy as np  \n",
    "from sklearn.preprocessing import StandardScaler\n",
    "from sklearn.metrics.pairwise import cosine_similarity\n",
    "from surprise import SVD, Dataset, Reader\n",
    "from surprise.model_selection import train_test_split\n",
    "from collections import defaultdict\n",
    "\n",
    "pd.set_option('display.float_format', lambda x: '%.0f' % x)"
   ]
  },
  {
   "cell_type": "code",
   "execution_count": null,
   "metadata": {},
   "outputs": [],
   "source": [
    "data_lake_prd_314410_cz_canais = pd.read_csv('c:\\\\Users\\\\paulo\\\\Desktop\\\\hotels brazil\\\\data\\\\lookups\\\\data-lake-prd-314410.cz.canais.csv')\n",
    "data_lake_prd_314410_cz_canais"
   ]
  },
  {
   "cell_type": "code",
   "execution_count": null,
   "metadata": {},
   "outputs": [],
   "source": [
    "data_lake_prd_314410_cz_canais.groupby('Produto').size().reset_index(name='Counts').sort_values(by='Counts', ascending=False)"
   ]
  },
  {
   "cell_type": "code",
   "execution_count": null,
   "metadata": {},
   "outputs": [],
   "source": [
    "data_lake_prd_314410_cz_canais.groupby('Tipo').size().reset_index(name='Counts').sort_values(by='Counts', ascending=False)"
   ]
  },
  {
   "cell_type": "code",
   "execution_count": null,
   "metadata": {},
   "outputs": [],
   "source": [
    "data_lake_prd_314410_cz_canais.groupby('Segmento').size().reset_index(name='Counts').sort_values(by='Counts', ascending=False)"
   ]
  },
  {
   "cell_type": "code",
   "execution_count": null,
   "metadata": {},
   "outputs": [],
   "source": [
    "data_lake_prd_314410_cz_canais.groupby('Status').size().reset_index(name='Counts').sort_values(by='Counts', ascending=False)"
   ]
  },
  {
   "cell_type": "code",
   "execution_count": null,
   "metadata": {},
   "outputs": [],
   "source": [
    "data_lake_prd_314410_cz_canais.groupby('Modelo').size().reset_index(name='Counts').sort_values(by='Counts', ascending=False)"
   ]
  },
  {
   "cell_type": "code",
   "execution_count": null,
   "metadata": {},
   "outputs": [],
   "source": [
    "data_lake_prd_314410_cz_canais.groupby('Categoria').size().reset_index(name='Counts').sort_values(by='Counts', ascending=False)"
   ]
  },
  {
   "cell_type": "code",
   "execution_count": null,
   "metadata": {},
   "outputs": [],
   "source": [
    "data_lake_prd_314410_cz_canais.groupby('Categoria_ID').size().reset_index(name='Counts').sort_values(by='Counts', ascending=False)"
   ]
  },
  {
   "cell_type": "code",
   "execution_count": null,
   "metadata": {},
   "outputs": [],
   "source": [
    "data_lake_prd_314410_cz_canais.groupby('Modelo_ID').size().reset_index(name='Counts').sort_values(by='Counts', ascending=False)"
   ]
  },
  {
   "cell_type": "code",
   "execution_count": null,
   "metadata": {},
   "outputs": [],
   "source": [
    "hotel_city_chanel_combin_extract  = pd.read_csv('c:\\\\Users\\\\paulo\\\\Desktop\\\\hotels brazil\\\\data\\\\other\\\\hotel_city_chanel_combin_extract.csv')\n",
    "hotel_city_chanel_combin_extract.dropna(inplace=True)\n",
    "hotel_city_chanel_combin_extract.drop(columns=['Cidade_ID'], inplace=True)\n",
    "hotel_city_chanel_combin_extract.drop_duplicates(inplace=True)\n",
    "hotel_city_chanel_combin_extract"
   ]
  },
  {
   "cell_type": "code",
   "execution_count": null,
   "metadata": {},
   "outputs": [],
   "source": [
    "# Pivot the table\n",
    "pivot_table = hotel_city_chanel_combin_extract.pivot_table(index='Hotel_ID', columns='Canal_ID', aggfunc='size', fill_value=0)\n",
    "\n",
    "# Convert the table to binary (1 where the combination existed, 0 otherwise)\n",
    "pivot_table = pivot_table.map(lambda x: 1 if x > 0 else 0)\n",
    "\n",
    "pivot_table"
   ]
  },
  {
   "cell_type": "code",
   "execution_count": null,
   "metadata": {},
   "outputs": [],
   "source": [
    "# Count the number of 1s for each column\n",
    "counts_per_channel = pivot_table.sum().sort_values(ascending=False)\n",
    "counts_per_channel"
   ]
  },
  {
   "cell_type": "code",
   "execution_count": null,
   "metadata": {},
   "outputs": [],
   "source": [
    "pivot_table.loc[0:10:,0:10]"
   ]
  },
  {
   "cell_type": "code",
   "execution_count": null,
   "metadata": {},
   "outputs": [],
   "source": [
    "def prepare_data_test(df):\n",
    "    ratings = []\n",
    "    for hotel in df.index:\n",
    "        for channel in df.columns:\n",
    "            ratings.append((hotel, channel, df.loc[hotel, channel]))\n",
    "                          \n",
    "    return(ratings)\n",
    "\n",
    "prepare_data_test(pivot_table.loc[0:10:,0:10])"
   ]
  },
  {
   "cell_type": "code",
   "execution_count": 44,
   "metadata": {},
   "outputs": [],
   "source": [
    "# Step 1: Prepare the data matrix\n",
    "def prepare_data(df):\n",
    "    ratings = []\n",
    "    for hotel in df.index:\n",
    "        for channel in df.columns:\n",
    "            ratings.append((hotel, channel, df.loc[hotel, channel]))\n",
    "\n",
    "    ratings_df = pd.DataFrame(ratings, columns=['hotel', 'channel', 'rating'])\n",
    "    reader = Reader(rating_scale=(0, 1))\n",
    "    return Dataset.load_from_df(ratings_df, reader)\n"
   ]
  },
  {
   "cell_type": "code",
   "execution_count": 45,
   "metadata": {},
   "outputs": [],
   "source": [
    "# Step 2: Train the model\n",
    "def train_model(data):\n",
    "    trainset, testset = train_test_split(data, test_size=0.25, random_state=42)\n",
    "    model = SVD(n_factors=100, n_epochs=20, lr_all=0.005, reg_all=0.02)\n",
    "    model.fit(trainset)\n",
    "    return model\n"
   ]
  },
  {
   "cell_type": "code",
   "execution_count": 46,
   "metadata": {},
   "outputs": [],
   "source": [
    "# Step 3: Generate recommendations\n",
    "def get_top_n_recommendations(predictions, n=5):\n",
    "    top_n = defaultdict(list)\n",
    "    for uid, iid, true_r, est, _ in predictions:\n",
    "        top_n[uid].append((iid, est))\n",
    "    \n",
    "    for uid, user_ratings in top_n.items():\n",
    "        user_ratings.sort(key=lambda x: x[1], reverse=True)\n",
    "        top_n[uid] = user_ratings[:n]\n",
    "    \n",
    "    return top_n"
   ]
  },
  {
   "cell_type": "code",
   "execution_count": 47,
   "metadata": {},
   "outputs": [],
   "source": [
    "# Step 4: Recommend channels\n",
    "def recommend_channels(hotel_id, model, data, n=5):\n",
    "    iids = data.df['channel'].unique()\n",
    "    testset = [(hotel_id, iid, 0) for iid in iids]\n",
    "    predictions = model.test(testset)\n",
    "    top_n = get_top_n_recommendations(predictions, n)\n",
    "    return top_n[hotel_id]"
   ]
  },
  {
   "cell_type": "code",
   "execution_count": 52,
   "metadata": {},
   "outputs": [],
   "source": [
    "# Main execution\n",
    "df = pivot_table\n",
    "data = prepare_data(df)\n",
    "model = train_model(data)\n"
   ]
  },
  {
   "cell_type": "code",
   "execution_count": null,
   "metadata": {},
   "outputs": [],
   "source": [
    "\n",
    "# Example usage\n",
    "hotel_id = df.index[52]  # Choose a hotel\n",
    "\n",
    "recommendations = recommend_channels(hotel_id, model, data, n=50)\n",
    "\n",
    "print(f\"Recommended channels for hotel {hotel_id:.0f}:\")\n",
    "\n",
    "for channel, score in recommendations:\n",
    "    print(f\"{channel}: {score:.4f}\")"
   ]
  },
  {
   "cell_type": "code",
   "execution_count": null,
   "metadata": {},
   "outputs": [],
   "source": [
    "1145\n",
    "810\n",
    "104\n",
    "791\n",
    "908\n",
    "1195\n",
    "1168\n",
    "1234\n",
    "440\n",
    "833\n",
    "608\n",
    "903\n",
    "124\n",
    "1181\n",
    "71\n",
    "607\n",
    "396\n",
    "594\n",
    "256\n",
    "201"
   ]
  },
  {
   "cell_type": "code",
   "execution_count": null,
   "metadata": {},
   "outputs": [],
   "source": [
    "hotel_city_chanel_combin_extract  = pd.read_csv('c:\\\\Users\\\\paulo\\\\Desktop\\\\hotels brazil\\\\data\\\\other\\\\hotel_city_chanel_combin_extract.csv')\n",
    "hotel_city_chanel_combin_extract[hotel_city_chanel_combin_extract['Hotel_ID']==413]"
   ]
  },
  {
   "cell_type": "code",
   "execution_count": null,
   "metadata": {},
   "outputs": [],
   "source": [
    "data_lake_prd_314410_cz_canais[data_lake_prd_314410_cz_canais['Canal_ID'] == 496 ]"
   ]
  },
  {
   "cell_type": "code",
   "execution_count": 78,
   "metadata": {},
   "outputs": [],
   "source": [
    "# Define the vector of Canal_IDs\n",
    "canal_ids = [496, 810, 1145]\n"
   ]
  },
  {
   "cell_type": "code",
   "execution_count": null,
   "metadata": {
    "vscode": {
     "languageId": "powershell"
    }
   },
   "outputs": [],
   "source": [
    "data_lake_prd_314410_cz_canais[data_lake_prd_314410_cz_canais['Canal_ID'].isin(canal_ids)]\n"
   ]
  },
  {
   "cell_type": "code",
   "execution_count": null,
   "metadata": {},
   "outputs": [],
   "source": []
  },
  {
   "cell_type": "code",
   "execution_count": null,
   "metadata": {},
   "outputs": [],
   "source": []
  }
 ],
 "metadata": {
  "kernelspec": {
   "display_name": "Python 3",
   "language": "python",
   "name": "python3"
  },
  "language_info": {
   "codemirror_mode": {
    "name": "ipython",
    "version": 3
   },
   "file_extension": ".py",
   "mimetype": "text/x-python",
   "name": "python",
   "nbconvert_exporter": "python",
   "pygments_lexer": "ipython3",
   "version": "3.10.6"
  }
 },
 "nbformat": 4,
 "nbformat_minor": 2
}
